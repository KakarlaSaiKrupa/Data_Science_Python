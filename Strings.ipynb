{
  "nbformat": 4,
  "nbformat_minor": 0,
  "metadata": {
    "colab": {
      "provenance": []
    },
    "kernelspec": {
      "name": "python3",
      "display_name": "Python 3"
    },
    "language_info": {
      "name": "python"
    }
  },
  "cells": [
    {
      "cell_type": "markdown",
      "source": [
        "- `Memory allocation\n",
        "- ` Indexing\n",
        "- ` Slicing\n",
        "- ` Skipping\n",
        "- ` Mutable or Imutable\n",
        "- ` Built_in_functions in Strings"
      ],
      "metadata": {
        "id": "8RQf6osRu1ju"
      }
    },
    {
      "cell_type": "code",
      "execution_count": null,
      "metadata": {
        "colab": {
          "base_uri": "https://localhost:8080/"
        },
        "id": "JlLqhS8vuq8h",
        "outputId": "e0078a1a-94d0-4786-811c-dcb2203fced4"
      },
      "outputs": [
        {
          "output_type": "stream",
          "name": "stdout",
          "text": [
            "data\n"
          ]
        }
      ],
      "source": [
        "a='data'\n",
        "print(a)"
      ]
    },
    {
      "cell_type": "markdown",
      "source": [
        "indexing- to know address ,ascii num...to replace and remove certain character\n",
        "\n"
      ],
      "metadata": {
        "id": "TS8Bz4Xyv5C_"
      }
    },
    {
      "cell_type": "code",
      "source": [
        "a='data'\n",
        "print(a[2])"
      ],
      "metadata": {
        "colab": {
          "base_uri": "https://localhost:8080/"
        },
        "id": "_9SQ2d0MvQVL",
        "outputId": "3bcf345d-2bf3-4d6f-8eb6-06655fed46e7"
      },
      "execution_count": null,
      "outputs": [
        {
          "output_type": "stream",
          "name": "stdout",
          "text": [
            "t\n"
          ]
        }
      ]
    },
    {
      "cell_type": "code",
      "source": [
        "a='data'\n",
        "print(a[1])"
      ],
      "metadata": {
        "colab": {
          "base_uri": "https://localhost:8080/"
        },
        "id": "8EaT8qvuvTKJ",
        "outputId": "1ee3fd3f-127d-47bb-a081-e53ba311c143"
      },
      "execution_count": null,
      "outputs": [
        {
          "output_type": "stream",
          "name": "stdout",
          "text": [
            "a\n"
          ]
        }
      ]
    },
    {
      "cell_type": "code",
      "source": [
        "a='data science'\n",
        "print(a[6])\n",
        "print(a[9])"
      ],
      "metadata": {
        "colab": {
          "base_uri": "https://localhost:8080/"
        },
        "id": "mnvERWYXvWrb",
        "outputId": "90b91a67-9ebc-4879-8100-58913d08ce48"
      },
      "execution_count": null,
      "outputs": [
        {
          "output_type": "stream",
          "name": "stdout",
          "text": [
            "c\n",
            "n\n"
          ]
        }
      ]
    },
    {
      "cell_type": "markdown",
      "source": [
        "slicing- to access group of characters at a time\n",
        "\n",
        "syntax- [start_value:end_value]"
      ],
      "metadata": {
        "id": "kIPS40R3wJnR"
      }
    },
    {
      "cell_type": "code",
      "source": [
        "print(a[2:6])"
      ],
      "metadata": {
        "colab": {
          "base_uri": "https://localhost:8080/"
        },
        "id": "BxsGoQBZwayA",
        "outputId": "4860e025-f4a6-4fe5-be93-df1a30a30e6d"
      },
      "execution_count": null,
      "outputs": [
        {
          "output_type": "stream",
          "name": "stdout",
          "text": [
            "ta s\n"
          ]
        }
      ]
    },
    {
      "cell_type": "code",
      "source": [
        "print(a[2:9])"
      ],
      "metadata": {
        "colab": {
          "base_uri": "https://localhost:8080/"
        },
        "id": "ysQGSG2JwfR-",
        "outputId": "d768d802-9166-4aea-d81d-e86c0a5a9aec"
      },
      "execution_count": null,
      "outputs": [
        {
          "output_type": "stream",
          "name": "stdout",
          "text": [
            "ta scie\n"
          ]
        }
      ]
    },
    {
      "cell_type": "code",
      "source": [
        "print(a[::])"
      ],
      "metadata": {
        "colab": {
          "base_uri": "https://localhost:8080/"
        },
        "id": "jSbdh2_Ownw5",
        "outputId": "2bf39e84-1bde-44de-e850-7ceb5250b18d"
      },
      "execution_count": null,
      "outputs": [
        {
          "output_type": "stream",
          "name": "stdout",
          "text": [
            "data science\n"
          ]
        }
      ]
    },
    {
      "cell_type": "code",
      "source": [
        "print(a[2:])"
      ],
      "metadata": {
        "colab": {
          "base_uri": "https://localhost:8080/"
        },
        "id": "fL71SJUlwsA8",
        "outputId": "f0a3314b-58c4-4cf3-d184-e49aec015dce"
      },
      "execution_count": null,
      "outputs": [
        {
          "output_type": "stream",
          "name": "stdout",
          "text": [
            "ta science\n"
          ]
        }
      ]
    },
    {
      "cell_type": "code",
      "source": [
        "print(a[:11])"
      ],
      "metadata": {
        "colab": {
          "base_uri": "https://localhost:8080/"
        },
        "id": "AAGtgai9w_yH",
        "outputId": "a27eb5c1-7a73-4f25-bc61-0135c9dc5e35"
      },
      "execution_count": null,
      "outputs": [
        {
          "output_type": "stream",
          "name": "stdout",
          "text": [
            "data scienc\n"
          ]
        }
      ]
    },
    {
      "cell_type": "code",
      "source": [
        "print(a[:12])"
      ],
      "metadata": {
        "colab": {
          "base_uri": "https://localhost:8080/"
        },
        "id": "YhEdKNAexHsj",
        "outputId": "ad9ff29b-e034-4b7a-9dfe-b02e2ace6093"
      },
      "execution_count": null,
      "outputs": [
        {
          "output_type": "stream",
          "name": "stdout",
          "text": [
            "data science\n"
          ]
        }
      ]
    },
    {
      "cell_type": "code",
      "source": [
        "print(a[:10])"
      ],
      "metadata": {
        "colab": {
          "base_uri": "https://localhost:8080/"
        },
        "id": "U0Jq-iEzw0V-",
        "outputId": "89fe2d1d-8151-47ae-87e8-a8cf7babc6d3"
      },
      "execution_count": null,
      "outputs": [
        {
          "output_type": "stream",
          "name": "stdout",
          "text": [
            "data scien\n"
          ]
        }
      ]
    },
    {
      "cell_type": "code",
      "source": [
        "print(a[1:11:1])"
      ],
      "metadata": {
        "colab": {
          "base_uri": "https://localhost:8080/"
        },
        "id": "8kdj1TkAxV0K",
        "outputId": "d4d8ab20-ce13-448f-b98c-390246c99196"
      },
      "execution_count": null,
      "outputs": [
        {
          "output_type": "stream",
          "name": "stdout",
          "text": [
            "ata scienc\n"
          ]
        }
      ]
    },
    {
      "cell_type": "code",
      "source": [
        "print(a[0:12:2])"
      ],
      "metadata": {
        "colab": {
          "base_uri": "https://localhost:8080/"
        },
        "id": "FnOqaa2sxqTz",
        "outputId": "186765fc-d06c-4c87-e387-f3b738ca9dc2"
      },
      "execution_count": null,
      "outputs": [
        {
          "output_type": "stream",
          "name": "stdout",
          "text": [
            "dt cec\n"
          ]
        }
      ]
    },
    {
      "cell_type": "code",
      "source": [
        "print(a[0:12:3])"
      ],
      "metadata": {
        "colab": {
          "base_uri": "https://localhost:8080/"
        },
        "id": "0nqjK8ZzyHDI",
        "outputId": "2a667f04-35ef-4f42-a4ac-d3db970fb2de"
      },
      "execution_count": null,
      "outputs": [
        {
          "output_type": "stream",
          "name": "stdout",
          "text": [
            "dacn\n"
          ]
        }
      ]
    },
    {
      "cell_type": "code",
      "source": [
        "print(a[2:12:2])"
      ],
      "metadata": {
        "colab": {
          "base_uri": "https://localhost:8080/"
        },
        "id": "0OHkWmELxdSj",
        "outputId": "083677a8-e425-43a0-cb5b-ff23ed8ff6fb"
      },
      "execution_count": null,
      "outputs": [
        {
          "output_type": "stream",
          "name": "stdout",
          "text": [
            "t cec\n"
          ]
        }
      ]
    },
    {
      "cell_type": "markdown",
      "source": [
        "Skipping\n",
        "\n",
        "syntax- [start_value:end_value:skip value]\n"
      ],
      "metadata": {
        "id": "eBCTRO8gvl12"
      }
    },
    {
      "cell_type": "code",
      "source": [
        "print(a[::2])"
      ],
      "metadata": {
        "colab": {
          "base_uri": "https://localhost:8080/"
        },
        "id": "6Ff-Cx6RvfEd",
        "outputId": "9c5a4ac2-67fb-4abe-aab2-4e5eca6b9734"
      },
      "execution_count": null,
      "outputs": [
        {
          "output_type": "stream",
          "name": "stdout",
          "text": [
            "dt cec\n"
          ]
        }
      ]
    },
    {
      "cell_type": "code",
      "source": [
        "print(a[::3])"
      ],
      "metadata": {
        "colab": {
          "base_uri": "https://localhost:8080/"
        },
        "id": "qudSrktjvh5Y",
        "outputId": "affcf4e1-d12e-46e0-8267-b20c724c3adf"
      },
      "execution_count": null,
      "outputs": [
        {
          "output_type": "stream",
          "name": "stdout",
          "text": [
            "dacn\n"
          ]
        }
      ]
    },
    {
      "cell_type": "code",
      "source": [
        "print(a[-1::])"
      ],
      "metadata": {
        "colab": {
          "base_uri": "https://localhost:8080/"
        },
        "id": "Ob1rL_SFvkso",
        "outputId": "0054d30e-8cbf-4608-a099-c19a2a49d017"
      },
      "execution_count": null,
      "outputs": [
        {
          "output_type": "stream",
          "name": "stdout",
          "text": [
            "e\n"
          ]
        }
      ]
    },
    {
      "cell_type": "code",
      "source": [
        "print(a[::-1])"
      ],
      "metadata": {
        "colab": {
          "base_uri": "https://localhost:8080/"
        },
        "id": "D0lPZI1hylil",
        "outputId": "8cfdaa45-f193-4320-d074-c95a92dd9b0d"
      },
      "execution_count": null,
      "outputs": [
        {
          "output_type": "stream",
          "name": "stdout",
          "text": [
            "ecneics atad\n"
          ]
        }
      ]
    },
    {
      "cell_type": "code",
      "source": [
        "print(a[::6])"
      ],
      "metadata": {
        "colab": {
          "base_uri": "https://localhost:8080/"
        },
        "id": "HZm2uw5ryqYN",
        "outputId": "7c0d1f5a-7bee-4a47-e9ef-6caa732fede2"
      },
      "execution_count": null,
      "outputs": [
        {
          "output_type": "stream",
          "name": "stdout",
          "text": [
            "dc\n"
          ]
        }
      ]
    },
    {
      "cell_type": "code",
      "source": [
        "print(a[::-1])"
      ],
      "metadata": {
        "colab": {
          "base_uri": "https://localhost:8080/"
        },
        "id": "zFDs4Y5vy4hR",
        "outputId": "c5d66a0f-b481-4393-ad8c-a05ea2680992"
      },
      "execution_count": null,
      "outputs": [
        {
          "output_type": "stream",
          "name": "stdout",
          "text": [
            "ecneics atad\n"
          ]
        }
      ]
    },
    {
      "cell_type": "code",
      "source": [
        "print(a[::-2])"
      ],
      "metadata": {
        "colab": {
          "base_uri": "https://localhost:8080/"
        },
        "id": "ITPaGLm4zPWy",
        "outputId": "c6205552-4c20-4cbf-fe24-07553f4b2469"
      },
      "execution_count": null,
      "outputs": [
        {
          "output_type": "stream",
          "name": "stdout",
          "text": [
            "enisaa\n"
          ]
        }
      ]
    },
    {
      "cell_type": "markdown",
      "source": [
        "**MUTABLE OR IMMUTABLE**\n",
        "\n",
        "MUTABLE-> if user can increase or decrease memory\n",
        "\n",
        "IMMUTABLE-> user can't increase or decrease memory"
      ],
      "metadata": {
        "id": "RlQl9jAqZgh9"
      }
    },
    {
      "cell_type": "code",
      "source": [
        "#trying to add\n",
        "a='sai'\n",
        "a[3]='k'\n",
        "print(a)"
      ],
      "metadata": {
        "id": "EJcdujnlzWtn",
        "colab": {
          "base_uri": "https://localhost:8080/",
          "height": 193
        },
        "outputId": "88a5a7f4-3539-4b25-a8df-d45419581232"
      },
      "execution_count": null,
      "outputs": [
        {
          "output_type": "error",
          "ename": "TypeError",
          "evalue": "'str' object does not support item assignment",
          "traceback": [
            "\u001b[0;31m---------------------------------------------------------------------------\u001b[0m",
            "\u001b[0;31mTypeError\u001b[0m                                 Traceback (most recent call last)",
            "\u001b[0;32m<ipython-input-1-58b454a572fa>\u001b[0m in \u001b[0;36m<cell line: 3>\u001b[0;34m()\u001b[0m\n\u001b[1;32m      1\u001b[0m \u001b[0;31m#trying to add\u001b[0m\u001b[0;34m\u001b[0m\u001b[0;34m\u001b[0m\u001b[0m\n\u001b[1;32m      2\u001b[0m \u001b[0ma\u001b[0m\u001b[0;34m=\u001b[0m\u001b[0;34m'sai'\u001b[0m\u001b[0;34m\u001b[0m\u001b[0;34m\u001b[0m\u001b[0m\n\u001b[0;32m----> 3\u001b[0;31m \u001b[0ma\u001b[0m\u001b[0;34m[\u001b[0m\u001b[0;36m3\u001b[0m\u001b[0;34m]\u001b[0m\u001b[0;34m=\u001b[0m\u001b[0;34m'k'\u001b[0m\u001b[0;34m\u001b[0m\u001b[0;34m\u001b[0m\u001b[0m\n\u001b[0m\u001b[1;32m      4\u001b[0m \u001b[0mprint\u001b[0m\u001b[0;34m(\u001b[0m\u001b[0ma\u001b[0m\u001b[0;34m)\u001b[0m\u001b[0;34m\u001b[0m\u001b[0;34m\u001b[0m\u001b[0m\n",
            "\u001b[0;31mTypeError\u001b[0m: 'str' object does not support item assignment"
          ]
        }
      ]
    },
    {
      "cell_type": "code",
      "source": [
        "#trying to del\n",
        "a='sai'\n",
        "del a[2]\n",
        "print(a)"
      ],
      "metadata": {
        "colab": {
          "base_uri": "https://localhost:8080/",
          "height": 193
        },
        "id": "0o_EQ23UbOIl",
        "outputId": "8c0cdd14-9b38-4b14-9a6d-145c26eacee4"
      },
      "execution_count": null,
      "outputs": [
        {
          "output_type": "error",
          "ename": "TypeError",
          "evalue": "'str' object doesn't support item deletion",
          "traceback": [
            "\u001b[0;31m---------------------------------------------------------------------------\u001b[0m",
            "\u001b[0;31mTypeError\u001b[0m                                 Traceback (most recent call last)",
            "\u001b[0;32m<ipython-input-3-dbe5b0a55c3d>\u001b[0m in \u001b[0;36m<cell line: 3>\u001b[0;34m()\u001b[0m\n\u001b[1;32m      1\u001b[0m \u001b[0;31m#trying to del\u001b[0m\u001b[0;34m\u001b[0m\u001b[0;34m\u001b[0m\u001b[0m\n\u001b[1;32m      2\u001b[0m \u001b[0ma\u001b[0m\u001b[0;34m=\u001b[0m\u001b[0;34m'sai'\u001b[0m\u001b[0;34m\u001b[0m\u001b[0;34m\u001b[0m\u001b[0m\n\u001b[0;32m----> 3\u001b[0;31m \u001b[0;32mdel\u001b[0m \u001b[0ma\u001b[0m\u001b[0;34m[\u001b[0m\u001b[0;36m2\u001b[0m\u001b[0;34m]\u001b[0m\u001b[0;34m\u001b[0m\u001b[0;34m\u001b[0m\u001b[0m\n\u001b[0m\u001b[1;32m      4\u001b[0m \u001b[0mprint\u001b[0m\u001b[0;34m(\u001b[0m\u001b[0ma\u001b[0m\u001b[0;34m)\u001b[0m\u001b[0;34m\u001b[0m\u001b[0;34m\u001b[0m\u001b[0m\n",
            "\u001b[0;31mTypeError\u001b[0m: 'str' object doesn't support item deletion"
          ]
        }
      ]
    },
    {
      "cell_type": "markdown",
      "source": [
        "##from above outcomes we conclude string is immutable"
      ],
      "metadata": {
        "id": "Flaiy0sOboiS"
      }
    },
    {
      "cell_type": "markdown",
      "source": [
        "#Built_in_functions\n",
        "Captalize\n",
        "\n",
        "title\n",
        "\n",
        "lower\n",
        "\n",
        "upper\n",
        "\n",
        "islower\n",
        "\n",
        "isupper\n",
        "\n",
        "startswith\n",
        "\n",
        "endswith\n",
        "\n",
        "isalpha\n",
        "\n",
        "isnumeric\n",
        "\n",
        "isalnum\n",
        "\n",
        "count\n",
        "\n",
        "index\n",
        "---------------------------\n",
        "membership concept\n",
        "\n",
        "len\n",
        "\n",
        "ascii concept"
      ],
      "metadata": {
        "id": "H8CGnbSrbzua"
      }
    },
    {
      "cell_type": "markdown",
      "source": [
        "string built_in functions will print"
      ],
      "metadata": {
        "id": "j-v1gVGIct6o"
      }
    },
    {
      "cell_type": "code",
      "source": [
        "dir(str)"
      ],
      "metadata": {
        "colab": {
          "base_uri": "https://localhost:8080/"
        },
        "id": "Z0Y7qBZlbbUt",
        "outputId": "7653725a-bf54-4e23-ac40-8cc425f337b1"
      },
      "execution_count": null,
      "outputs": [
        {
          "output_type": "execute_result",
          "data": {
            "text/plain": [
              "['__add__',\n",
              " '__class__',\n",
              " '__contains__',\n",
              " '__delattr__',\n",
              " '__dir__',\n",
              " '__doc__',\n",
              " '__eq__',\n",
              " '__format__',\n",
              " '__ge__',\n",
              " '__getattribute__',\n",
              " '__getitem__',\n",
              " '__getnewargs__',\n",
              " '__gt__',\n",
              " '__hash__',\n",
              " '__init__',\n",
              " '__init_subclass__',\n",
              " '__iter__',\n",
              " '__le__',\n",
              " '__len__',\n",
              " '__lt__',\n",
              " '__mod__',\n",
              " '__mul__',\n",
              " '__ne__',\n",
              " '__new__',\n",
              " '__reduce__',\n",
              " '__reduce_ex__',\n",
              " '__repr__',\n",
              " '__rmod__',\n",
              " '__rmul__',\n",
              " '__setattr__',\n",
              " '__sizeof__',\n",
              " '__str__',\n",
              " '__subclasshook__',\n",
              " 'capitalize',\n",
              " 'casefold',\n",
              " 'center',\n",
              " 'count',\n",
              " 'encode',\n",
              " 'endswith',\n",
              " 'expandtabs',\n",
              " 'find',\n",
              " 'format',\n",
              " 'format_map',\n",
              " 'index',\n",
              " 'isalnum',\n",
              " 'isalpha',\n",
              " 'isascii',\n",
              " 'isdecimal',\n",
              " 'isdigit',\n",
              " 'isidentifier',\n",
              " 'islower',\n",
              " 'isnumeric',\n",
              " 'isprintable',\n",
              " 'isspace',\n",
              " 'istitle',\n",
              " 'isupper',\n",
              " 'join',\n",
              " 'ljust',\n",
              " 'lower',\n",
              " 'lstrip',\n",
              " 'maketrans',\n",
              " 'partition',\n",
              " 'removeprefix',\n",
              " 'removesuffix',\n",
              " 'replace',\n",
              " 'rfind',\n",
              " 'rindex',\n",
              " 'rjust',\n",
              " 'rpartition',\n",
              " 'rsplit',\n",
              " 'rstrip',\n",
              " 'split',\n",
              " 'splitlines',\n",
              " 'startswith',\n",
              " 'strip',\n",
              " 'swapcase',\n",
              " 'title',\n",
              " 'translate',\n",
              " 'upper',\n",
              " 'zfill']"
            ]
          },
          "metadata": {},
          "execution_count": 4
        }
      ]
    },
    {
      "cell_type": "code",
      "source": [
        "len(dir(str))"
      ],
      "metadata": {
        "colab": {
          "base_uri": "https://localhost:8080/"
        },
        "id": "cB8t7welcpvt",
        "outputId": "09151bd0-f542-40d6-e1bd-eb2a80726546"
      },
      "execution_count": null,
      "outputs": [
        {
          "output_type": "execute_result",
          "data": {
            "text/plain": [
              "80"
            ]
          },
          "metadata": {},
          "execution_count": 5
        }
      ]
    },
    {
      "cell_type": "code",
      "source": [
        "a='sai'\n",
        "print(len(a))"
      ],
      "metadata": {
        "colab": {
          "base_uri": "https://localhost:8080/"
        },
        "id": "QG7t1jtJc5S_",
        "outputId": "ae89c9bc-2f39-4a51-df9f-2da9589898ad"
      },
      "execution_count": null,
      "outputs": [
        {
          "output_type": "stream",
          "name": "stdout",
          "text": [
            "3\n"
          ]
        }
      ]
    },
    {
      "cell_type": "code",
      "source": [
        "a='sai krupa'\n",
        "print(len(a))"
      ],
      "metadata": {
        "colab": {
          "base_uri": "https://localhost:8080/"
        },
        "id": "2E0w0_V-c9BN",
        "outputId": "66d40f45-eb80-4db3-89e6-b8ea903cefea"
      },
      "execution_count": null,
      "outputs": [
        {
          "output_type": "stream",
          "name": "stdout",
          "text": [
            "9\n"
          ]
        }
      ]
    },
    {
      "cell_type": "markdown",
      "source": [
        "#capitalize: it will capital the starting letter"
      ],
      "metadata": {
        "id": "syr3hFaQdmJM"
      }
    },
    {
      "cell_type": "code",
      "source": [
        "a='python is a SiMple languaGE'\n",
        "a.capitalize()\n",
        "print(a)"
      ],
      "metadata": {
        "colab": {
          "base_uri": "https://localhost:8080/"
        },
        "id": "kiqrfy1zdCHE",
        "outputId": "e6dc29d8-fcd7-433a-b9a1-03f8f7594c0e"
      },
      "execution_count": null,
      "outputs": [
        {
          "output_type": "stream",
          "name": "stdout",
          "text": [
            "python is a SiMple languaGE\n"
          ]
        }
      ]
    },
    {
      "cell_type": "code",
      "source": [
        "a='python is a SiMple languaGE'\n",
        "a=a.capitalize()\n",
        "print(a)"
      ],
      "metadata": {
        "colab": {
          "base_uri": "https://localhost:8080/"
        },
        "id": "DBBabX5fdRWt",
        "outputId": "ce0ac264-c77f-48d2-819f-7575ce074563"
      },
      "execution_count": null,
      "outputs": [
        {
          "output_type": "stream",
          "name": "stdout",
          "text": [
            "Python is a simple language\n"
          ]
        }
      ]
    },
    {
      "cell_type": "code",
      "source": [
        "a='sai krupa'\n",
        "a=a.capitalize()\n",
        "print(a)"
      ],
      "metadata": {
        "colab": {
          "base_uri": "https://localhost:8080/"
        },
        "id": "EyqQsG95eIAq",
        "outputId": "1dc350a9-9aed-4e49-a525-d1d56847fb53"
      },
      "execution_count": null,
      "outputs": [
        {
          "output_type": "stream",
          "name": "stdout",
          "text": [
            "Sai krupa\n"
          ]
        }
      ]
    },
    {
      "cell_type": "markdown",
      "source": [
        "#title: it will capital each word starting letter into capital"
      ],
      "metadata": {
        "id": "XLNUTvbydw8Y"
      }
    },
    {
      "cell_type": "code",
      "source": [
        "a='python Is a Object oriented language'\n",
        "a=a.title()\n",
        "print(a)"
      ],
      "metadata": {
        "colab": {
          "base_uri": "https://localhost:8080/"
        },
        "id": "3bY1mDshd5Tl",
        "outputId": "172a9076-13ed-435c-ee9d-8cea25c959eb"
      },
      "execution_count": null,
      "outputs": [
        {
          "output_type": "stream",
          "name": "stdout",
          "text": [
            "Python Is A Object Oriented Language\n"
          ]
        }
      ]
    },
    {
      "cell_type": "markdown",
      "source": [
        "#lower-small letter-capital letters are converted into small letters"
      ],
      "metadata": {
        "id": "_cy_v7V_eTmK"
      }
    },
    {
      "cell_type": "code",
      "source": [
        "a='saI'\n",
        "a=a.lower()\n",
        "print(a)"
      ],
      "metadata": {
        "colab": {
          "base_uri": "https://localhost:8080/"
        },
        "id": "1nOyBeFrdbUU",
        "outputId": "2114a27e-4104-407b-a53a-70cc7a9ca243"
      },
      "execution_count": null,
      "outputs": [
        {
          "output_type": "stream",
          "name": "stdout",
          "text": [
            "sai\n"
          ]
        }
      ]
    },
    {
      "cell_type": "code",
      "source": [
        "a='AmeriCA'\n",
        "a=a.lower()\n",
        "print(a)"
      ],
      "metadata": {
        "colab": {
          "base_uri": "https://localhost:8080/"
        },
        "id": "8MtNJY2-e3YJ",
        "outputId": "cf3e0d6b-6059-453e-8634-92cd9115e6e1"
      },
      "execution_count": null,
      "outputs": [
        {
          "output_type": "stream",
          "name": "stdout",
          "text": [
            "america\n"
          ]
        }
      ]
    },
    {
      "cell_type": "markdown",
      "source": [
        "#upper-capital letter,small letters are converted into capital letters"
      ],
      "metadata": {
        "id": "rP-toQJQfPLu"
      }
    },
    {
      "cell_type": "code",
      "source": [
        "a='sai'\n",
        "a=a.upper()\n",
        "print(a)"
      ],
      "metadata": {
        "colab": {
          "base_uri": "https://localhost:8080/"
        },
        "id": "BOSCZUw7fCzY",
        "outputId": "987d27a1-50ca-4bc4-9467-8a850f64e1ee"
      },
      "execution_count": null,
      "outputs": [
        {
          "output_type": "stream",
          "name": "stdout",
          "text": [
            "SAI\n"
          ]
        }
      ]
    },
    {
      "cell_type": "code",
      "source": [
        "a='AmeriCA'\n",
        "a=a.upper()\n",
        "print(a)"
      ],
      "metadata": {
        "colab": {
          "base_uri": "https://localhost:8080/"
        },
        "id": "QYjoT0FCfnci",
        "outputId": "21e7754c-76af-43cf-9cfe-d790a60ab204"
      },
      "execution_count": null,
      "outputs": [
        {
          "output_type": "stream",
          "name": "stdout",
          "text": [
            "AMERICA\n"
          ]
        }
      ]
    },
    {
      "cell_type": "markdown",
      "source": [
        "#islower-> it checks whether all are small letters or not if it is says True not False"
      ],
      "metadata": {
        "id": "Pmzprpgcf0OA"
      }
    },
    {
      "cell_type": "code",
      "source": [
        "a='AmeriCA'\n",
        "print(a.islower())"
      ],
      "metadata": {
        "colab": {
          "base_uri": "https://localhost:8080/"
        },
        "id": "JweiPlbQfydR",
        "outputId": "cadfa2b2-3207-407d-b15d-865691ad9dfb"
      },
      "execution_count": null,
      "outputs": [
        {
          "output_type": "stream",
          "name": "stdout",
          "text": [
            "False\n"
          ]
        }
      ]
    },
    {
      "cell_type": "code",
      "source": [
        "a='america'\n",
        "print(a.islower())"
      ],
      "metadata": {
        "colab": {
          "base_uri": "https://localhost:8080/"
        },
        "id": "S_DRqr2hg-Ij",
        "outputId": "355ed973-8dec-46ee-b077-8ff76740ca72"
      },
      "execution_count": null,
      "outputs": [
        {
          "output_type": "stream",
          "name": "stdout",
          "text": [
            "True\n"
          ]
        }
      ]
    },
    {
      "cell_type": "markdown",
      "source": [
        "#isupper-> it checks whether all are caps or not"
      ],
      "metadata": {
        "id": "EceMLDX0hNYg"
      }
    },
    {
      "cell_type": "code",
      "source": [
        "a='AmeriCA'\n",
        "print(a.isupper())"
      ],
      "metadata": {
        "colab": {
          "base_uri": "https://localhost:8080/"
        },
        "id": "MZ1DWlOMhKWh",
        "outputId": "b48fee14-cd07-45e4-9ef1-244294dc0729"
      },
      "execution_count": null,
      "outputs": [
        {
          "output_type": "stream",
          "name": "stdout",
          "text": [
            "False\n"
          ]
        }
      ]
    },
    {
      "cell_type": "code",
      "source": [
        "a='AMERICA'\n",
        "print(a.isupper())"
      ],
      "metadata": {
        "colab": {
          "base_uri": "https://localhost:8080/"
        },
        "id": "IxMQPyyzhwxL",
        "outputId": "4a545166-015a-4e4a-91f3-b8ecf16f3f7b"
      },
      "execution_count": null,
      "outputs": [
        {
          "output_type": "stream",
          "name": "stdout",
          "text": [
            "True\n"
          ]
        }
      ]
    },
    {
      "cell_type": "markdown",
      "source": [
        "#isalpha-> checks all are alphabets or not"
      ],
      "metadata": {
        "id": "Qm7Rbe5niCVR"
      }
    },
    {
      "cell_type": "code",
      "source": [
        "a='america123'\n",
        "print(a.isalpha())"
      ],
      "metadata": {
        "colab": {
          "base_uri": "https://localhost:8080/"
        },
        "id": "xYEKWh7Hh3Gf",
        "outputId": "230cade9-e49e-4b0e-9c0d-e482dbe4bec0"
      },
      "execution_count": null,
      "outputs": [
        {
          "output_type": "stream",
          "name": "stdout",
          "text": [
            "False\n"
          ]
        }
      ]
    },
    {
      "cell_type": "code",
      "source": [
        "a='america'\n",
        "print(a.isalpha())"
      ],
      "metadata": {
        "colab": {
          "base_uri": "https://localhost:8080/"
        },
        "id": "WfwifzzHjCo2",
        "outputId": "699be8c0-e871-4110-c580-bd775f1aba28"
      },
      "execution_count": null,
      "outputs": [
        {
          "output_type": "stream",
          "name": "stdout",
          "text": [
            "True\n"
          ]
        }
      ]
    },
    {
      "cell_type": "code",
      "source": [
        "a='12345'\n",
        "print(a.isalpha())"
      ],
      "metadata": {
        "colab": {
          "base_uri": "https://localhost:8080/"
        },
        "id": "kH5nLyEkjKWy",
        "outputId": "4e7e4f2d-e256-4c54-e580-2ebdedd23447"
      },
      "execution_count": null,
      "outputs": [
        {
          "output_type": "stream",
          "name": "stdout",
          "text": [
            "False\n"
          ]
        }
      ]
    },
    {
      "cell_type": "markdown",
      "source": [
        "#isnumeric-> only numbers"
      ],
      "metadata": {
        "id": "1tVf-DASj36J"
      }
    },
    {
      "cell_type": "code",
      "source": [
        "a='12345'\n",
        "print(a.isnumeric())"
      ],
      "metadata": {
        "colab": {
          "base_uri": "https://localhost:8080/"
        },
        "id": "NsitJpBukImj",
        "outputId": "a89fa9e7-3400-412e-d6d6-b4dca3bb711b"
      },
      "execution_count": null,
      "outputs": [
        {
          "output_type": "stream",
          "name": "stdout",
          "text": [
            "True\n"
          ]
        }
      ]
    },
    {
      "cell_type": "code",
      "source": [
        "a='python123'\n",
        "print(a.isnumeric())"
      ],
      "metadata": {
        "colab": {
          "base_uri": "https://localhost:8080/"
        },
        "id": "YPw9znOijaUN",
        "outputId": "d7c232c7-5c38-42ab-8704-90e936c660d1"
      },
      "execution_count": null,
      "outputs": [
        {
          "output_type": "stream",
          "name": "stdout",
          "text": [
            "False\n"
          ]
        }
      ]
    },
    {
      "cell_type": "markdown",
      "source": [
        "#isalnum-> we can have anything num or text"
      ],
      "metadata": {
        "id": "EkRgDbsPlxyK"
      }
    },
    {
      "cell_type": "code",
      "source": [
        "a='python'\n",
        "print(a.isalnum())"
      ],
      "metadata": {
        "colab": {
          "base_uri": "https://localhost:8080/"
        },
        "id": "1TWpXy-vkHYp",
        "outputId": "750e9708-ac1c-4be3-e194-0b3ce9738013"
      },
      "execution_count": null,
      "outputs": [
        {
          "output_type": "stream",
          "name": "stdout",
          "text": [
            "True\n"
          ]
        }
      ]
    },
    {
      "cell_type": "code",
      "source": [
        "a='12345'\n",
        "print(a.isalnum())"
      ],
      "metadata": {
        "colab": {
          "base_uri": "https://localhost:8080/"
        },
        "id": "v7a8BnDLmNUu",
        "outputId": "c4d0f8fa-b738-4450-8981-2bdca731ba6e"
      },
      "execution_count": null,
      "outputs": [
        {
          "output_type": "stream",
          "name": "stdout",
          "text": [
            "True\n"
          ]
        }
      ]
    },
    {
      "cell_type": "code",
      "source": [
        "a='python123'\n",
        "print(a.isalnum())"
      ],
      "metadata": {
        "colab": {
          "base_uri": "https://localhost:8080/"
        },
        "id": "3W_qKzsbmVqN",
        "outputId": "774de9e8-1662-48a0-a46b-cf205fcbc12d"
      },
      "execution_count": null,
      "outputs": [
        {
          "output_type": "stream",
          "name": "stdout",
          "text": [
            "True\n"
          ]
        }
      ]
    },
    {
      "cell_type": "code",
      "source": [
        "a='python 123'\n",
        "print(a.isalnum())"
      ],
      "metadata": {
        "colab": {
          "base_uri": "https://localhost:8080/"
        },
        "id": "hCOdPXKcme_3",
        "outputId": "5241d242-cb1e-4132-c070-a5578ceed574"
      },
      "execution_count": null,
      "outputs": [
        {
          "output_type": "stream",
          "name": "stdout",
          "text": [
            "False\n"
          ]
        }
      ]
    },
    {
      "cell_type": "markdown",
      "source": [
        "##startswith-> it checks, takes input from user and check whether it is correct or not like 'p' and checks whether it startswith p or not"
      ],
      "metadata": {
        "id": "NKb1rlFMmv9_"
      }
    },
    {
      "cell_type": "code",
      "source": [
        "a='data learning'\n",
        "print(a.startswith('p'))"
      ],
      "metadata": {
        "colab": {
          "base_uri": "https://localhost:8080/"
        },
        "id": "7oNV2y4zmt10",
        "outputId": "e2914ec9-7cc7-4a92-d8d3-e88afd09d995"
      },
      "execution_count": null,
      "outputs": [
        {
          "output_type": "stream",
          "name": "stdout",
          "text": [
            "False\n"
          ]
        }
      ]
    },
    {
      "cell_type": "code",
      "source": [
        "a='data learning'\n",
        "print(a.startswith('d'))"
      ],
      "metadata": {
        "colab": {
          "base_uri": "https://localhost:8080/"
        },
        "id": "N_0X7aISn_MY",
        "outputId": "f6202bce-b6ac-401f-9e75-d5400271bcc8"
      },
      "execution_count": null,
      "outputs": [
        {
          "output_type": "stream",
          "name": "stdout",
          "text": [
            "True\n"
          ]
        }
      ]
    },
    {
      "cell_type": "code",
      "source": [
        "a='deep learning'\n",
        "print(a.startswith('l'))"
      ],
      "metadata": {
        "colab": {
          "base_uri": "https://localhost:8080/"
        },
        "id": "1T3I9tlOoGFz",
        "outputId": "34c544c5-a1e5-4c03-9b55-4ba46cb403db"
      },
      "execution_count": null,
      "outputs": [
        {
          "output_type": "stream",
          "name": "stdout",
          "text": [
            "False\n"
          ]
        }
      ]
    },
    {
      "cell_type": "markdown",
      "source": [
        "#endswith"
      ],
      "metadata": {
        "id": "yEqemqQcoj01"
      }
    },
    {
      "cell_type": "code",
      "source": [
        "a='data learning'\n",
        "print(a.endswith('g'))"
      ],
      "metadata": {
        "colab": {
          "base_uri": "https://localhost:8080/"
        },
        "id": "EnHb2NqtohVC",
        "outputId": "7f0b0b95-fc01-41d5-e515-4974c94e9b80"
      },
      "execution_count": null,
      "outputs": [
        {
          "output_type": "stream",
          "name": "stdout",
          "text": [
            "True\n"
          ]
        }
      ]
    },
    {
      "cell_type": "code",
      "source": [
        "a='data learning'\n",
        "print(a.endswith('n'))"
      ],
      "metadata": {
        "colab": {
          "base_uri": "https://localhost:8080/"
        },
        "id": "b2cVoAKEo1LK",
        "outputId": "27c74a1b-d1ae-4927-eb21-a6731ed72033"
      },
      "execution_count": null,
      "outputs": [
        {
          "output_type": "stream",
          "name": "stdout",
          "text": [
            "False\n"
          ]
        }
      ]
    },
    {
      "cell_type": "markdown",
      "source": [
        "#replace-> we can replace a string"
      ],
      "metadata": {
        "id": "FT5rcXywo_XF"
      }
    },
    {
      "cell_type": "code",
      "source": [
        "a='sai'\n",
        "print(a.replace('s','k'))"
      ],
      "metadata": {
        "colab": {
          "base_uri": "https://localhost:8080/"
        },
        "id": "8y0fJN4uo9g2",
        "outputId": "16ca92b0-2039-491b-9f9a-17616076f8ea"
      },
      "execution_count": null,
      "outputs": [
        {
          "output_type": "stream",
          "name": "stdout",
          "text": [
            "kai\n"
          ]
        }
      ]
    },
    {
      "cell_type": "markdown",
      "source": [
        "#count-> is used to count the number of times a given character is repeating"
      ],
      "metadata": {
        "id": "zRPK2YPMp0HW"
      }
    },
    {
      "cell_type": "code",
      "source": [
        "a='data science'\n",
        "print(a.count('a'))"
      ],
      "metadata": {
        "colab": {
          "base_uri": "https://localhost:8080/"
        },
        "id": "L36vZbIWpurI",
        "outputId": "8178cf9e-3435-436e-b223-2d2168083bba"
      },
      "execution_count": null,
      "outputs": [
        {
          "output_type": "stream",
          "name": "stdout",
          "text": [
            "2\n"
          ]
        }
      ]
    },
    {
      "cell_type": "code",
      "source": [
        "a='data science'\n",
        "print(a.count('e'))"
      ],
      "metadata": {
        "colab": {
          "base_uri": "https://localhost:8080/"
        },
        "id": "KFPxL6Owqb0A",
        "outputId": "98e6ff81-403c-4b1a-9522-f9e2c138631f"
      },
      "execution_count": null,
      "outputs": [
        {
          "output_type": "stream",
          "name": "stdout",
          "text": [
            "2\n"
          ]
        }
      ]
    },
    {
      "cell_type": "code",
      "source": [
        "a='data science'\n",
        "print(a.count('t'))"
      ],
      "metadata": {
        "colab": {
          "base_uri": "https://localhost:8080/"
        },
        "id": "UxGJwZ8dqjzm",
        "outputId": "26b930d7-b675-46aa-a981-4a497e6e7e48"
      },
      "execution_count": null,
      "outputs": [
        {
          "output_type": "stream",
          "name": "stdout",
          "text": [
            "1\n"
          ]
        }
      ]
    },
    {
      "cell_type": "markdown",
      "source": [
        "#index-> used to find the index of a given character"
      ],
      "metadata": {
        "id": "u744gDcsqwbF"
      }
    },
    {
      "cell_type": "code",
      "source": [
        "a='sai'\n",
        "print(a.index('a'))"
      ],
      "metadata": {
        "colab": {
          "base_uri": "https://localhost:8080/"
        },
        "id": "VbyD9g_lqrf5",
        "outputId": "0fc381f4-d121-42eb-cc77-6f44a85470d2"
      },
      "execution_count": null,
      "outputs": [
        {
          "output_type": "stream",
          "name": "stdout",
          "text": [
            "1\n"
          ]
        }
      ]
    },
    {
      "cell_type": "code",
      "source": [
        "a='sai krupa'\n",
        "print(a.index('k'))"
      ],
      "metadata": {
        "colab": {
          "base_uri": "https://localhost:8080/"
        },
        "id": "DpIyIAd7rBL6",
        "outputId": "614e46fb-4f6a-4ee9-de51-ebb84c3cd641"
      },
      "execution_count": null,
      "outputs": [
        {
          "output_type": "stream",
          "name": "stdout",
          "text": [
            "4\n"
          ]
        }
      ]
    },
    {
      "cell_type": "code",
      "source": [
        "a='data science'\n",
        "print(a.index('e'))"
      ],
      "metadata": {
        "colab": {
          "base_uri": "https://localhost:8080/"
        },
        "id": "EMTge-8MrIOM",
        "outputId": "ecf30b3f-c984-466c-cb1c-24aa79c8490e"
      },
      "execution_count": null,
      "outputs": [
        {
          "output_type": "stream",
          "name": "stdout",
          "text": [
            "8\n"
          ]
        }
      ]
    },
    {
      "cell_type": "code",
      "source": [
        "len('sai')"
      ],
      "metadata": {
        "colab": {
          "base_uri": "https://localhost:8080/"
        },
        "id": "QHOL7tPKrUdN",
        "outputId": "bfb27286-fdc1-4b95-d912-2f6e3b0b9cb5"
      },
      "execution_count": null,
      "outputs": [
        {
          "output_type": "execute_result",
          "data": {
            "text/plain": [
              "3"
            ]
          },
          "metadata": {},
          "execution_count": 45
        }
      ]
    },
    {
      "cell_type": "markdown",
      "source": [
        "#string and substring"
      ],
      "metadata": {
        "id": "7mwcodZgrfrf"
      }
    },
    {
      "cell_type": "code",
      "source": [
        "a='python is very simple language'\n",
        "print('is' in a)"
      ],
      "metadata": {
        "colab": {
          "base_uri": "https://localhost:8080/"
        },
        "id": "Bh-9p2qErXYi",
        "outputId": "0e2330bf-3c9f-46a6-db1c-ff9acfc01e41"
      },
      "execution_count": null,
      "outputs": [
        {
          "output_type": "stream",
          "name": "stdout",
          "text": [
            "True\n"
          ]
        }
      ]
    },
    {
      "cell_type": "code",
      "source": [
        "a='python is very simple language'\n",
        "print('n i' in a)"
      ],
      "metadata": {
        "colab": {
          "base_uri": "https://localhost:8080/"
        },
        "id": "5ysJwYFyrsrh",
        "outputId": "d2213b58-19ac-483f-bf56-faaac8995179"
      },
      "execution_count": null,
      "outputs": [
        {
          "output_type": "stream",
          "name": "stdout",
          "text": [
            "True\n"
          ]
        }
      ]
    },
    {
      "cell_type": "code",
      "source": [
        "a='python is very simple language'\n",
        "print('and' in a)"
      ],
      "metadata": {
        "colab": {
          "base_uri": "https://localhost:8080/"
        },
        "id": "e-i9KpXGr2T3",
        "outputId": "0bef9f03-412c-44d7-8c68-50c8efbf2e09"
      },
      "execution_count": null,
      "outputs": [
        {
          "output_type": "stream",
          "name": "stdout",
          "text": [
            "False\n"
          ]
        }
      ]
    },
    {
      "cell_type": "markdown",
      "source": [
        "#operators in strings"
      ],
      "metadata": {
        "id": "59RkehVssGeE"
      }
    },
    {
      "cell_type": "markdown",
      "source": [
        "##ASCII- American Standard Code for Information Interchange\n",
        "\n",
        "A-65\n",
        "\n",
        "B-66\n",
        "\n",
        "C-67\n",
        "\n",
        "D-68\n",
        "\n",
        "E-69\n",
        "------------------------------------------\n",
        "a-97\n",
        "\n",
        "b-98\n",
        "\n",
        "c-99\n",
        "\n",
        "d-100\n",
        "\n",
        "e-101\n",
        "--------------------------------------------\n"
      ],
      "metadata": {
        "id": "SRX22EP2tKDi"
      }
    },
    {
      "cell_type": "code",
      "source": [
        "python ='ab' #9506\n",
        "java='CD'   #4556\n",
        "print(python>java) #9506>4556\n",
        "# based as ASCII values it gives output"
      ],
      "metadata": {
        "colab": {
          "base_uri": "https://localhost:8080/"
        },
        "id": "t0uV9bbUsDzW",
        "outputId": "bd6f6fbd-aec1-4470-f218-d8be731e9ed7"
      },
      "execution_count": null,
      "outputs": [
        {
          "output_type": "stream",
          "name": "stdout",
          "text": [
            "True\n"
          ]
        }
      ]
    },
    {
      "cell_type": "code",
      "source": [
        "# I want to find ASCII value of a given character\n",
        "ord('F')"
      ],
      "metadata": {
        "colab": {
          "base_uri": "https://localhost:8080/"
        },
        "id": "H1IAklWwsWG7",
        "outputId": "942cb86d-ed94-49db-94f0-05cf6b5678ab"
      },
      "execution_count": null,
      "outputs": [
        {
          "output_type": "execute_result",
          "data": {
            "text/plain": [
              "70"
            ]
          },
          "metadata": {},
          "execution_count": 51
        }
      ]
    },
    {
      "cell_type": "code",
      "source": [
        "ord('d')"
      ],
      "metadata": {
        "colab": {
          "base_uri": "https://localhost:8080/"
        },
        "id": "XkaeQ632uWq2",
        "outputId": "0e15f7c0-ea3b-4b38-8c54-6b3f03ecb0b3"
      },
      "execution_count": null,
      "outputs": [
        {
          "output_type": "execute_result",
          "data": {
            "text/plain": [
              "100"
            ]
          },
          "metadata": {},
          "execution_count": 52
        }
      ]
    },
    {
      "cell_type": "code",
      "source": [
        "ord('z')"
      ],
      "metadata": {
        "colab": {
          "base_uri": "https://localhost:8080/"
        },
        "id": "X6cslkHhuZ3q",
        "outputId": "aae86463-3fc4-4eac-8838-ce4a5b63c06b"
      },
      "execution_count": null,
      "outputs": [
        {
          "output_type": "execute_result",
          "data": {
            "text/plain": [
              "122"
            ]
          },
          "metadata": {},
          "execution_count": 53
        }
      ]
    },
    {
      "cell_type": "code",
      "source": [
        "#I want to find character from a given ASCII value\n",
        "chr(70)"
      ],
      "metadata": {
        "colab": {
          "base_uri": "https://localhost:8080/",
          "height": 36
        },
        "id": "C0bHHJlQucjd",
        "outputId": "56441256-8bf3-4bb0-8bcf-59adea12575a"
      },
      "execution_count": null,
      "outputs": [
        {
          "output_type": "execute_result",
          "data": {
            "text/plain": [
              "'F'"
            ],
            "application/vnd.google.colaboratory.intrinsic+json": {
              "type": "string"
            }
          },
          "metadata": {},
          "execution_count": 54
        }
      ]
    },
    {
      "cell_type": "code",
      "source": [
        "chr(100)"
      ],
      "metadata": {
        "colab": {
          "base_uri": "https://localhost:8080/",
          "height": 36
        },
        "id": "Yy0neTk7uob3",
        "outputId": "6e9498df-ee57-4352-d345-d0c700f51072"
      },
      "execution_count": null,
      "outputs": [
        {
          "output_type": "execute_result",
          "data": {
            "text/plain": [
              "'d'"
            ],
            "application/vnd.google.colaboratory.intrinsic+json": {
              "type": "string"
            }
          },
          "metadata": {},
          "execution_count": 55
        }
      ]
    },
    {
      "cell_type": "code",
      "source": [
        "chr(122)"
      ],
      "metadata": {
        "colab": {
          "base_uri": "https://localhost:8080/",
          "height": 36
        },
        "id": "rG9aBBVLuqii",
        "outputId": "735b3d6a-2e49-4377-e5d5-99ef05c2c789"
      },
      "execution_count": null,
      "outputs": [
        {
          "output_type": "execute_result",
          "data": {
            "text/plain": [
              "'z'"
            ],
            "application/vnd.google.colaboratory.intrinsic+json": {
              "type": "string"
            }
          },
          "metadata": {},
          "execution_count": 56
        }
      ]
    },
    {
      "cell_type": "code",
      "source": [],
      "metadata": {
        "id": "GAyAZhx2ut19"
      },
      "execution_count": null,
      "outputs": []
    }
  ]
}