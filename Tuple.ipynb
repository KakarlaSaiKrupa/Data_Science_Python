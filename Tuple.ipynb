{
  "nbformat": 4,
  "nbformat_minor": 0,
  "metadata": {
    "colab": {
      "provenance": []
    },
    "kernelspec": {
      "name": "python3",
      "display_name": "Python 3"
    },
    "language_info": {
      "name": "python"
    }
  },
  "cells": [
    {
      "cell_type": "markdown",
      "source": [
        "#Tuple->**()**user can pass anything inside the tuple ->int|float|string|boolean\n",
        "\n",
        "#indexing|memory allocation|slicing|skipping| are same like strings and list only"
      ],
      "metadata": {
        "id": "PKQerkQr3tQc"
      }
    },
    {
      "cell_type": "code",
      "execution_count": null,
      "metadata": {
        "colab": {
          "base_uri": "https://localhost:8080/"
        },
        "id": "U_ktZEdQ3eW4",
        "outputId": "e66c740c-0410-4d75-b11a-df9cd3e11bb2"
      },
      "outputs": [
        {
          "output_type": "stream",
          "name": "stdout",
          "text": [
            "<class 'str'>\n"
          ]
        }
      ],
      "source": [
        "a='data'\n",
        "print(type(a))"
      ]
    },
    {
      "cell_type": "code",
      "source": [
        "a=[10,55.55,'data']\n",
        "print(type(a))"
      ],
      "metadata": {
        "colab": {
          "base_uri": "https://localhost:8080/"
        },
        "id": "X14w9g9h4SiR",
        "outputId": "7d3c3ac4-62e1-4a1d-ecda-b18e0aa5a832"
      },
      "execution_count": null,
      "outputs": [
        {
          "output_type": "stream",
          "name": "stdout",
          "text": [
            "<class 'list'>\n"
          ]
        }
      ]
    },
    {
      "cell_type": "code",
      "source": [
        "a=(10,20,30,40)\n",
        "print(type(a))"
      ],
      "metadata": {
        "colab": {
          "base_uri": "https://localhost:8080/"
        },
        "id": "40USCQJs4YxC",
        "outputId": "de54a5db-df9b-4e02-ba1e-371952ecee91"
      },
      "execution_count": null,
      "outputs": [
        {
          "output_type": "stream",
          "name": "stdout",
          "text": [
            "<class 'tuple'>\n"
          ]
        }
      ]
    },
    {
      "cell_type": "code",
      "source": [
        "a=(10,55.66,'python')\n",
        "print(type(a))"
      ],
      "metadata": {
        "colab": {
          "base_uri": "https://localhost:8080/"
        },
        "id": "MNhliy-G4dTK",
        "outputId": "ddc8f73a-8283-4c6f-9649-e220b90f527e"
      },
      "execution_count": null,
      "outputs": [
        {
          "output_type": "stream",
          "name": "stdout",
          "text": [
            "<class 'tuple'>\n"
          ]
        }
      ]
    },
    {
      "cell_type": "code",
      "source": [
        "#indexing\n",
        "print(a[0])"
      ],
      "metadata": {
        "colab": {
          "base_uri": "https://localhost:8080/"
        },
        "id": "D3ypsOoO4lA0",
        "outputId": "dc778f25-4bdf-4ca2-db5c-4cc1725c3498"
      },
      "execution_count": null,
      "outputs": [
        {
          "output_type": "stream",
          "name": "stdout",
          "text": [
            "10\n"
          ]
        }
      ]
    },
    {
      "cell_type": "code",
      "source": [
        "print(a[2])"
      ],
      "metadata": {
        "colab": {
          "base_uri": "https://localhost:8080/"
        },
        "id": "quAgGwxO4rND",
        "outputId": "361f2acc-c217-46d5-ab44-eff84021a280"
      },
      "execution_count": null,
      "outputs": [
        {
          "output_type": "stream",
          "name": "stdout",
          "text": [
            "python\n"
          ]
        }
      ]
    },
    {
      "cell_type": "code",
      "source": [
        "#slicing\n",
        "a=[1,3,4,2,5,7]\n",
        "print(a[2:6])"
      ],
      "metadata": {
        "colab": {
          "base_uri": "https://localhost:8080/"
        },
        "id": "aI2cSYro4tsA",
        "outputId": "6d373798-91d3-4814-c268-5878ceb6a5a0"
      },
      "execution_count": null,
      "outputs": [
        {
          "output_type": "stream",
          "name": "stdout",
          "text": [
            "[4, 2, 5, 7]\n"
          ]
        }
      ]
    },
    {
      "cell_type": "code",
      "source": [
        "print(a[:])"
      ],
      "metadata": {
        "colab": {
          "base_uri": "https://localhost:8080/"
        },
        "id": "M8LuoxWG40F2",
        "outputId": "47f0eada-208a-4819-cb43-f8d285d3b799"
      },
      "execution_count": null,
      "outputs": [
        {
          "output_type": "stream",
          "name": "stdout",
          "text": [
            "[1, 3, 4, 2, 5, 7]\n"
          ]
        }
      ]
    },
    {
      "cell_type": "code",
      "source": [
        "print(a[::-1])"
      ],
      "metadata": {
        "colab": {
          "base_uri": "https://localhost:8080/"
        },
        "id": "bYvq_rZT45BC",
        "outputId": "0b15483f-97af-4b91-9fbf-523104008622"
      },
      "execution_count": null,
      "outputs": [
        {
          "output_type": "stream",
          "name": "stdout",
          "text": [
            "[7, 5, 2, 4, 3, 1]\n"
          ]
        }
      ]
    },
    {
      "cell_type": "code",
      "source": [
        "#skipping\n",
        "a=[10,50,3,12,23,4,5,2]\n",
        "print(a[::3])\n"
      ],
      "metadata": {
        "colab": {
          "base_uri": "https://localhost:8080/"
        },
        "id": "7c55Qqxq4703",
        "outputId": "04155de3-f82f-488d-a6ed-cdd45b3bef90"
      },
      "execution_count": null,
      "outputs": [
        {
          "output_type": "stream",
          "name": "stdout",
          "text": [
            "[10, 12, 5]\n"
          ]
        }
      ]
    },
    {
      "cell_type": "markdown",
      "source": [
        "#Tuple is mutable or immutable\n",
        "\n",
        "It is immutable\n",
        "\n",
        "To prove a concept is mutable or immutable we need to check 2 conditions\n",
        "\n",
        "->try to increase the memory space\n",
        "\n",
        "->try to decrease the memory space"
      ],
      "metadata": {
        "id": "RvZcgRpt5U4g"
      }
    },
    {
      "cell_type": "code",
      "source": [
        "#add\n",
        "a=(10,20,30,40,50)\n",
        "a[5]=500\n",
        "print(a)"
      ],
      "metadata": {
        "colab": {
          "base_uri": "https://localhost:8080/",
          "height": 193
        },
        "id": "l_-nlB345PLn",
        "outputId": "1334506e-22ae-46d8-8ebb-f6d9f5a3bd5d"
      },
      "execution_count": null,
      "outputs": [
        {
          "output_type": "error",
          "ename": "TypeError",
          "evalue": "'tuple' object does not support item assignment",
          "traceback": [
            "\u001b[0;31m---------------------------------------------------------------------------\u001b[0m",
            "\u001b[0;31mTypeError\u001b[0m                                 Traceback (most recent call last)",
            "\u001b[0;32m<ipython-input-14-f204b55058a5>\u001b[0m in \u001b[0;36m<cell line: 3>\u001b[0;34m()\u001b[0m\n\u001b[1;32m      1\u001b[0m \u001b[0;31m#add\u001b[0m\u001b[0;34m\u001b[0m\u001b[0;34m\u001b[0m\u001b[0m\n\u001b[1;32m      2\u001b[0m \u001b[0ma\u001b[0m\u001b[0;34m=\u001b[0m\u001b[0;34m(\u001b[0m\u001b[0;36m10\u001b[0m\u001b[0;34m,\u001b[0m\u001b[0;36m20\u001b[0m\u001b[0;34m,\u001b[0m\u001b[0;36m30\u001b[0m\u001b[0;34m,\u001b[0m\u001b[0;36m40\u001b[0m\u001b[0;34m,\u001b[0m\u001b[0;36m50\u001b[0m\u001b[0;34m)\u001b[0m\u001b[0;34m\u001b[0m\u001b[0;34m\u001b[0m\u001b[0m\n\u001b[0;32m----> 3\u001b[0;31m \u001b[0ma\u001b[0m\u001b[0;34m[\u001b[0m\u001b[0;36m5\u001b[0m\u001b[0;34m]\u001b[0m\u001b[0;34m=\u001b[0m\u001b[0;36m500\u001b[0m\u001b[0;34m\u001b[0m\u001b[0;34m\u001b[0m\u001b[0m\n\u001b[0m\u001b[1;32m      4\u001b[0m \u001b[0mprint\u001b[0m\u001b[0;34m(\u001b[0m\u001b[0ma\u001b[0m\u001b[0;34m)\u001b[0m\u001b[0;34m\u001b[0m\u001b[0;34m\u001b[0m\u001b[0m\n",
            "\u001b[0;31mTypeError\u001b[0m: 'tuple' object does not support item assignment"
          ]
        }
      ]
    },
    {
      "cell_type": "code",
      "source": [
        "#del\n",
        "a=(10,20,30,40,50)\n",
        "del a[0]\n",
        "print(a)"
      ],
      "metadata": {
        "colab": {
          "base_uri": "https://localhost:8080/",
          "height": 193
        },
        "id": "KrSWDCwI52iH",
        "outputId": "1f88e6f8-80bb-4e7c-e233-1e53255a0820"
      },
      "execution_count": null,
      "outputs": [
        {
          "output_type": "error",
          "ename": "TypeError",
          "evalue": "'tuple' object doesn't support item deletion",
          "traceback": [
            "\u001b[0;31m---------------------------------------------------------------------------\u001b[0m",
            "\u001b[0;31mTypeError\u001b[0m                                 Traceback (most recent call last)",
            "\u001b[0;32m<ipython-input-15-5d9781aa5a63>\u001b[0m in \u001b[0;36m<cell line: 3>\u001b[0;34m()\u001b[0m\n\u001b[1;32m      1\u001b[0m \u001b[0;31m#del\u001b[0m\u001b[0;34m\u001b[0m\u001b[0;34m\u001b[0m\u001b[0m\n\u001b[1;32m      2\u001b[0m \u001b[0ma\u001b[0m\u001b[0;34m=\u001b[0m\u001b[0;34m(\u001b[0m\u001b[0;36m10\u001b[0m\u001b[0;34m,\u001b[0m\u001b[0;36m20\u001b[0m\u001b[0;34m,\u001b[0m\u001b[0;36m30\u001b[0m\u001b[0;34m,\u001b[0m\u001b[0;36m40\u001b[0m\u001b[0;34m,\u001b[0m\u001b[0;36m50\u001b[0m\u001b[0;34m)\u001b[0m\u001b[0;34m\u001b[0m\u001b[0;34m\u001b[0m\u001b[0m\n\u001b[0;32m----> 3\u001b[0;31m \u001b[0;32mdel\u001b[0m \u001b[0ma\u001b[0m\u001b[0;34m[\u001b[0m\u001b[0;36m0\u001b[0m\u001b[0;34m]\u001b[0m\u001b[0;34m\u001b[0m\u001b[0;34m\u001b[0m\u001b[0m\n\u001b[0m\u001b[1;32m      4\u001b[0m \u001b[0mprint\u001b[0m\u001b[0;34m(\u001b[0m\u001b[0ma\u001b[0m\u001b[0;34m)\u001b[0m\u001b[0;34m\u001b[0m\u001b[0;34m\u001b[0m\u001b[0m\n",
            "\u001b[0;31mTypeError\u001b[0m: 'tuple' object doesn't support item deletion"
          ]
        }
      ]
    },
    {
      "cell_type": "markdown",
      "source": [
        "#Tuple Built_in_functions\n",
        "there are 2 built_in_functions\n",
        "\n",
        "1.count\n",
        "\n",
        "2.index"
      ],
      "metadata": {
        "id": "YRa1tEqyC1GP"
      }
    },
    {
      "cell_type": "code",
      "source": [
        "#count\n",
        "a=(10,20,10,30,40,30,50)\n",
        "print(a.count(10))\n"
      ],
      "metadata": {
        "id": "Rce7ZJeg59Zq",
        "colab": {
          "base_uri": "https://localhost:8080/"
        },
        "outputId": "43267124-513e-41ee-f06b-13abe7b38983"
      },
      "execution_count": null,
      "outputs": [
        {
          "output_type": "stream",
          "name": "stdout",
          "text": [
            "2\n"
          ]
        }
      ]
    },
    {
      "cell_type": "code",
      "source": [
        "a=(10,20,10,30,40,30,50)\n",
        "print(a.count(30))"
      ],
      "metadata": {
        "colab": {
          "base_uri": "https://localhost:8080/"
        },
        "id": "4Goj-va0DNN1",
        "outputId": "7236c38e-de19-4d11-9bdf-936a8e40be2d"
      },
      "execution_count": null,
      "outputs": [
        {
          "output_type": "stream",
          "name": "stdout",
          "text": [
            "2\n"
          ]
        }
      ]
    },
    {
      "cell_type": "code",
      "source": [
        "#index\n",
        "a=(10,20,10,30,40,30,50)\n",
        "print(a.index(10))"
      ],
      "metadata": {
        "colab": {
          "base_uri": "https://localhost:8080/"
        },
        "id": "2boCXbJsDUgi",
        "outputId": "c2dd78a7-e038-45f1-f180-0ea7cdc63587"
      },
      "execution_count": null,
      "outputs": [
        {
          "output_type": "stream",
          "name": "stdout",
          "text": [
            "0\n"
          ]
        }
      ]
    },
    {
      "cell_type": "markdown",
      "source": [
        "#why tuple?\n",
        "##bcz for a single variable we can pass only a single value\n"
      ],
      "metadata": {
        "id": "Q7FAqXADDdzv"
      }
    },
    {
      "cell_type": "code",
      "source": [
        "#if we give more than one value then it automatically converted to tuple\n",
        "a=100,200\n",
        "print(a)"
      ],
      "metadata": {
        "colab": {
          "base_uri": "https://localhost:8080/"
        },
        "id": "QjNhsjdHDa4u",
        "outputId": "5607e7aa-66e5-4cd3-8bff-d2229e54fabf"
      },
      "execution_count": null,
      "outputs": [
        {
          "output_type": "stream",
          "name": "stdout",
          "text": [
            "(100, 200)\n"
          ]
        }
      ]
    },
    {
      "cell_type": "code",
      "source": [
        "a,b,c=1,2,3\n",
        "print(a)\n",
        "print(b)\n",
        "print(c)"
      ],
      "metadata": {
        "colab": {
          "base_uri": "https://localhost:8080/"
        },
        "id": "e8WE3Ct1Dxo_",
        "outputId": "9d5ae182-7da9-463c-f60b-6c5b080f7692"
      },
      "execution_count": null,
      "outputs": [
        {
          "output_type": "stream",
          "name": "stdout",
          "text": [
            "1\n",
            "2\n",
            "3\n"
          ]
        }
      ]
    },
    {
      "cell_type": "markdown",
      "source": [
        "#Split and join  built_in_functions"
      ],
      "metadata": {
        "id": "y9hyCVkSEJ9r"
      }
    },
    {
      "cell_type": "code",
      "source": [
        "#split->string is convert to list in split function\n",
        "#split->divides the data\n",
        "a='I love my country'\n",
        "b=a.split()\n",
        "print(b)\n",
        "#when ever it see space it split the data and become as a list"
      ],
      "metadata": {
        "colab": {
          "base_uri": "https://localhost:8080/"
        },
        "id": "mX4oAdAsEFRb",
        "outputId": "c7268bfc-30b6-4025-8e22-ea164cc203ee"
      },
      "execution_count": null,
      "outputs": [
        {
          "output_type": "stream",
          "name": "stdout",
          "text": [
            "['I', 'love', 'my', 'country']\n"
          ]
        }
      ]
    },
    {
      "cell_type": "code",
      "source": [
        "a='I love my.country'\n",
        "b=a.split('.')\n",
        "print(b)"
      ],
      "metadata": {
        "colab": {
          "base_uri": "https://localhost:8080/"
        },
        "id": "JW6TBDCwEhG2",
        "outputId": "37ed8142-ad36-4b98-a819-652585b716b7"
      },
      "execution_count": null,
      "outputs": [
        {
          "output_type": "stream",
          "name": "stdout",
          "text": [
            "['I love my', 'country']\n"
          ]
        }
      ]
    },
    {
      "cell_type": "code",
      "source": [
        "#join->used to join the data\n",
        "#here list is converted to string\n",
        "a=['usa','uk','paris','canada']\n",
        "b=''.join(a)\n",
        "print(b)"
      ],
      "metadata": {
        "colab": {
          "base_uri": "https://localhost:8080/"
        },
        "id": "JZMZxtBCElDM",
        "outputId": "754f6e5a-0844-42eb-8f73-edded8f20be9"
      },
      "execution_count": null,
      "outputs": [
        {
          "output_type": "stream",
          "name": "stdout",
          "text": [
            "usaukpariscanada\n"
          ]
        }
      ]
    },
    {
      "cell_type": "code",
      "source": [
        "a=['usa','uk','paris','canada']\n",
        "b=' '.join(a)\n",
        "print(b)"
      ],
      "metadata": {
        "colab": {
          "base_uri": "https://localhost:8080/"
        },
        "id": "CSjlzYbiFJ82",
        "outputId": "e6e3186d-2cbb-43f7-e15f-f50e53e28e5c"
      },
      "execution_count": null,
      "outputs": [
        {
          "output_type": "stream",
          "name": "stdout",
          "text": [
            "usa uk paris canada\n"
          ]
        }
      ]
    },
    {
      "cell_type": "code",
      "source": [
        "a=['usa','uk','paris','canada']\n",
        "b='.'.join(a)\n",
        "print(b)"
      ],
      "metadata": {
        "colab": {
          "base_uri": "https://localhost:8080/"
        },
        "id": "W6qjuGrkFPlD",
        "outputId": "3c61bccb-cd8a-43f8-84bf-63a8c84ce514"
      },
      "execution_count": null,
      "outputs": [
        {
          "output_type": "stream",
          "name": "stdout",
          "text": [
            "usa.uk.paris.canada\n"
          ]
        }
      ]
    },
    {
      "cell_type": "code",
      "source": [
        "a=['usa','uk','paris','canada']\n",
        "b='->'.join(a)\n",
        "print(b)"
      ],
      "metadata": {
        "colab": {
          "base_uri": "https://localhost:8080/"
        },
        "id": "JrM5qzI3FT85",
        "outputId": "07976566-d14a-4cdd-89cd-8450eeb8fb6e"
      },
      "execution_count": null,
      "outputs": [
        {
          "output_type": "stream",
          "name": "stdout",
          "text": [
            "usa->uk->paris->canada\n"
          ]
        }
      ]
    },
    {
      "cell_type": "code",
      "source": [
        "a='i.love.programming.language'\n",
        "b=a.split('.')\n",
        "print(b)\n",
        "c=b[::-1]\n",
        "print(c)\n",
        "d='.'.join(c)\n",
        "print(d)"
      ],
      "metadata": {
        "colab": {
          "base_uri": "https://localhost:8080/"
        },
        "id": "C5B-Fbj0FXOw",
        "outputId": "bf3d44df-ae07-47ed-8c1e-3839baf3ae56"
      },
      "execution_count": null,
      "outputs": [
        {
          "output_type": "stream",
          "name": "stdout",
          "text": [
            "['i', 'love', 'programming', 'language']\n",
            "['language', 'programming', 'love', 'i']\n",
            "language.programming.love.i\n"
          ]
        }
      ]
    },
    {
      "cell_type": "code",
      "source": [
        "'.'.join('i.love.programming.language'.split('.')[::-1])"
      ],
      "metadata": {
        "colab": {
          "base_uri": "https://localhost:8080/",
          "height": 36
        },
        "id": "yc7k4vaPFsPD",
        "outputId": "a0230d64-04a7-414a-cef4-17e27e401934"
      },
      "execution_count": null,
      "outputs": [
        {
          "output_type": "execute_result",
          "data": {
            "text/plain": [
              "'language.programming.love.i'"
            ],
            "application/vnd.google.colaboratory.intrinsic+json": {
              "type": "string"
            }
          },
          "metadata": {},
          "execution_count": 34
        }
      ]
    },
    {
      "cell_type": "code",
      "source": [
        "a='i.love.programming.language'\n",
        "b=a.split('.')\n",
        "print(b)"
      ],
      "metadata": {
        "colab": {
          "base_uri": "https://localhost:8080/"
        },
        "id": "jarPM18EGVwE",
        "outputId": "52618cef-0692-4a09-9ddb-188a802037c9"
      },
      "execution_count": null,
      "outputs": [
        {
          "output_type": "stream",
          "name": "stdout",
          "text": [
            "['i', 'love', 'programming', 'language']\n"
          ]
        }
      ]
    },
    {
      "cell_type": "code",
      "source": [
        "a='i.love.programming.language'\n",
        "b=a.split('.')\n",
        "print(b)\n",
        "c=b[::-1]\n",
        "print(c)\n",
        "d='.'.join(c)\n",
        "print(d)"
      ],
      "metadata": {
        "colab": {
          "base_uri": "https://localhost:8080/"
        },
        "id": "Po3vaWIMHFCu",
        "outputId": "3feef53d-f7ae-4fa5-f82f-a28d2d539529"
      },
      "execution_count": null,
      "outputs": [
        {
          "output_type": "stream",
          "name": "stdout",
          "text": [
            "['i', 'love', 'programming', 'language']\n",
            "['language', 'programming', 'love', 'i']\n",
            "language.programming.love.i\n"
          ]
        }
      ]
    },
    {
      "cell_type": "code",
      "source": [
        "a='i.love.my.country'\n",
        "b=a.split('.')\n",
        "print(b)\n",
        "c=b[::-1]\n",
        "print(c)\n",
        "d='.'.join(c)\n",
        "print(d)"
      ],
      "metadata": {
        "colab": {
          "base_uri": "https://localhost:8080/"
        },
        "id": "h1zfjUpSHcbo",
        "outputId": "e18a3d81-ec8a-4b45-e285-b662e2133329"
      },
      "execution_count": null,
      "outputs": [
        {
          "output_type": "stream",
          "name": "stdout",
          "text": [
            "['i', 'love', 'my', 'country']\n",
            "['country', 'my', 'love', 'i']\n",
            "country.my.love.i\n"
          ]
        }
      ]
    },
    {
      "cell_type": "code",
      "source": [],
      "metadata": {
        "id": "3m09v4OhImEw"
      },
      "execution_count": null,
      "outputs": []
    }
  ]
}