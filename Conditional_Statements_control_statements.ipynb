{
  "nbformat": 4,
  "nbformat_minor": 0,
  "metadata": {
    "colab": {
      "provenance": []
    },
    "kernelspec": {
      "name": "python3",
      "display_name": "Python 3"
    },
    "language_info": {
      "name": "python"
    }
  },
  "cells": [
    {
      "cell_type": "markdown",
      "source": [
        "Control Statements-\n",
        "\n",
        "for loop\n",
        "\n",
        "while loop\n",
        "\n",
        "Conditional statements-\n",
        "\n",
        "if\n",
        "\n",
        "else\n",
        "\n",
        "elif\n",
        "\n",
        "break\n",
        "\n",
        "continue"
      ],
      "metadata": {
        "id": "sGDANJMY7y3W"
      }
    },
    {
      "cell_type": "markdown",
      "source": [
        "#for loop->\n",
        "Syntax- for [var] in range(s_p,e_p):\n"
      ],
      "metadata": {
        "id": "u9mCRGwZ8Gqe"
      }
    },
    {
      "cell_type": "code",
      "execution_count": null,
      "metadata": {
        "colab": {
          "base_uri": "https://localhost:8080/"
        },
        "id": "z06qYQ6D7fsV",
        "outputId": "673f5eb1-677e-48db-bf63-d4346aac373e"
      },
      "outputs": [
        {
          "output_type": "stream",
          "name": "stdout",
          "text": [
            "11\n",
            "12\n",
            "13\n",
            "14\n",
            "15\n",
            "16\n",
            "17\n",
            "18\n",
            "19\n",
            "20\n"
          ]
        }
      ],
      "source": [
        "for i in range(11,21):\n",
        "  print(i)"
      ]
    },
    {
      "cell_type": "code",
      "source": [
        "for i in range(11,21):\n",
        "  print('Good Morning')"
      ],
      "metadata": {
        "colab": {
          "base_uri": "https://localhost:8080/"
        },
        "id": "54qWpDSS8W6g",
        "outputId": "f85abc9d-f7c4-4dd1-83ba-5dc7ddcc8019"
      },
      "execution_count": null,
      "outputs": [
        {
          "output_type": "stream",
          "name": "stdout",
          "text": [
            "Good Morning\n",
            "Good Morning\n",
            "Good Morning\n",
            "Good Morning\n",
            "Good Morning\n",
            "Good Morning\n",
            "Good Morning\n",
            "Good Morning\n",
            "Good Morning\n",
            "Good Morning\n"
          ]
        }
      ]
    },
    {
      "cell_type": "code",
      "source": [
        "for i in range(11,21):\n",
        "   print(i+10)"
      ],
      "metadata": {
        "colab": {
          "base_uri": "https://localhost:8080/"
        },
        "id": "WCuHPyRL8e5q",
        "outputId": "47475e5f-9a85-4140-cbe1-5a759f37aef2"
      },
      "execution_count": null,
      "outputs": [
        {
          "output_type": "stream",
          "name": "stdout",
          "text": [
            "21\n",
            "22\n",
            "23\n",
            "24\n",
            "25\n",
            "26\n",
            "27\n",
            "28\n",
            "29\n",
            "30\n"
          ]
        }
      ]
    },
    {
      "cell_type": "code",
      "source": [
        "for i in range(5):\n",
        "  pass #it just be silent"
      ],
      "metadata": {
        "id": "LFmFxCa38nRJ"
      },
      "execution_count": null,
      "outputs": []
    },
    {
      "cell_type": "code",
      "source": [
        "for i in range(5):\n",
        "  print(f'Values is {i}')"
      ],
      "metadata": {
        "colab": {
          "base_uri": "https://localhost:8080/"
        },
        "id": "tlEbJud68xJx",
        "outputId": "00a3812a-040e-417f-971b-d2f2070d288e"
      },
      "execution_count": null,
      "outputs": [
        {
          "output_type": "stream",
          "name": "stdout",
          "text": [
            "Values is 0\n",
            "Values is 1\n",
            "Values is 2\n",
            "Values is 3\n",
            "Values is 4\n"
          ]
        }
      ]
    },
    {
      "cell_type": "code",
      "source": [
        "for i in range(1,11):\n",
        "  print(f'{i}')"
      ],
      "metadata": {
        "colab": {
          "base_uri": "https://localhost:8080/"
        },
        "id": "Y7X0qDqp88tK",
        "outputId": "7139abb8-bbb7-4e2d-ce58-71e1ac38eb6f"
      },
      "execution_count": null,
      "outputs": [
        {
          "output_type": "stream",
          "name": "stdout",
          "text": [
            "1\n",
            "2\n",
            "3\n",
            "4\n",
            "5\n",
            "6\n",
            "7\n",
            "8\n",
            "9\n",
            "10\n"
          ]
        }
      ]
    },
    {
      "cell_type": "code",
      "source": [
        "for i in range(1,11):\n",
        "  print(i)"
      ],
      "metadata": {
        "colab": {
          "base_uri": "https://localhost:8080/"
        },
        "id": "3s0Xk_0n9DzM",
        "outputId": "8a00bf2e-fdfb-44e4-9ab0-be914da781a7"
      },
      "execution_count": null,
      "outputs": [
        {
          "output_type": "stream",
          "name": "stdout",
          "text": [
            "1\n",
            "2\n",
            "3\n",
            "4\n",
            "5\n",
            "6\n",
            "7\n",
            "8\n",
            "9\n",
            "10\n"
          ]
        }
      ]
    },
    {
      "cell_type": "code",
      "source": [
        "for i in range(1,11):\n",
        "  print(i,end='')"
      ],
      "metadata": {
        "colab": {
          "base_uri": "https://localhost:8080/"
        },
        "id": "DAK_37td9KWi",
        "outputId": "b67ce46d-199d-40e8-ea7c-938eee212890"
      },
      "execution_count": null,
      "outputs": [
        {
          "output_type": "stream",
          "name": "stdout",
          "text": [
            "12345678910"
          ]
        }
      ]
    },
    {
      "cell_type": "code",
      "source": [
        "for i in range(1,11):\n",
        "  print(i,end=' ')"
      ],
      "metadata": {
        "colab": {
          "base_uri": "https://localhost:8080/"
        },
        "id": "1k7oNU1o9QSh",
        "outputId": "c0c46eef-296c-47c5-e723-a5d7d75c7ba0"
      },
      "execution_count": null,
      "outputs": [
        {
          "output_type": "stream",
          "name": "stdout",
          "text": [
            "1 2 3 4 5 6 7 8 9 10 "
          ]
        }
      ]
    },
    {
      "cell_type": "code",
      "source": [
        "for i in range(1,11):\n",
        "  print(i,end='->')"
      ],
      "metadata": {
        "colab": {
          "base_uri": "https://localhost:8080/"
        },
        "id": "aoJmeO6w9Tvb",
        "outputId": "0543b324-2693-4c2e-e29e-99d87b181cd0"
      },
      "execution_count": null,
      "outputs": [
        {
          "output_type": "stream",
          "name": "stdout",
          "text": [
            "1->2->3->4->5->6->7->8->9->10->"
          ]
        }
      ]
    },
    {
      "cell_type": "code",
      "source": [
        "for i in range(1,11):\n",
        "  print(i,end='.')"
      ],
      "metadata": {
        "colab": {
          "base_uri": "https://localhost:8080/"
        },
        "id": "1XJKvSbl9WHU",
        "outputId": "4ff61d99-80bb-427c-8a31-df3a951fecee"
      },
      "execution_count": null,
      "outputs": [
        {
          "output_type": "stream",
          "name": "stdout",
          "text": [
            "1.2.3.4.5.6.7.8.9.10."
          ]
        }
      ]
    },
    {
      "cell_type": "code",
      "source": [
        "for i in range(1,11):\n",
        "  print(i,end=',')"
      ],
      "metadata": {
        "colab": {
          "base_uri": "https://localhost:8080/"
        },
        "id": "Yrw8Rxyy9X0T",
        "outputId": "268baa79-f9d5-4677-dd63-92c044c7ac66"
      },
      "execution_count": null,
      "outputs": [
        {
          "output_type": "stream",
          "name": "stdout",
          "text": [
            "1,2,3,4,5,6,7,8,9,10,"
          ]
        }
      ]
    },
    {
      "cell_type": "markdown",
      "source": [
        "**if** -condition"
      ],
      "metadata": {
        "id": "u65ii7QY9cpp"
      }
    },
    {
      "cell_type": "code",
      "source": [
        "money=20000\n",
        "iphone=50000\n",
        "if money>iphone:\n",
        "  print('I will buy iphone')#it wont print anything it will be silent"
      ],
      "metadata": {
        "id": "zNJwESGq-GoU"
      },
      "execution_count": null,
      "outputs": []
    },
    {
      "cell_type": "code",
      "source": [
        "money=20000\n",
        "iphone=50000\n",
        "if money>iphone:\n",
        "  print('I will buy iphone')\n",
        "else:\n",
        "  print('I will not buy an iphone')"
      ],
      "metadata": {
        "colab": {
          "base_uri": "https://localhost:8080/"
        },
        "id": "XhoQ3S7L9ZNF",
        "outputId": "b645b7a7-a9bf-4689-ed66-183e055838e3"
      },
      "execution_count": null,
      "outputs": [
        {
          "output_type": "stream",
          "name": "stdout",
          "text": [
            "I will not buy an iphone\n"
          ]
        }
      ]
    },
    {
      "cell_type": "code",
      "source": [
        "money=20000\n",
        "iphone=50000\n",
        "if money<iphone:\n",
        "  print('I will buy iphone')\n",
        "else:\n",
        "  print('I will not buy an iphone')"
      ],
      "metadata": {
        "colab": {
          "base_uri": "https://localhost:8080/"
        },
        "id": "DOH0FNzQ91F3",
        "outputId": "c784f126-d4d0-4ce1-a87b-16f8056f9540"
      },
      "execution_count": null,
      "outputs": [
        {
          "output_type": "stream",
          "name": "stdout",
          "text": [
            "I will buy iphone\n"
          ]
        }
      ]
    },
    {
      "cell_type": "code",
      "source": [
        "money=20000\n",
        "iphone=50000\n",
        "samsung=25000\n",
        "vivo=15000\n",
        "if money>iphone:\n",
        "  print('I will buy iphone')\n",
        "elif money>samsung:\n",
        "  print('i will buy samsung')\n",
        "elif money>vivo:\n",
        "  print('i will buy vivo')\n",
        "else:\n",
        "  print('i wont buy any phone')"
      ],
      "metadata": {
        "colab": {
          "base_uri": "https://localhost:8080/"
        },
        "id": "ftRydCwW-Cjz",
        "outputId": "962a5da9-2bdd-4462-b4c5-e9c35a0bed32"
      },
      "execution_count": null,
      "outputs": [
        {
          "output_type": "stream",
          "name": "stdout",
          "text": [
            "i will buy vivo\n"
          ]
        }
      ]
    },
    {
      "cell_type": "code",
      "source": [
        "money=200000\n",
        "iphone=50000\n",
        "samsung=25000\n",
        "vivo=15000\n",
        "if money>iphone:\n",
        "  print('I will buy iphone')\n",
        "elif money>samsung:\n",
        "  print('i will buy samsung')\n",
        "elif money>vivo:\n",
        "  print('i will buy vivo')\n",
        "else:\n",
        "  print('i wont buy any phone')"
      ],
      "metadata": {
        "colab": {
          "base_uri": "https://localhost:8080/"
        },
        "id": "TAw_L6Et-p-n",
        "outputId": "1e56f19d-dfbe-44d3-f342-f13eee27680e"
      },
      "execution_count": null,
      "outputs": [
        {
          "output_type": "stream",
          "name": "stdout",
          "text": [
            "I will buy iphone\n"
          ]
        }
      ]
    },
    {
      "cell_type": "code",
      "source": [
        "money=200000\n",
        "iphone=500000\n",
        "samsung=25000\n",
        "vivo=15000\n",
        "if money>iphone:\n",
        "  print('I will buy iphone')\n",
        "elif money>samsung:\n",
        "  print('i will buy samsung')\n",
        "elif money>vivo:\n",
        "  print('i will buy vivo')\n",
        "else:\n",
        "  print('i wont buy any phone')"
      ],
      "metadata": {
        "colab": {
          "base_uri": "https://localhost:8080/"
        },
        "id": "9RqcdL1r-vqD",
        "outputId": "f7011818-45fc-4d2b-f99c-2ea8d091f369"
      },
      "execution_count": null,
      "outputs": [
        {
          "output_type": "stream",
          "name": "stdout",
          "text": [
            "i will buy samsung\n"
          ]
        }
      ]
    },
    {
      "cell_type": "code",
      "source": [
        "money=200\n",
        "iphone=5000\n",
        "samsung=25000\n",
        "vivo=15000\n",
        "if money>iphone:\n",
        "  print('I will buy iphone')\n",
        "elif money>samsung:\n",
        "  print('i will buy samsung')\n",
        "elif money>vivo:\n",
        "  print('i will buy vivo')\n",
        "else:\n",
        "  print('i do not have enough money')"
      ],
      "metadata": {
        "colab": {
          "base_uri": "https://localhost:8080/"
        },
        "id": "Nm5MmyBQ-0xX",
        "outputId": "2a26650d-405d-4dab-d001-deeca67c6156"
      },
      "execution_count": null,
      "outputs": [
        {
          "output_type": "stream",
          "name": "stdout",
          "text": [
            "i do not have enough money\n"
          ]
        }
      ]
    },
    {
      "cell_type": "code",
      "source": [
        "#even values from 11 to 20\n",
        "for i in range(11,21):\n",
        "  if i%2==0:\n",
        "    print(f'even values: {i}')"
      ],
      "metadata": {
        "colab": {
          "base_uri": "https://localhost:8080/"
        },
        "id": "SZch0eoB_LMR",
        "outputId": "fbd51a27-4724-4b36-910f-8da682c082c2"
      },
      "execution_count": null,
      "outputs": [
        {
          "output_type": "stream",
          "name": "stdout",
          "text": [
            "even values: 12\n",
            "even values: 14\n",
            "even values: 16\n",
            "even values: 18\n",
            "even values: 20\n"
          ]
        }
      ]
    },
    {
      "cell_type": "code",
      "source": [
        "for i in range(11,21):\n",
        "  if i%2!=0:\n",
        "    print(f'odd value:{i}')"
      ],
      "metadata": {
        "colab": {
          "base_uri": "https://localhost:8080/"
        },
        "id": "QuWbUycf_amp",
        "outputId": "7c3b0e42-0915-4e1b-aec4-75ad3dfb508b"
      },
      "execution_count": null,
      "outputs": [
        {
          "output_type": "stream",
          "name": "stdout",
          "text": [
            "odd value:11\n",
            "odd value:13\n",
            "odd value:15\n",
            "odd value:17\n",
            "odd value:19\n"
          ]
        }
      ]
    },
    {
      "cell_type": "code",
      "source": [
        "#PERFECT NUMBER\n",
        "n=6\n",
        "res=0\n",
        "for i in range(1,n):\n",
        "  if n%i==0:\n",
        "    res=res+i\n",
        "print(res)\n"
      ],
      "metadata": {
        "colab": {
          "base_uri": "https://localhost:8080/"
        },
        "id": "YDR8hR62_uFJ",
        "outputId": "84ff6cfe-8ee2-4393-8ed8-abb074cbe72d"
      },
      "execution_count": null,
      "outputs": [
        {
          "output_type": "stream",
          "name": "stdout",
          "text": [
            "6\n"
          ]
        }
      ]
    },
    {
      "cell_type": "code",
      "source": [
        "#PERFECT NUMBER\n",
        "n=6\n",
        "res=0\n",
        "for i in range(1,n):\n",
        "  if n%i==0:\n",
        "    res=res+i\n",
        "if n==res:\n",
        "  print(f'{n } is a perfect number')\n",
        "else:\n",
        "  print(f'{n } is not a perfect number')"
      ],
      "metadata": {
        "colab": {
          "base_uri": "https://localhost:8080/"
        },
        "id": "nFrKks32ADAm",
        "outputId": "f98e9dce-2284-42ee-d227-06e2e4b9a72f"
      },
      "execution_count": null,
      "outputs": [
        {
          "output_type": "stream",
          "name": "stdout",
          "text": [
            "6 is a perfect number\n"
          ]
        }
      ]
    },
    {
      "cell_type": "code",
      "source": [
        "#PERFECT NUMBER\n",
        "n=8\n",
        "res=0\n",
        "for i in range(1,n):\n",
        "  if n%i==0:\n",
        "    res=res+i\n",
        "if n==res:\n",
        "  print(f'{n } is a perfect number')\n",
        "else:\n",
        "  print(f'{n } is not a perfect number')"
      ],
      "metadata": {
        "colab": {
          "base_uri": "https://localhost:8080/"
        },
        "id": "IuIPPh5eAwAd",
        "outputId": "f088a9b5-f04b-4e9f-fb4f-e81e846702db"
      },
      "execution_count": null,
      "outputs": [
        {
          "output_type": "stream",
          "name": "stdout",
          "text": [
            "8 is not a perfect number\n"
          ]
        }
      ]
    },
    {
      "cell_type": "code",
      "source": [
        "#break\n",
        "for i in range(11,21):\n",
        "  print(i)\n",
        "  if i==13:\n",
        "    break"
      ],
      "metadata": {
        "colab": {
          "base_uri": "https://localhost:8080/"
        },
        "id": "EVJ44KyxA62t",
        "outputId": "6e8288be-f376-4d96-8600-0cf22cf35578"
      },
      "execution_count": null,
      "outputs": [
        {
          "output_type": "stream",
          "name": "stdout",
          "text": [
            "11\n",
            "12\n",
            "13\n"
          ]
        }
      ]
    },
    {
      "cell_type": "code",
      "source": [
        "#break\n",
        "for i in range(11,21):\n",
        "  print(i)\n",
        "  if i==17:\n",
        "    break"
      ],
      "metadata": {
        "colab": {
          "base_uri": "https://localhost:8080/"
        },
        "id": "XmHmVZ6jBupb",
        "outputId": "cbda9ad0-99a6-4b22-9eac-9366cd049f0c"
      },
      "execution_count": null,
      "outputs": [
        {
          "output_type": "stream",
          "name": "stdout",
          "text": [
            "11\n",
            "12\n",
            "13\n",
            "14\n",
            "15\n",
            "16\n",
            "17\n"
          ]
        }
      ]
    },
    {
      "cell_type": "markdown",
      "source": [
        "**While loop**"
      ],
      "metadata": {
        "id": "o5fMSPXVCBH3"
      }
    },
    {
      "cell_type": "code",
      "source": [
        "a=1\n",
        "while a<=10:\n",
        "  print(a)\n",
        "  a=a+1"
      ],
      "metadata": {
        "colab": {
          "base_uri": "https://localhost:8080/"
        },
        "id": "-B2xL3RbB9Eh",
        "outputId": "827fb979-8fdc-4fc8-9ba0-c0cc2530d8d3"
      },
      "execution_count": null,
      "outputs": [
        {
          "output_type": "stream",
          "name": "stdout",
          "text": [
            "1\n",
            "2\n",
            "3\n",
            "4\n",
            "5\n",
            "6\n",
            "7\n",
            "8\n",
            "9\n",
            "10\n"
          ]
        }
      ]
    },
    {
      "cell_type": "code",
      "source": [
        "#continue\n",
        "for i in range(11,17):\n",
        "  #print(i)\n",
        "  if i==13:\n",
        "    continue\n",
        "  print(i)"
      ],
      "metadata": {
        "colab": {
          "base_uri": "https://localhost:8080/"
        },
        "id": "k3AkzB2kC7p1",
        "outputId": "a9ebc2c8-cf99-4be9-e5af-8fcf2f727329"
      },
      "execution_count": null,
      "outputs": [
        {
          "output_type": "stream",
          "name": "stdout",
          "text": [
            "11\n",
            "12\n",
            "14\n",
            "15\n",
            "16\n"
          ]
        }
      ]
    },
    {
      "cell_type": "code",
      "source": [
        "a=1\n",
        "while a<=20:\n",
        "  print(a)\n",
        "  a=a+1\n"
      ],
      "metadata": {
        "colab": {
          "base_uri": "https://localhost:8080/"
        },
        "id": "M3J6Tqk0DQ_d",
        "outputId": "f554b79e-9862-4ba5-bc59-01b756af5d2d"
      },
      "execution_count": null,
      "outputs": [
        {
          "output_type": "stream",
          "name": "stdout",
          "text": [
            "1\n",
            "2\n",
            "3\n",
            "4\n",
            "5\n",
            "6\n",
            "7\n",
            "8\n",
            "9\n",
            "10\n",
            "11\n",
            "12\n",
            "13\n",
            "14\n",
            "15\n",
            "16\n",
            "17\n",
            "18\n",
            "19\n",
            "20\n"
          ]
        }
      ]
    },
    {
      "cell_type": "code",
      "source": [
        "n=12\n",
        "res=0\n",
        "for i in range(1,n):\n",
        "  if n%i==0:\n",
        "    res=res+i\n",
        "if n==res:\n",
        "  print(f'{n} is perfect num')\n",
        "else:\n",
        "  print(f'{n} is not perfect num')"
      ],
      "metadata": {
        "colab": {
          "base_uri": "https://localhost:8080/"
        },
        "id": "OlA3W9yWDpNO",
        "outputId": "b228b1b3-8709-47b5-89cf-9b6c3d745aed"
      },
      "execution_count": null,
      "outputs": [
        {
          "output_type": "stream",
          "name": "stdout",
          "text": [
            "12 is not perfect num\n"
          ]
        }
      ]
    },
    {
      "cell_type": "code",
      "source": [
        "for i in range(11,21):\n",
        "  print(i)\n",
        "  if i==15:\n",
        "    break"
      ],
      "metadata": {
        "colab": {
          "base_uri": "https://localhost:8080/"
        },
        "id": "qscVolchD_dL",
        "outputId": "9d3e9065-b4e1-4593-c4df-53eff42f45bd"
      },
      "execution_count": null,
      "outputs": [
        {
          "output_type": "stream",
          "name": "stdout",
          "text": [
            "11\n",
            "12\n",
            "13\n",
            "14\n",
            "15\n"
          ]
        }
      ]
    },
    {
      "cell_type": "code",
      "source": [
        "for i in range(11,21):\n",
        "  if i==16:\n",
        "    continue\n",
        "  print(i)"
      ],
      "metadata": {
        "colab": {
          "base_uri": "https://localhost:8080/"
        },
        "id": "tdGWGk8EEuRE",
        "outputId": "6500e171-0d43-4f04-d747-386194b962d2"
      },
      "execution_count": null,
      "outputs": [
        {
          "output_type": "stream",
          "name": "stdout",
          "text": [
            "11\n",
            "12\n",
            "13\n",
            "14\n",
            "15\n",
            "17\n",
            "18\n",
            "19\n",
            "20\n"
          ]
        }
      ]
    },
    {
      "cell_type": "code",
      "source": [
        "a=1\n",
        "while a<=10:\n",
        "  print(a)\n",
        "  a=a+1"
      ],
      "metadata": {
        "colab": {
          "base_uri": "https://localhost:8080/"
        },
        "id": "75fwWhkFE-Gk",
        "outputId": "68528b0c-fdaf-414f-fc82-c56db0ce6286"
      },
      "execution_count": null,
      "outputs": [
        {
          "output_type": "stream",
          "name": "stdout",
          "text": [
            "1\n",
            "2\n",
            "3\n",
            "4\n",
            "5\n",
            "6\n",
            "7\n",
            "8\n",
            "9\n",
            "10\n"
          ]
        }
      ]
    },
    {
      "cell_type": "markdown",
      "source": [
        "Write the **forloop** for\n",
        "\n",
        "string|list|tuple|sets|dict"
      ],
      "metadata": {
        "id": "rjK0YgDz3EWF"
      }
    },
    {
      "cell_type": "code",
      "source": [
        "#string\n",
        "a='data'\n",
        "for i in a:\n",
        "  print(i)"
      ],
      "metadata": {
        "id": "rsNe5scNFMX0",
        "colab": {
          "base_uri": "https://localhost:8080/"
        },
        "outputId": "2b34465d-3314-4c08-abc4-5702bd8f6967"
      },
      "execution_count": null,
      "outputs": [
        {
          "output_type": "stream",
          "name": "stdout",
          "text": [
            "d\n",
            "a\n",
            "t\n",
            "a\n"
          ]
        }
      ]
    },
    {
      "cell_type": "code",
      "source": [
        "a='data'\n",
        "for i in a:\n",
        "  print(i,end='')"
      ],
      "metadata": {
        "colab": {
          "base_uri": "https://localhost:8080/"
        },
        "id": "GNpjEID33U9c",
        "outputId": "ded0e8b7-3031-4578-ecb8-89846f690266"
      },
      "execution_count": null,
      "outputs": [
        {
          "output_type": "stream",
          "name": "stdout",
          "text": [
            "data"
          ]
        }
      ]
    },
    {
      "cell_type": "code",
      "source": [
        "a='data'\n",
        "for i in a:\n",
        "  print(i,ord(i))"
      ],
      "metadata": {
        "colab": {
          "base_uri": "https://localhost:8080/"
        },
        "id": "x3yn34MK3mmx",
        "outputId": "def8189b-f4ec-41b1-d826-1d36b71ba1d9"
      },
      "execution_count": null,
      "outputs": [
        {
          "output_type": "stream",
          "name": "stdout",
          "text": [
            "d 100\n",
            "a 97\n",
            "t 116\n",
            "a 97\n"
          ]
        }
      ]
    },
    {
      "cell_type": "code",
      "source": [
        "#list\n",
        "b=[10,20,30,40]\n",
        "for i in b:\n",
        "  print(i+10)"
      ],
      "metadata": {
        "colab": {
          "base_uri": "https://localhost:8080/"
        },
        "id": "0sXU0vO93s5e",
        "outputId": "b9319a12-37dc-486a-9c2f-11768c9dca87"
      },
      "execution_count": null,
      "outputs": [
        {
          "output_type": "stream",
          "name": "stdout",
          "text": [
            "20\n",
            "30\n",
            "40\n",
            "50\n"
          ]
        }
      ]
    },
    {
      "cell_type": "code",
      "source": [
        "#tuple\n",
        "a=(10,20,30,40)\n",
        "for i in a:\n",
        "  print(i+10)"
      ],
      "metadata": {
        "colab": {
          "base_uri": "https://localhost:8080/"
        },
        "id": "Imd6EC3I32Oi",
        "outputId": "8ada887b-7181-44b2-fd0e-3ba98e04bc03"
      },
      "execution_count": null,
      "outputs": [
        {
          "output_type": "stream",
          "name": "stdout",
          "text": [
            "20\n",
            "30\n",
            "40\n",
            "50\n"
          ]
        }
      ]
    },
    {
      "cell_type": "code",
      "source": [
        "#sets->it prints randomly\n",
        "a={10,20,30,40}\n",
        "for i in a:\n",
        "  print(i+10)"
      ],
      "metadata": {
        "colab": {
          "base_uri": "https://localhost:8080/"
        },
        "id": "rWUFUdFb39Ze",
        "outputId": "a48d74ad-972e-42b8-dd93-d2b6224f02ed"
      },
      "execution_count": null,
      "outputs": [
        {
          "output_type": "stream",
          "name": "stdout",
          "text": [
            "50\n",
            "20\n",
            "30\n",
            "40\n"
          ]
        }
      ]
    },
    {
      "cell_type": "code",
      "source": [
        "#dict\n",
        "#here it collects only keys it wont pick values\n",
        "a={'apple':100,'carrot':200,'banana':300}\n",
        "for i in a:\n",
        "  print(i)"
      ],
      "metadata": {
        "colab": {
          "base_uri": "https://localhost:8080/"
        },
        "id": "rnmpy3194HcG",
        "outputId": "9eec175b-7bad-4ac1-e7a6-bd4275c1fef8"
      },
      "execution_count": null,
      "outputs": [
        {
          "output_type": "stream",
          "name": "stdout",
          "text": [
            "apple\n",
            "carrot\n",
            "banana\n"
          ]
        }
      ]
    },
    {
      "cell_type": "code",
      "source": [
        "#dict\n",
        "#to pick values we need to write a[i]\n",
        "a={'apple':100,'carrot':200,'banana':300}\n",
        "for i in a:\n",
        "  print(i)\n",
        "  print(a[i])"
      ],
      "metadata": {
        "colab": {
          "base_uri": "https://localhost:8080/"
        },
        "id": "SD3Iev454YE5",
        "outputId": "b3c1b083-f3e0-400c-9578-212cca18ec43"
      },
      "execution_count": null,
      "outputs": [
        {
          "output_type": "stream",
          "name": "stdout",
          "text": [
            "apple\n",
            "100\n",
            "carrot\n",
            "200\n",
            "banana\n",
            "300\n"
          ]
        }
      ]
    },
    {
      "cell_type": "code",
      "source": [
        "#factorial of a given num\n",
        "n=5\n",
        "res=1\n",
        "\n",
        "for i in range(1,n+1):\n",
        "  res=res*i\n",
        "print(res)"
      ],
      "metadata": {
        "colab": {
          "base_uri": "https://localhost:8080/"
        },
        "id": "aR1TwNL94cD1",
        "outputId": "c06cff07-7053-4273-a0a5-a03c26bd6aed"
      },
      "execution_count": null,
      "outputs": [
        {
          "output_type": "stream",
          "name": "stdout",
          "text": [
            "120\n"
          ]
        }
      ]
    },
    {
      "cell_type": "code",
      "source": [
        "#find the sum of digits\n",
        "n=567\n",
        "res=0\n",
        "b=str(n)\n",
        "for i in b:\n",
        "  res=res+int(i)\n",
        "print(res)"
      ],
      "metadata": {
        "colab": {
          "base_uri": "https://localhost:8080/"
        },
        "id": "doByPHg8454f",
        "outputId": "1918f8e1-bfc8-4bc1-f66c-cfc5b1d64b82"
      },
      "execution_count": null,
      "outputs": [
        {
          "output_type": "stream",
          "name": "stdout",
          "text": [
            "18\n"
          ]
        }
      ]
    },
    {
      "cell_type": "code",
      "source": [
        "n=567\n",
        "res=0\n",
        "b=str(n)\n",
        "for i in b:\n",
        "  res=res+int(i)\n",
        "print(res)"
      ],
      "metadata": {
        "colab": {
          "base_uri": "https://localhost:8080/"
        },
        "id": "ZFkyh3fG5dwt",
        "outputId": "ae8b78f9-f2fa-437e-fb4c-fcf49aa41c11"
      },
      "execution_count": null,
      "outputs": [
        {
          "output_type": "stream",
          "name": "stdout",
          "text": [
            "18\n"
          ]
        }
      ]
    },
    {
      "cell_type": "code",
      "source": [
        "#find the num of values in the list without using len\n",
        "a=[10,20,30,40,100,200]\n",
        "r=0\n",
        "for i in a:\n",
        "  r=r+1\n",
        "print(r)"
      ],
      "metadata": {
        "colab": {
          "base_uri": "https://localhost:8080/"
        },
        "id": "evovhCvJ58_J",
        "outputId": "244117b9-4cf2-4555-9833-8149a7ffc9b6"
      },
      "execution_count": null,
      "outputs": [
        {
          "output_type": "stream",
          "name": "stdout",
          "text": [
            "6\n"
          ]
        }
      ]
    },
    {
      "cell_type": "code",
      "source": [
        "a=[10,20,30,40,50]\n",
        "r=0\n",
        "for i in a:\n",
        "  r=r+1\n",
        "print(r)"
      ],
      "metadata": {
        "colab": {
          "base_uri": "https://localhost:8080/"
        },
        "id": "ubVRBh-I6S_t",
        "outputId": "56f8b924-351c-4310-8483-17ab10cd501e"
      },
      "execution_count": null,
      "outputs": [
        {
          "output_type": "stream",
          "name": "stdout",
          "text": [
            "5\n"
          ]
        }
      ]
    },
    {
      "cell_type": "code",
      "source": [
        "for i in range(11,16):\n",
        "  for j in range(21,26):\n",
        "    print(i+j)\n",
        "  print()"
      ],
      "metadata": {
        "colab": {
          "base_uri": "https://localhost:8080/"
        },
        "id": "CmYndnR9Orqn",
        "outputId": "8a8820e6-6cfc-4e19-abd2-04383bdc22ac"
      },
      "execution_count": null,
      "outputs": [
        {
          "output_type": "stream",
          "name": "stdout",
          "text": [
            "32\n",
            "33\n",
            "34\n",
            "35\n",
            "36\n",
            "\n",
            "33\n",
            "34\n",
            "35\n",
            "36\n",
            "37\n",
            "\n",
            "34\n",
            "35\n",
            "36\n",
            "37\n",
            "38\n",
            "\n",
            "35\n",
            "36\n",
            "37\n",
            "38\n",
            "39\n",
            "\n",
            "36\n",
            "37\n",
            "38\n",
            "39\n",
            "40\n",
            "\n"
          ]
        }
      ]
    },
    {
      "cell_type": "code",
      "source": [
        "for i in range(11,16):\n",
        "  for j in range(21,26):\n",
        "    print(i+j, end=' ')\n",
        "  print()"
      ],
      "metadata": {
        "colab": {
          "base_uri": "https://localhost:8080/"
        },
        "id": "P8zc9eIE6gOV",
        "outputId": "97757587-0628-43e4-ad12-0aed1be15998"
      },
      "execution_count": null,
      "outputs": [
        {
          "output_type": "stream",
          "name": "stdout",
          "text": [
            "32 33 34 35 36 \n",
            "33 34 35 36 37 \n",
            "34 35 36 37 38 \n",
            "35 36 37 38 39 \n",
            "36 37 38 39 40 \n"
          ]
        }
      ]
    },
    {
      "cell_type": "code",
      "source": [
        "for i in range(5):\n",
        "  for j in range(5):\n",
        "    print('*',end=' ')\n",
        "  print()"
      ],
      "metadata": {
        "colab": {
          "base_uri": "https://localhost:8080/"
        },
        "id": "RvpeXnNz6q1N",
        "outputId": "29b0b08e-fafc-421d-b761-415b6fcf9047"
      },
      "execution_count": null,
      "outputs": [
        {
          "output_type": "stream",
          "name": "stdout",
          "text": [
            "* * * * * \n",
            "* * * * * \n",
            "* * * * * \n",
            "* * * * * \n",
            "* * * * * \n"
          ]
        }
      ]
    },
    {
      "cell_type": "code",
      "source": [
        "#find given num is palindrome or not\n",
        "n=121\n",
        "b=str(n)\n",
        "print(f'value in b:{b}')\n",
        "c=b[::-1]\n",
        "print(f'value in c:{c}')\n",
        "if b==c:\n",
        "  print(f'palindrome:{n}')\n",
        "else:\n",
        "  print(f'not palindrome:{n}')"
      ],
      "metadata": {
        "colab": {
          "base_uri": "https://localhost:8080/"
        },
        "id": "6Q-Go5s_6-IL",
        "outputId": "43bec0ee-bcae-4b2f-a691-2e1980fb743f"
      },
      "execution_count": null,
      "outputs": [
        {
          "output_type": "stream",
          "name": "stdout",
          "text": [
            "value in b:121\n",
            "value in c:121\n",
            "palindrome:121\n"
          ]
        }
      ]
    },
    {
      "cell_type": "code",
      "source": [
        "#find given num is palindrome or not\n",
        "n=123\n",
        "b=str(n)\n",
        "print(f'value in b:{b}')\n",
        "c=b[::-1]\n",
        "print(f'value in c:{c}')\n",
        "if b==c:\n",
        "  print(f'palindrome:{n}')\n",
        "else:\n",
        "  print(f'not palindrome:{n}')"
      ],
      "metadata": {
        "colab": {
          "base_uri": "https://localhost:8080/"
        },
        "id": "fWBfVaOv7bc0",
        "outputId": "d2dec344-43b4-46c0-bffa-3076f96750ef"
      },
      "execution_count": null,
      "outputs": [
        {
          "output_type": "stream",
          "name": "stdout",
          "text": [
            "value in b:123\n",
            "value in c:321\n",
            "not palindrome:123\n"
          ]
        }
      ]
    },
    {
      "cell_type": "code",
      "source": [
        "n=121\n",
        "temp=n\n",
        "r=0\n",
        "while n>0:\n",
        "  f=n%10\n",
        "  r=(r*10)+f\n",
        "  n=n//10\n",
        "print(f'value in r:{r}')\n",
        "if temp==r:\n",
        "  print(f'palindrome:{temp}')\n",
        "else:\n",
        "  print(f'not palindrome:{temp}')"
      ],
      "metadata": {
        "colab": {
          "base_uri": "https://localhost:8080/"
        },
        "id": "PrqBZ-Hd8FWK",
        "outputId": "03d2a8f3-5f50-45ff-ec67-d8ac3db4114f"
      },
      "execution_count": null,
      "outputs": [
        {
          "output_type": "stream",
          "name": "stdout",
          "text": [
            "value in r:121\n",
            "palindrome:121\n"
          ]
        }
      ]
    },
    {
      "cell_type": "code",
      "source": [
        "n=121\n",
        "temp=n\n",
        "rev=0\n",
        "while n>0:\n",
        "  f=n%10\n",
        "  rev=(rev*10)+f\n",
        "  n=n//10\n",
        "print(f'value of r:{r}')\n",
        "if temp==r:\n",
        "  print(f'palindrome:{temp}')\n",
        "else:\n",
        "  print(f'not palindrome:{temp}')"
      ],
      "metadata": {
        "colab": {
          "base_uri": "https://localhost:8080/"
        },
        "id": "9BeKMrXh8rVO",
        "outputId": "07845234-7504-4494-ff13-672b224b2571"
      },
      "execution_count": null,
      "outputs": [
        {
          "output_type": "stream",
          "name": "stdout",
          "text": [
            "value of r:121\n",
            "palindrome:121\n"
          ]
        }
      ]
    },
    {
      "cell_type": "code",
      "source": [
        "#armstrong num\n",
        "n=153\n",
        "temp=n\n",
        "r=0\n",
        "while n>0:\n",
        "  f=n%10\n",
        "  r=r+(f*f*f)\n",
        "  n=n//10\n",
        "print(f'value of r:{r}')\n",
        "if temp==r:\n",
        "  print(f'armstrong:{temp}')\n",
        "else:\n",
        "  print(f'not armstrong:{temp}')\n"
      ],
      "metadata": {
        "colab": {
          "base_uri": "https://localhost:8080/"
        },
        "id": "XuSEIRlE9OgQ",
        "outputId": "748da96a-4865-458d-c7d0-36f51203d613"
      },
      "execution_count": null,
      "outputs": [
        {
          "output_type": "stream",
          "name": "stdout",
          "text": [
            "value of r:153\n",
            "armstrong:153\n"
          ]
        }
      ]
    },
    {
      "cell_type": "code",
      "source": [
        "#fibonacci series\n",
        "n=5\n",
        "a=0\n",
        "b=1\n",
        "print(a)\n",
        "print(b)\n",
        "for i in range(n-2):\n",
        "  c=a+b\n",
        "  print(c)\n",
        "  a=b\n",
        "  b=c\n"
      ],
      "metadata": {
        "colab": {
          "base_uri": "https://localhost:8080/"
        },
        "id": "aaiy-SWp94wt",
        "outputId": "8cba00ce-fc6c-4906-9ace-24be82cf25d9"
      },
      "execution_count": null,
      "outputs": [
        {
          "output_type": "stream",
          "name": "stdout",
          "text": [
            "0\n",
            "1\n",
            "1\n",
            "2\n",
            "3\n"
          ]
        }
      ]
    },
    {
      "cell_type": "code",
      "source": [
        "n=8\n",
        "a=0\n",
        "b=1\n",
        "print(a)\n",
        "print(b)\n",
        "for i in range(n-2):\n",
        "  c=a+b\n",
        "  print(c)\n",
        "  a=b\n",
        "  b=c"
      ],
      "metadata": {
        "colab": {
          "base_uri": "https://localhost:8080/"
        },
        "id": "8JiyBra6-oMa",
        "outputId": "6e136d48-113a-470f-d26c-d495adab8379"
      },
      "execution_count": null,
      "outputs": [
        {
          "output_type": "stream",
          "name": "stdout",
          "text": [
            "0\n",
            "1\n",
            "1\n",
            "2\n",
            "3\n",
            "5\n",
            "8\n",
            "13\n"
          ]
        }
      ]
    },
    {
      "cell_type": "code",
      "source": [
        "n=123\n",
        "r=0\n",
        "b=str(n)\n",
        "for i in b:\n",
        "  r=r+int(i)\n",
        "print(r)"
      ],
      "metadata": {
        "colab": {
          "base_uri": "https://localhost:8080/"
        },
        "id": "G1crBXIW-9mv",
        "outputId": "e3e51402-255b-4343-8460-1b76ce7a9a53"
      },
      "execution_count": null,
      "outputs": [
        {
          "output_type": "stream",
          "name": "stdout",
          "text": [
            "6\n"
          ]
        }
      ]
    },
    {
      "cell_type": "code",
      "source": [
        "for i in range(11,16):\n",
        "  for j in range(21,26):\n",
        "    print(i,j)\n",
        "  print()"
      ],
      "metadata": {
        "id": "7oCx2M3a_Z0a",
        "colab": {
          "base_uri": "https://localhost:8080/"
        },
        "outputId": "55d8ba12-bbe7-4dbe-fb43-076e6f4d86e5"
      },
      "execution_count": null,
      "outputs": [
        {
          "output_type": "stream",
          "name": "stdout",
          "text": [
            "11 21\n",
            "11 22\n",
            "11 23\n",
            "11 24\n",
            "11 25\n",
            "\n",
            "12 21\n",
            "12 22\n",
            "12 23\n",
            "12 24\n",
            "12 25\n",
            "\n",
            "13 21\n",
            "13 22\n",
            "13 23\n",
            "13 24\n",
            "13 25\n",
            "\n",
            "14 21\n",
            "14 22\n",
            "14 23\n",
            "14 24\n",
            "14 25\n",
            "\n",
            "15 21\n",
            "15 22\n",
            "15 23\n",
            "15 24\n",
            "15 25\n",
            "\n"
          ]
        }
      ]
    },
    {
      "cell_type": "code",
      "source": [
        "n=5\n",
        "r=2\n",
        "\n",
        "for i in range(5):\n",
        "  print(i*r,end=' ')"
      ],
      "metadata": {
        "id": "TH4KURfDO-tw",
        "colab": {
          "base_uri": "https://localhost:8080/"
        },
        "outputId": "94705ac7-d59c-470d-8206-f4de1671bfa1"
      },
      "execution_count": null,
      "outputs": [
        {
          "output_type": "stream",
          "name": "stdout",
          "text": [
            "0 2 4 6 8 "
          ]
        }
      ]
    },
    {
      "cell_type": "code",
      "source": [
        "n=5\n",
        "r=3\n",
        "\n",
        "for i in range(5):\n",
        "  print(i*r,end=' ')\n"
      ],
      "metadata": {
        "colab": {
          "base_uri": "https://localhost:8080/"
        },
        "id": "baPIBoVbim-c",
        "outputId": "a58aca06-c696-49e7-b061-0bc2aa528249"
      },
      "execution_count": null,
      "outputs": [
        {
          "output_type": "stream",
          "name": "stdout",
          "text": [
            "0 3 6 9 12 "
          ]
        }
      ]
    },
    {
      "cell_type": "code",
      "source": [
        "#prime number\n",
        "n=7\n",
        "c=0\n",
        "for i in range(1,n+1):\n",
        "  if n%i==0:\n",
        "    c=c+1\n",
        "if c==2:\n",
        "  print(f'{n} is a prime number')\n",
        "else:\n",
        "  print(f'{n} is not a prime number')\n"
      ],
      "metadata": {
        "colab": {
          "base_uri": "https://localhost:8080/"
        },
        "id": "gX5hTjIYi43e",
        "outputId": "1cfee5e0-9b72-43e6-b308-08ddcbf0f3cc"
      },
      "execution_count": null,
      "outputs": [
        {
          "output_type": "stream",
          "name": "stdout",
          "text": [
            "7 is a prime number\n"
          ]
        }
      ]
    },
    {
      "cell_type": "code",
      "source": [
        "for i in range(1,6):\n",
        "  print(i,end=i*'.')\n",
        "  print()"
      ],
      "metadata": {
        "colab": {
          "base_uri": "https://localhost:8080/"
        },
        "id": "jLgsUyiwjV3f",
        "outputId": "824a16d1-22f3-446e-f070-3fa7d01bff53"
      },
      "execution_count": null,
      "outputs": [
        {
          "output_type": "stream",
          "name": "stdout",
          "text": [
            "1.\n",
            "2..\n",
            "3...\n",
            "4....\n",
            "5.....\n"
          ]
        }
      ]
    },
    {
      "cell_type": "code",
      "source": [
        "for i in range(1,6):\n",
        "  print(i,end=i*'.')\n"
      ],
      "metadata": {
        "colab": {
          "base_uri": "https://localhost:8080/"
        },
        "id": "dw4vvY5wj0Wo",
        "outputId": "5c4c96ff-d524-450d-e44e-a6ae0e3086b5"
      },
      "execution_count": null,
      "outputs": [
        {
          "output_type": "stream",
          "name": "stdout",
          "text": [
            "1.2..3...4....5....."
          ]
        }
      ]
    },
    {
      "cell_type": "code",
      "source": [
        "a=[7,3,3,7,5,1,3,2,4,2]\n",
        "\n",
        "even_based=a[1::2]\n",
        "\n",
        "odd_based=a[::2]\n",
        "\n",
        "print(f'Even_based:{even_based}')\n",
        "\n",
        "print(f'Odd_based:{odd_based}')\n",
        "c=0\n",
        "d=0\n",
        "for i in range(5):\n",
        "  c= c+even_based[i]\n",
        "  d= d+odd_based[i]\n",
        "print(c)\n",
        "print(d)"
      ],
      "metadata": {
        "colab": {
          "base_uri": "https://localhost:8080/"
        },
        "id": "ntlInxF9j-RX",
        "outputId": "d2107a4b-ad00-44a3-b336-1efb09cc4ed8"
      },
      "execution_count": null,
      "outputs": [
        {
          "output_type": "stream",
          "name": "stdout",
          "text": [
            "Even_based:[3, 7, 1, 2, 2]\n",
            "Odd_based:[7, 3, 5, 3, 4]\n",
            "15\n",
            "22\n"
          ]
        }
      ]
    },
    {
      "cell_type": "code",
      "source": [
        "#Advanced Questions\n",
        "#from the values 12 to 50 print the values that divide by 3 and 5\n",
        "c=[]\n",
        "for i in range(12,51):\n",
        "  if i%3==0 and i%5==0:\n",
        "    c.append(i)\n",
        "print(c)"
      ],
      "metadata": {
        "id": "sx_ZxzizkX9n",
        "colab": {
          "base_uri": "https://localhost:8080/"
        },
        "outputId": "2af39103-23b1-484e-b208-78df0580d1a6"
      },
      "execution_count": null,
      "outputs": [
        {
          "output_type": "stream",
          "name": "stdout",
          "text": [
            "[15, 30, 45]\n"
          ]
        }
      ]
    },
    {
      "cell_type": "code",
      "source": [
        "for i in range(1,101):\n",
        "  if i%2==0 and i%4==0:\n",
        "    print(i,end=' ')"
      ],
      "metadata": {
        "colab": {
          "base_uri": "https://localhost:8080/"
        },
        "id": "LjDsxzL4-BhN",
        "outputId": "aa1842e9-3c90-4c93-88cd-ab3eb655fb40"
      },
      "execution_count": null,
      "outputs": [
        {
          "output_type": "stream",
          "name": "stdout",
          "text": [
            "4 8 12 16 20 24 28 32 36 40 44 48 52 56 60 64 68 72 76 80 84 88 92 96 100 "
          ]
        }
      ]
    },
    {
      "cell_type": "code",
      "source": [
        "#atai\n",
        "a=[[12.55,10,'data science',45],[10,1,5.5,'python']]\n",
        "res=0\n",
        "for i in a:\n",
        "  for j in i:\n",
        "    if type(j)==int:\n",
        "      res=res+j\n",
        "print(res)"
      ],
      "metadata": {
        "colab": {
          "base_uri": "https://localhost:8080/"
        },
        "id": "UfKE0Cfa-S6t",
        "outputId": "12bd6fb6-f6fa-4c17-de66-ac18f17e42a0"
      },
      "execution_count": null,
      "outputs": [
        {
          "output_type": "stream",
          "name": "stdout",
          "text": [
            "66\n"
          ]
        }
      ]
    },
    {
      "cell_type": "code",
      "source": [
        "a=[[12.55,10,'data science',45],[10,1,5.5,'python']]\n",
        "res=0\n",
        "for i in a:\n",
        "  for j in i:\n",
        "    if type(j)==int:\n",
        "      res=res+j\n",
        "print(res)\n"
      ],
      "metadata": {
        "colab": {
          "base_uri": "https://localhost:8080/"
        },
        "id": "2l3JgcIV_Gq0",
        "outputId": "48f4f613-61f0-445f-a570-0e719219ee05"
      },
      "execution_count": null,
      "outputs": [
        {
          "output_type": "stream",
          "name": "stdout",
          "text": [
            "66\n"
          ]
        }
      ]
    },
    {
      "cell_type": "code",
      "source": [
        "a='sharuk khan'\n",
        "f={}\n",
        "for i in a:\n",
        "  if i not in f:\n",
        "    f[i]=1\n",
        "  else:\n",
        "    f[i]=f[i]+1\n",
        "print(f)\n"
      ],
      "metadata": {
        "colab": {
          "base_uri": "https://localhost:8080/"
        },
        "id": "mdq36-vn_dFX",
        "outputId": "f3d7f1e8-e06f-4f8e-96b6-64ab8bffdcc0"
      },
      "execution_count": null,
      "outputs": [
        {
          "output_type": "stream",
          "name": "stdout",
          "text": [
            "{'s': 1, 'h': 2, 'a': 2, 'r': 1, 'u': 1, 'k': 2, ' ': 1, 'n': 1}\n"
          ]
        }
      ]
    },
    {
      "cell_type": "code",
      "source": [
        "a='sai krupa'\n",
        "f={}\n",
        "for i in a:\n",
        "  if i not in f:\n",
        "    f[i]=1\n",
        "  else:\n",
        "    f[i]=f[i]+1\n",
        "print(f)\n"
      ],
      "metadata": {
        "colab": {
          "base_uri": "https://localhost:8080/"
        },
        "id": "dSzGjfmC_vMF",
        "outputId": "c0778021-c28d-4eb8-a570-8b9ce89962ea"
      },
      "execution_count": null,
      "outputs": [
        {
          "output_type": "stream",
          "name": "stdout",
          "text": [
            "{'s': 1, 'a': 2, 'i': 1, ' ': 1, 'k': 1, 'r': 1, 'u': 1, 'p': 1}\n"
          ]
        }
      ]
    },
    {
      "cell_type": "code",
      "source": [
        "a='aeroplane12345'\n",
        "res=0\n",
        "for i in a:\n",
        "  if i.isalpha():\n",
        "    res=res+1\n",
        "print(res)\n"
      ],
      "metadata": {
        "colab": {
          "base_uri": "https://localhost:8080/"
        },
        "id": "EdP174Yo_-2x",
        "outputId": "eb0af4c4-8e75-486e-e057-47e7ae2f86e3"
      },
      "execution_count": null,
      "outputs": [
        {
          "output_type": "stream",
          "name": "stdout",
          "text": [
            "9\n"
          ]
        }
      ]
    },
    {
      "cell_type": "code",
      "source": [
        "a='aeroplane12345'\n",
        "res=0\n",
        "for i in a:\n",
        "  if i.isnumeric():\n",
        "    res=res+1\n",
        "print(res)"
      ],
      "metadata": {
        "colab": {
          "base_uri": "https://localhost:8080/"
        },
        "id": "aaXjAPoGASzN",
        "outputId": "1a94cf3c-b2c1-4d96-b662-fa7426ee0ee0"
      },
      "execution_count": null,
      "outputs": [
        {
          "output_type": "stream",
          "name": "stdout",
          "text": [
            "5\n"
          ]
        }
      ]
    },
    {
      "cell_type": "code",
      "source": [
        "a='aeroplane12345'\n",
        "res=0\n",
        "for i in a:\n",
        "  if i.isnumeric():\n",
        "    res=res+1\n",
        "print(res)"
      ],
      "metadata": {
        "colab": {
          "base_uri": "https://localhost:8080/"
        },
        "id": "CGcMgKWlArx1",
        "outputId": "3e8c7291-a55b-4dd9-f8a8-07f07c127008"
      },
      "execution_count": null,
      "outputs": [
        {
          "output_type": "stream",
          "name": "stdout",
          "text": [
            "5\n"
          ]
        }
      ]
    },
    {
      "cell_type": "code",
      "source": [
        "a=[7,3,3,7,5,1,3,2,4,2]\n",
        "\n",
        "even_based=a[1::2]\n",
        "odd_based=a[::2]\n",
        "\n",
        "print(f'Even:{even_based}')\n",
        "print(f'Odd:{odd_based}')\n",
        "\n",
        "c=0\n",
        "d=0\n",
        "for i in range(5):\n",
        "  c=c+even_based[i]\n",
        "  d=d+odd_based[i]\n",
        "print(c)\n",
        "print(d)"
      ],
      "metadata": {
        "colab": {
          "base_uri": "https://localhost:8080/"
        },
        "id": "AdKgwNEnAwEj",
        "outputId": "b64bb056-3515-4acc-fa7f-daa7f2694f10"
      },
      "execution_count": null,
      "outputs": [
        {
          "output_type": "stream",
          "name": "stdout",
          "text": [
            "Even:[3, 7, 1, 2, 2]\n",
            "Odd:[7, 3, 5, 3, 4]\n",
            "15\n",
            "22\n"
          ]
        }
      ]
    },
    {
      "cell_type": "code",
      "source": [
        "n=10\n",
        "r=2\n",
        "for i in range(n):\n",
        "  print(i*r,end=' ')"
      ],
      "metadata": {
        "colab": {
          "base_uri": "https://localhost:8080/"
        },
        "id": "Cedo3j9UBsG2",
        "outputId": "ed873fb1-fee1-4dc6-96e9-ea3240e8d005"
      },
      "execution_count": null,
      "outputs": [
        {
          "output_type": "stream",
          "name": "stdout",
          "text": [
            "0 2 4 6 8 10 12 14 16 18 "
          ]
        }
      ]
    },
    {
      "cell_type": "code",
      "source": [
        "n=5\n",
        "r=3\n",
        "for i in range(n):\n",
        "  print(i*r,end=' ')"
      ],
      "metadata": {
        "colab": {
          "base_uri": "https://localhost:8080/"
        },
        "id": "J5DkWsOMCItZ",
        "outputId": "fdedbfec-7e19-49b9-9544-709e8776c668"
      },
      "execution_count": null,
      "outputs": [
        {
          "output_type": "stream",
          "name": "stdout",
          "text": [
            "0 3 6 9 12 "
          ]
        }
      ]
    },
    {
      "cell_type": "code",
      "source": [
        "for i in range(1,6):\n",
        "  print(i,end=i*'.')"
      ],
      "metadata": {
        "colab": {
          "base_uri": "https://localhost:8080/"
        },
        "id": "vpQayLQNCQlY",
        "outputId": "72e95c07-a6c3-43fe-ba45-e7ee5862bfff"
      },
      "execution_count": null,
      "outputs": [
        {
          "output_type": "stream",
          "name": "stdout",
          "text": [
            "1.2..3...4....5....."
          ]
        }
      ]
    },
    {
      "cell_type": "code",
      "source": [
        "a='kamal'\n",
        "t=''\n",
        "for i in a:\n",
        "  t=i+t\n",
        "print(t)"
      ],
      "metadata": {
        "colab": {
          "base_uri": "https://localhost:8080/"
        },
        "id": "f5lWaP-xDBGU",
        "outputId": "172d3ebf-fa93-476d-e973-8f47c4088a4f"
      },
      "execution_count": null,
      "outputs": [
        {
          "output_type": "stream",
          "name": "stdout",
          "text": [
            "lamak\n"
          ]
        }
      ]
    },
    {
      "cell_type": "code",
      "source": [
        "a='dell'\n",
        "t=''\n",
        "for i in a:\n",
        "  t= i+t\n",
        "print(t)"
      ],
      "metadata": {
        "colab": {
          "base_uri": "https://localhost:8080/"
        },
        "id": "ooSbFel3Ck1z",
        "outputId": "8cc88c9b-54b9-44a6-b199-709b3a001c7d"
      },
      "execution_count": null,
      "outputs": [
        {
          "output_type": "stream",
          "name": "stdout",
          "text": [
            "lled\n"
          ]
        }
      ]
    },
    {
      "cell_type": "code",
      "source": [
        "#prime number\n",
        "n=7\n",
        "c=0\n",
        "for i in range(1,n+1):\n",
        "  if n%i==0:\n",
        "    c=c+1\n",
        "if c==2:\n",
        "  print(f'{n} is a prime')\n",
        "else:\n",
        "  print(f'{n} is not prime')"
      ],
      "metadata": {
        "colab": {
          "base_uri": "https://localhost:8080/"
        },
        "id": "73DL2S05Dm_r",
        "outputId": "75796751-b879-4ba9-cbae-9c6a45719e4f"
      },
      "execution_count": null,
      "outputs": [
        {
          "output_type": "stream",
          "name": "stdout",
          "text": [
            "7 is a prime\n"
          ]
        }
      ]
    },
    {
      "cell_type": "code",
      "source": [
        "n=5\n",
        "c=0\n",
        "for i in range(1,n+1):\n",
        "  if n%i==0:\n",
        "    c=c+1\n",
        "if c==2:\n",
        "  print(f'{n} is prime')"
      ],
      "metadata": {
        "colab": {
          "base_uri": "https://localhost:8080/"
        },
        "id": "dDigV1hOD-54",
        "outputId": "658e4470-add6-4394-b78f-6502f4f7c167"
      },
      "execution_count": null,
      "outputs": [
        {
          "output_type": "stream",
          "name": "stdout",
          "text": [
            "5 is prime\n"
          ]
        }
      ]
    },
    {
      "cell_type": "code",
      "source": [],
      "metadata": {
        "id": "gfC3jV6MEZQU"
      },
      "execution_count": null,
      "outputs": []
    }
  ]
}