{
  "nbformat": 4,
  "nbformat_minor": 0,
  "metadata": {
    "colab": {
      "provenance": []
    },
    "kernelspec": {
      "name": "python3",
      "display_name": "Python 3"
    },
    "language_info": {
      "name": "python"
    }
  },
  "cells": [
    {
      "cell_type": "markdown",
      "source": [
        "**Relation with print and variables**"
      ],
      "metadata": {
        "id": "R57PWCFiXHls"
      }
    },
    {
      "cell_type": "markdown",
      "source": [
        "- `Rule_1:Using ,(comma) we can add one data type inside the print with the other data type and also comma will give one tab space."
      ],
      "metadata": {
        "id": "4T2_TNB0XVla"
      }
    },
    {
      "cell_type": "code",
      "source": [
        "a=27\n",
        "print('my age is',a)"
      ],
      "metadata": {
        "colab": {
          "base_uri": "https://localhost:8080/"
        },
        "id": "76HEJv1kWMae",
        "outputId": "fd0ee5d9-d165-49c4-df3c-1e2791298b28"
      },
      "execution_count": null,
      "outputs": [
        {
          "output_type": "stream",
          "name": "stdout",
          "text": [
            "my age is 27\n"
          ]
        }
      ]
    },
    {
      "cell_type": "code",
      "execution_count": null,
      "metadata": {
        "colab": {
          "base_uri": "https://localhost:8080/"
        },
        "id": "pHg-Klf4V0TE",
        "outputId": "da473140-bb9e-48fb-a161-b03775e9ac34"
      },
      "outputs": [
        {
          "output_type": "stream",
          "name": "stdout",
          "text": [
            "my age is 27\n"
          ]
        }
      ],
      "source": [
        "a=27\n",
        "print('my age is',a)"
      ]
    },
    {
      "cell_type": "code",
      "source": [
        "a=45\n",
        "b='USA'\n",
        "c=90.22\n",
        "print('I am at the age of',a,'staying in',b,'and earning',c,'thousand dollars per year')"
      ],
      "metadata": {
        "colab": {
          "base_uri": "https://localhost:8080/"
        },
        "id": "UF0h9o8mWTsk",
        "outputId": "313da9c2-c333-4991-a184-0a361591543d"
      },
      "execution_count": null,
      "outputs": [
        {
          "output_type": "stream",
          "name": "stdout",
          "text": [
            "I am at the age of 45 staying in USA and earning 90.22 thousand dollars per year\n"
          ]
        }
      ]
    },
    {
      "cell_type": "markdown",
      "source": [
        "Before the second technique we need to know type conversions\n",
        "\n",
        "**TYPE CONVERSIONS OR TYPE CASTING**"
      ],
      "metadata": {
        "id": "V_gRjmOeYF-A"
      }
    },
    {
      "cell_type": "markdown",
      "source": [
        "**int -> float and int -> str**\n",
        "\n",
        "**float -> int and float -> str**\n",
        "\n",
        "**str -> int and str -> float**\n",
        "\n",
        "These are 6 possibilities\n"
      ],
      "metadata": {
        "id": "8towwR8JYNIL"
      }
    },
    {
      "cell_type": "code",
      "source": [
        "# int -> float\n",
        "a=25\n",
        "print(a)\n",
        "print(type(a))\n",
        "\n",
        "b=float(a)\n",
        "print(b)\n",
        "print(type(b))"
      ],
      "metadata": {
        "colab": {
          "base_uri": "https://localhost:8080/"
        },
        "id": "YidR43E_ZGOJ",
        "outputId": "c906ac8e-e0c1-48ca-9d0a-32e117a76ed8"
      },
      "execution_count": null,
      "outputs": [
        {
          "output_type": "stream",
          "name": "stdout",
          "text": [
            "25\n",
            "<class 'int'>\n",
            "25.0\n",
            "<class 'float'>\n"
          ]
        }
      ]
    },
    {
      "cell_type": "code",
      "source": [
        "# int -> str\n",
        "a=25\n",
        "print(a)\n",
        "print(type(a))\n",
        "\n",
        "b=str(a)\n",
        "print(b)\n",
        "print(type(b))"
      ],
      "metadata": {
        "colab": {
          "base_uri": "https://localhost:8080/"
        },
        "id": "WpBlgwMIZn2A",
        "outputId": "5f713837-2e80-4ed3-f0be-09625ce4f224"
      },
      "execution_count": null,
      "outputs": [
        {
          "output_type": "stream",
          "name": "stdout",
          "text": [
            "25\n",
            "<class 'int'>\n",
            "25\n",
            "<class 'str'>\n"
          ]
        }
      ]
    },
    {
      "cell_type": "code",
      "source": [
        "f='56'\n",
        "print(f)"
      ],
      "metadata": {
        "colab": {
          "base_uri": "https://localhost:8080/"
        },
        "id": "Iq0IIU06Z7ho",
        "outputId": "9f808204-6890-4155-fe27-c38916b96cb8"
      },
      "execution_count": null,
      "outputs": [
        {
          "output_type": "stream",
          "name": "stdout",
          "text": [
            "56\n"
          ]
        }
      ]
    },
    {
      "cell_type": "code",
      "source": [
        "f='56'\n",
        "print(type(f))"
      ],
      "metadata": {
        "id": "oqOkEj6-aNv-",
        "colab": {
          "base_uri": "https://localhost:8080/"
        },
        "outputId": "c9f20711-6cc5-4fd3-d2bf-7d0d00afbd3a"
      },
      "execution_count": null,
      "outputs": [
        {
          "output_type": "stream",
          "name": "stdout",
          "text": [
            "<class 'str'>\n"
          ]
        }
      ]
    },
    {
      "cell_type": "code",
      "source": [
        "f=56\n",
        "str(f)"
      ],
      "metadata": {
        "colab": {
          "base_uri": "https://localhost:8080/",
          "height": 36
        },
        "id": "jMTwTNwJaaGC",
        "outputId": "8812eec0-8c8c-45c8-cd71-6f5fc87fb625"
      },
      "execution_count": null,
      "outputs": [
        {
          "output_type": "execute_result",
          "data": {
            "text/plain": [
              "'56'"
            ],
            "application/vnd.google.colaboratory.intrinsic+json": {
              "type": "string"
            }
          },
          "metadata": {},
          "execution_count": 11
        }
      ]
    },
    {
      "cell_type": "markdown",
      "source": [
        "Here it prints as int but it is a str in memory because it is stored in a variable 'g'."
      ],
      "metadata": {
        "id": "6WNLa7XzaxvX"
      }
    },
    {
      "cell_type": "code",
      "source": [
        "f='56'\n",
        "g=str(f)\n",
        "print(g)\n",
        "print(type(g))"
      ],
      "metadata": {
        "colab": {
          "base_uri": "https://localhost:8080/"
        },
        "id": "yJ22-KEoaktt",
        "outputId": "592570d9-769b-4483-af5b-49682c69fcc2"
      },
      "execution_count": null,
      "outputs": [
        {
          "output_type": "stream",
          "name": "stdout",
          "text": [
            "56\n",
            "<class 'str'>\n"
          ]
        }
      ]
    },
    {
      "cell_type": "code",
      "source": [
        "# float -> int\n",
        "a=25.55\n",
        "print(a)\n",
        "print(type(a))\n",
        "\n",
        "b=int(a)\n",
        "print(b)\n",
        "print(type(b))"
      ],
      "metadata": {
        "colab": {
          "base_uri": "https://localhost:8080/"
        },
        "id": "6Su1EtTDatS-",
        "outputId": "3e5ac47f-ca5e-4b32-d103-e93ac2680373"
      },
      "execution_count": null,
      "outputs": [
        {
          "output_type": "stream",
          "name": "stdout",
          "text": [
            "25.55\n",
            "<class 'float'>\n",
            "25\n",
            "<class 'int'>\n"
          ]
        }
      ]
    },
    {
      "cell_type": "code",
      "source": [
        "#float -> str\n",
        "a=25.55\n",
        "print(a)\n",
        "print(type(a))\n",
        "\n",
        "b=str(a)\n",
        "print(b)\n",
        "print(type(b))"
      ],
      "metadata": {
        "colab": {
          "base_uri": "https://localhost:8080/"
        },
        "id": "o6iO7tuybRIl",
        "outputId": "f427f7b1-cf4a-464a-b154-ced6da5ca93c"
      },
      "execution_count": null,
      "outputs": [
        {
          "output_type": "stream",
          "name": "stdout",
          "text": [
            "25.55\n",
            "<class 'float'>\n",
            "25.55\n",
            "<class 'str'>\n"
          ]
        }
      ]
    },
    {
      "cell_type": "markdown",
      "source": [
        "**The str changes to int and float when quotes contain a num , if quotes contain any string like sai123 it cant convert to convert it needs nltk-natural language tool kit.**"
      ],
      "metadata": {
        "id": "HmIqYuKhcImu"
      }
    },
    {
      "cell_type": "code",
      "source": [
        "#str -> int\n",
        "a='123'\n",
        "print(a)\n",
        "print(type(a))\n",
        "\n",
        "b=int(a)\n",
        "print(b)\n",
        "print(type(b))"
      ],
      "metadata": {
        "colab": {
          "base_uri": "https://localhost:8080/"
        },
        "id": "xHiaQycsbeck",
        "outputId": "5a15d524-6443-4441-90a9-72543211721c"
      },
      "execution_count": null,
      "outputs": [
        {
          "output_type": "stream",
          "name": "stdout",
          "text": [
            "123\n",
            "<class 'str'>\n",
            "123\n",
            "<class 'int'>\n"
          ]
        }
      ]
    },
    {
      "cell_type": "code",
      "source": [
        "#str -> float\n",
        "a='123.45'\n",
        "print(a)\n",
        "print(type(a))\n",
        "\n",
        "b=float(a)\n",
        "print(b)\n",
        "print(type(b))"
      ],
      "metadata": {
        "colab": {
          "base_uri": "https://localhost:8080/"
        },
        "id": "MxhE1gRHbvzJ",
        "outputId": "cfad2c0e-e44f-437a-9dce-59e9d109000b"
      },
      "execution_count": null,
      "outputs": [
        {
          "output_type": "stream",
          "name": "stdout",
          "text": [
            "123.45\n",
            "<class 'str'>\n",
            "123.45\n",
            "<class 'float'>\n"
          ]
        }
      ]
    },
    {
      "cell_type": "code",
      "source": [
        "#str -> int\n",
        "a='sai123'\n",
        "print(a)\n",
        "print(type(a))\n",
        "\n",
        "b=int(a)\n",
        "print(b)\n",
        "print(type(b))"
      ],
      "metadata": {
        "colab": {
          "base_uri": "https://localhost:8080/",
          "height": 245
        },
        "id": "OP0EnXLRcFik",
        "outputId": "0ca0678d-9938-4326-93d3-3a06f3af77a3"
      },
      "execution_count": null,
      "outputs": [
        {
          "output_type": "stream",
          "name": "stdout",
          "text": [
            "sai123\n",
            "<class 'str'>\n"
          ]
        },
        {
          "output_type": "error",
          "ename": "ValueError",
          "evalue": "invalid literal for int() with base 10: 'sai123'",
          "traceback": [
            "\u001b[0;31m---------------------------------------------------------------------------\u001b[0m",
            "\u001b[0;31mValueError\u001b[0m                                Traceback (most recent call last)",
            "\u001b[0;32m<ipython-input-17-b04e0d6ff748>\u001b[0m in \u001b[0;36m<cell line: 6>\u001b[0;34m()\u001b[0m\n\u001b[1;32m      4\u001b[0m \u001b[0mprint\u001b[0m\u001b[0;34m(\u001b[0m\u001b[0mtype\u001b[0m\u001b[0;34m(\u001b[0m\u001b[0ma\u001b[0m\u001b[0;34m)\u001b[0m\u001b[0;34m)\u001b[0m\u001b[0;34m\u001b[0m\u001b[0;34m\u001b[0m\u001b[0m\n\u001b[1;32m      5\u001b[0m \u001b[0;34m\u001b[0m\u001b[0m\n\u001b[0;32m----> 6\u001b[0;31m \u001b[0mb\u001b[0m\u001b[0;34m=\u001b[0m\u001b[0mint\u001b[0m\u001b[0;34m(\u001b[0m\u001b[0ma\u001b[0m\u001b[0;34m)\u001b[0m\u001b[0;34m\u001b[0m\u001b[0;34m\u001b[0m\u001b[0m\n\u001b[0m\u001b[1;32m      7\u001b[0m \u001b[0mprint\u001b[0m\u001b[0;34m(\u001b[0m\u001b[0mb\u001b[0m\u001b[0;34m)\u001b[0m\u001b[0;34m\u001b[0m\u001b[0;34m\u001b[0m\u001b[0m\n\u001b[1;32m      8\u001b[0m \u001b[0mprint\u001b[0m\u001b[0;34m(\u001b[0m\u001b[0mtype\u001b[0m\u001b[0;34m(\u001b[0m\u001b[0mb\u001b[0m\u001b[0;34m)\u001b[0m\u001b[0;34m)\u001b[0m\u001b[0;34m\u001b[0m\u001b[0;34m\u001b[0m\u001b[0m\n",
            "\u001b[0;31mValueError\u001b[0m: invalid literal for int() with base 10: 'sai123'"
          ]
        }
      ]
    },
    {
      "cell_type": "code",
      "source": [
        "#str -> float\n",
        "a='sai123.45'\n",
        "print(a)\n",
        "print(type(a))\n",
        "\n",
        "b=float(a)\n",
        "print(b)\n",
        "print(type(b))"
      ],
      "metadata": {
        "colab": {
          "base_uri": "https://localhost:8080/",
          "height": 245
        },
        "id": "Y_PV5tBucwJs",
        "outputId": "3ed28dce-8f0f-42dd-e928-9ce6961fed19"
      },
      "execution_count": null,
      "outputs": [
        {
          "output_type": "stream",
          "name": "stdout",
          "text": [
            "sai123.45\n",
            "<class 'str'>\n"
          ]
        },
        {
          "output_type": "error",
          "ename": "ValueError",
          "evalue": "could not convert string to float: 'sai123.45'",
          "traceback": [
            "\u001b[0;31m---------------------------------------------------------------------------\u001b[0m",
            "\u001b[0;31mValueError\u001b[0m                                Traceback (most recent call last)",
            "\u001b[0;32m<ipython-input-18-684e7cecfc88>\u001b[0m in \u001b[0;36m<cell line: 6>\u001b[0;34m()\u001b[0m\n\u001b[1;32m      4\u001b[0m \u001b[0mprint\u001b[0m\u001b[0;34m(\u001b[0m\u001b[0mtype\u001b[0m\u001b[0;34m(\u001b[0m\u001b[0ma\u001b[0m\u001b[0;34m)\u001b[0m\u001b[0;34m)\u001b[0m\u001b[0;34m\u001b[0m\u001b[0;34m\u001b[0m\u001b[0m\n\u001b[1;32m      5\u001b[0m \u001b[0;34m\u001b[0m\u001b[0m\n\u001b[0;32m----> 6\u001b[0;31m \u001b[0mb\u001b[0m\u001b[0;34m=\u001b[0m\u001b[0mfloat\u001b[0m\u001b[0;34m(\u001b[0m\u001b[0ma\u001b[0m\u001b[0;34m)\u001b[0m\u001b[0;34m\u001b[0m\u001b[0;34m\u001b[0m\u001b[0m\n\u001b[0m\u001b[1;32m      7\u001b[0m \u001b[0mprint\u001b[0m\u001b[0;34m(\u001b[0m\u001b[0mb\u001b[0m\u001b[0;34m)\u001b[0m\u001b[0;34m\u001b[0m\u001b[0;34m\u001b[0m\u001b[0m\n\u001b[1;32m      8\u001b[0m \u001b[0mprint\u001b[0m\u001b[0;34m(\u001b[0m\u001b[0mtype\u001b[0m\u001b[0;34m(\u001b[0m\u001b[0mb\u001b[0m\u001b[0;34m)\u001b[0m\u001b[0;34m)\u001b[0m\u001b[0;34m\u001b[0m\u001b[0;34m\u001b[0m\u001b[0m\n",
            "\u001b[0;31mValueError\u001b[0m: could not convert string to float: 'sai123.45'"
          ]
        }
      ]
    },
    {
      "cell_type": "markdown",
      "source": [
        "- `Rule_2:Using **+** we can add str data type along with given variables but make sure that variables are also string -> and + operator  wont give one tab space.\n",
        "\n",
        "str is added with string only.\n",
        "\n",
        "\n"
      ],
      "metadata": {
        "id": "pZTuG6yOc678"
      }
    },
    {
      "cell_type": "code",
      "source": [
        "a=27\n",
        "print('my age is '+str(a))"
      ],
      "metadata": {
        "colab": {
          "base_uri": "https://localhost:8080/"
        },
        "id": "B0P0choOdV57",
        "outputId": "9e67f62f-4b24-43ca-c95e-85490b8d6e59"
      },
      "execution_count": null,
      "outputs": [
        {
          "output_type": "stream",
          "name": "stdout",
          "text": [
            "my age is 27\n"
          ]
        }
      ]
    },
    {
      "cell_type": "code",
      "source": [
        "a=45\n",
        "b='USA'\n",
        "c=90.22\n",
        "print('I am at the age of '+str(a)+' staying in '+b+' and earning '+str(c)+' thousand dollars per year')"
      ],
      "metadata": {
        "colab": {
          "base_uri": "https://localhost:8080/"
        },
        "id": "p-lSCZPZd8kn",
        "outputId": "ace8deb2-3f90-4489-d22b-676f47d345f3"
      },
      "execution_count": null,
      "outputs": [
        {
          "output_type": "stream",
          "name": "stdout",
          "text": [
            "I am at the age of 45 staying in USA and earning 90.22 thousand dollars per year\n"
          ]
        }
      ]
    },
    {
      "cell_type": "markdown",
      "source": [
        "- `Rule_2: Using Identifiers->\n",
        "\n",
        "int->%d  and  float->%f and str->%s"
      ],
      "metadata": {
        "id": "YgeAHhxweofS"
      }
    },
    {
      "cell_type": "code",
      "source": [
        "a=25\n",
        "print('my age is %d'%a)"
      ],
      "metadata": {
        "colab": {
          "base_uri": "https://localhost:8080/"
        },
        "id": "gx6PqdXSeZVC",
        "outputId": "313f0bfe-8217-4a01-e598-c57c033f6eab"
      },
      "execution_count": null,
      "outputs": [
        {
          "output_type": "stream",
          "name": "stdout",
          "text": [
            "my age is 25\n"
          ]
        }
      ]
    },
    {
      "cell_type": "code",
      "source": [
        "a=45\n",
        "b='USA'\n",
        "c=90.22\n",
        "print('I am at the age of %d staying in %s and earning %f thousand dollars per year'%(a,b,c))"
      ],
      "metadata": {
        "colab": {
          "base_uri": "https://localhost:8080/"
        },
        "id": "ReJPQdVOfEX7",
        "outputId": "fd107973-cf39-4781-bd31-9c10bc541836"
      },
      "execution_count": null,
      "outputs": [
        {
          "output_type": "stream",
          "name": "stdout",
          "text": [
            "I am at the age of 45 staying in USA and earning 90.220000 thousand dollars per year\n"
          ]
        }
      ]
    },
    {
      "cell_type": "markdown",
      "source": [
        "**Here we need to give correct data types like int means %d that is for example a=45**"
      ],
      "metadata": {
        "id": "eYAvKc3Zf7RM"
      }
    },
    {
      "cell_type": "code",
      "source": [
        "a=45\n",
        "b='USA'\n",
        "c=90.22\n",
        "print('I am at the age of %d staying in %s and earning %f thousand dollars per year'%(b,c,a))"
      ],
      "metadata": {
        "colab": {
          "base_uri": "https://localhost:8080/",
          "height": 176
        },
        "id": "yPFfUtWyfl5p",
        "outputId": "713c1f42-5e1d-4454-eafe-3a95aa1ec374"
      },
      "execution_count": null,
      "outputs": [
        {
          "output_type": "error",
          "ename": "TypeError",
          "evalue": "%d format: a real number is required, not str",
          "traceback": [
            "\u001b[0;31m---------------------------------------------------------------------------\u001b[0m",
            "\u001b[0;31mTypeError\u001b[0m                                 Traceback (most recent call last)",
            "\u001b[0;32m<ipython-input-29-8647f489fb28>\u001b[0m in \u001b[0;36m<cell line: 4>\u001b[0;34m()\u001b[0m\n\u001b[1;32m      2\u001b[0m \u001b[0mb\u001b[0m\u001b[0;34m=\u001b[0m\u001b[0;34m'USA'\u001b[0m\u001b[0;34m\u001b[0m\u001b[0;34m\u001b[0m\u001b[0m\n\u001b[1;32m      3\u001b[0m \u001b[0mc\u001b[0m\u001b[0;34m=\u001b[0m\u001b[0;36m90.22\u001b[0m\u001b[0;34m\u001b[0m\u001b[0;34m\u001b[0m\u001b[0m\n\u001b[0;32m----> 4\u001b[0;31m \u001b[0mprint\u001b[0m\u001b[0;34m(\u001b[0m\u001b[0;34m'I am at the age of %d staying in %s and earning %f thousand dollars per year'\u001b[0m\u001b[0;34m%\u001b[0m\u001b[0;34m(\u001b[0m\u001b[0mb\u001b[0m\u001b[0;34m,\u001b[0m\u001b[0mc\u001b[0m\u001b[0;34m,\u001b[0m\u001b[0ma\u001b[0m\u001b[0;34m)\u001b[0m\u001b[0;34m)\u001b[0m\u001b[0;34m\u001b[0m\u001b[0;34m\u001b[0m\u001b[0m\n\u001b[0m",
            "\u001b[0;31mTypeError\u001b[0m: %d format: a real number is required, not str"
          ]
        }
      ]
    },
    {
      "cell_type": "markdown",
      "source": [
        "- `Rule_4: Using {} and f function\n",
        "\n",
        "if f see anything in flower braces it prints which is in {}"
      ],
      "metadata": {
        "id": "ZinLsV3CgP68"
      }
    },
    {
      "cell_type": "code",
      "source": [
        "a=25\n",
        "print(f'my age is {a}')"
      ],
      "metadata": {
        "colab": {
          "base_uri": "https://localhost:8080/"
        },
        "id": "CHDKAUq4f43u",
        "outputId": "815c3a2b-21ae-4541-aa6a-85a0ad6aab72"
      },
      "execution_count": null,
      "outputs": [
        {
          "output_type": "stream",
          "name": "stdout",
          "text": [
            "my age is 25\n"
          ]
        }
      ]
    },
    {
      "cell_type": "code",
      "source": [
        "a=45\n",
        "b='USA'\n",
        "C=90.22\n",
        "print(f'I am at the age of {a} staying in {b} and earning {c} thousand dollars per year')"
      ],
      "metadata": {
        "colab": {
          "base_uri": "https://localhost:8080/"
        },
        "id": "oxrUWtUrgrod",
        "outputId": "65b0356a-d257-4f58-da88-76a45bafdd8f"
      },
      "execution_count": null,
      "outputs": [
        {
          "output_type": "stream",
          "name": "stdout",
          "text": [
            "I am at the age of 45 staying in USA and earning 90.22 thousand dollars per year\n"
          ]
        }
      ]
    },
    {
      "cell_type": "code",
      "source": [
        "a=25\n",
        "print('my age is',str(a))"
      ],
      "metadata": {
        "id": "ns4I2xJzg_A2",
        "colab": {
          "base_uri": "https://localhost:8080/"
        },
        "outputId": "b80b8ed6-2e4b-4f64-d5b4-1c932e8fbf0b"
      },
      "execution_count": null,
      "outputs": [
        {
          "output_type": "stream",
          "name": "stdout",
          "text": [
            "my age is 25\n"
          ]
        }
      ]
    },
    {
      "cell_type": "code",
      "source": [
        "a=25\n",
        "print('my age is '+str(a))"
      ],
      "metadata": {
        "colab": {
          "base_uri": "https://localhost:8080/"
        },
        "id": "v5UPbgjrizgR",
        "outputId": "14e9e6ce-9e63-4a37-f05e-bc941c52bea1"
      },
      "execution_count": null,
      "outputs": [
        {
          "output_type": "stream",
          "name": "stdout",
          "text": [
            "my age is 25\n"
          ]
        }
      ]
    },
    {
      "cell_type": "code",
      "source": [
        "a=25\n",
        "print('my age is %d'%a)"
      ],
      "metadata": {
        "colab": {
          "base_uri": "https://localhost:8080/"
        },
        "id": "peWHmBckjEYa",
        "outputId": "2b2ca9f0-dd92-4858-a0d4-85080ce21a83"
      },
      "execution_count": null,
      "outputs": [
        {
          "output_type": "stream",
          "name": "stdout",
          "text": [
            "my age is 25\n"
          ]
        }
      ]
    },
    {
      "cell_type": "code",
      "source": [
        "a=25\n",
        "print(f'my age is {a}')"
      ],
      "metadata": {
        "colab": {
          "base_uri": "https://localhost:8080/"
        },
        "id": "guESKTOEjMjo",
        "outputId": "7e6bcd89-454d-42bb-8c4a-ec42fc991c63"
      },
      "execution_count": null,
      "outputs": [
        {
          "output_type": "stream",
          "name": "stdout",
          "text": [
            "my age is 25\n"
          ]
        }
      ]
    },
    {
      "cell_type": "code",
      "source": [
        "a=25\n",
        "print('25'+str(a))"
      ],
      "metadata": {
        "colab": {
          "base_uri": "https://localhost:8080/"
        },
        "id": "UVwRpRLxjite",
        "outputId": "b57be480-fa55-4f74-939f-157d019a77a4"
      },
      "execution_count": null,
      "outputs": [
        {
          "output_type": "stream",
          "name": "stdout",
          "text": [
            "2525\n"
          ]
        }
      ]
    },
    {
      "cell_type": "code",
      "source": [
        "a=25\n",
        "print(25,a)"
      ],
      "metadata": {
        "colab": {
          "base_uri": "https://localhost:8080/"
        },
        "id": "cnuaL89pjoBd",
        "outputId": "4a069b98-1f47-4001-bf23-40fbadbca398"
      },
      "execution_count": null,
      "outputs": [
        {
          "output_type": "stream",
          "name": "stdout",
          "text": [
            "25 25\n"
          ]
        }
      ]
    },
    {
      "cell_type": "code",
      "source": [
        "a=25\n",
        "print('25',a)"
      ],
      "metadata": {
        "colab": {
          "base_uri": "https://localhost:8080/"
        },
        "id": "eT9QjHzRj6vj",
        "outputId": "398f63ed-c8d0-4472-b17a-3010e7b5b607"
      },
      "execution_count": null,
      "outputs": [
        {
          "output_type": "stream",
          "name": "stdout",
          "text": [
            "25 25\n"
          ]
        }
      ]
    },
    {
      "cell_type": "code",
      "source": [
        "a=23\n",
        "print('my roll num is',a)"
      ],
      "metadata": {
        "colab": {
          "base_uri": "https://localhost:8080/"
        },
        "id": "vojJoJf9j_5T",
        "outputId": "a3b5acb4-26f0-4e31-9ba6-088e0d6aad9b"
      },
      "execution_count": null,
      "outputs": [
        {
          "output_type": "stream",
          "name": "stdout",
          "text": [
            "my roll num is 23\n"
          ]
        }
      ]
    },
    {
      "cell_type": "code",
      "source": [
        "a=25\n",
        "print('my roll num is '+str(a))"
      ],
      "metadata": {
        "colab": {
          "base_uri": "https://localhost:8080/"
        },
        "id": "XzxbZPV3kHDu",
        "outputId": "66bd8d41-a28c-4a1a-e2d9-06a431b131e5"
      },
      "execution_count": null,
      "outputs": [
        {
          "output_type": "stream",
          "name": "stdout",
          "text": [
            "my roll num is 25\n"
          ]
        }
      ]
    },
    {
      "cell_type": "code",
      "source": [],
      "metadata": {
        "id": "R1dT84X9kfW5"
      },
      "execution_count": null,
      "outputs": []
    }
  ]
}