{
  "nbformat": 4,
  "nbformat_minor": 0,
  "metadata": {
    "colab": {
      "provenance": []
    },
    "kernelspec": {
      "name": "python3",
      "display_name": "Python 3"
    },
    "language_info": {
      "name": "python"
    }
  },
  "cells": [
    {
      "cell_type": "markdown",
      "source": [
        "- `1. Python sets are represented with-> {}\n"
      ],
      "metadata": {
        "id": "Dbjk_Au88ied"
      }
    },
    {
      "cell_type": "code",
      "execution_count": null,
      "metadata": {
        "colab": {
          "base_uri": "https://localhost:8080/"
        },
        "id": "hCOvSpnw8GZf",
        "outputId": "1ce5e5eb-b981-46be-fabd-ceaaf869cb9e"
      },
      "outputs": [
        {
          "output_type": "stream",
          "name": "stdout",
          "text": [
            "{40, 10, 20, 30}\n"
          ]
        }
      ],
      "source": [
        "a={10,20,30,40}# differently allocated in sets not in an order\n",
        "print(a)"
      ]
    },
    {
      "cell_type": "markdown",
      "source": [
        "- `2. Python sets are unordered pairs-> which means there will be no index concept -> no slicing->no skipping."
      ],
      "metadata": {
        "id": "SB09_zpE9EuD"
      }
    },
    {
      "cell_type": "code",
      "source": [
        "a={10,20,30,40}\n",
        "print(a)"
      ],
      "metadata": {
        "colab": {
          "base_uri": "https://localhost:8080/"
        },
        "id": "HiDihNBm88KD",
        "outputId": "b6a6821e-91aa-450d-fae9-c6c08e63449c"
      },
      "execution_count": null,
      "outputs": [
        {
          "output_type": "stream",
          "name": "stdout",
          "text": [
            "{40, 10, 20, 30}\n"
          ]
        }
      ]
    },
    {
      "cell_type": "code",
      "source": [
        "a={10,100,200,3,4,7,9}\n",
        "print(a)"
      ],
      "metadata": {
        "colab": {
          "base_uri": "https://localhost:8080/"
        },
        "id": "A5fcRuhu9ewq",
        "outputId": "acb87a77-23fa-43a7-a2c6-c0ca69675569"
      },
      "execution_count": null,
      "outputs": [
        {
          "output_type": "stream",
          "name": "stdout",
          "text": [
            "{3, 100, 4, 7, 200, 9, 10}\n"
          ]
        }
      ]
    },
    {
      "cell_type": "markdown",
      "source": [
        "##sets does not have index concept because memory is allocated unorderely\n",
        "\n",
        "There is no index in set->no slicing->no skipping"
      ],
      "metadata": {
        "id": "cjGppViY9q_G"
      }
    },
    {
      "cell_type": "code",
      "source": [
        "a={10,100,200,3,4,7,9}\n",
        "print(a[1])"
      ],
      "metadata": {
        "colab": {
          "base_uri": "https://localhost:8080/",
          "height": 158
        },
        "id": "47Z3e8i39kbF",
        "outputId": "471ff066-8376-4c05-9ef4-8b8cfd02c7a8"
      },
      "execution_count": null,
      "outputs": [
        {
          "output_type": "error",
          "ename": "TypeError",
          "evalue": "'set' object is not subscriptable",
          "traceback": [
            "\u001b[0;31m---------------------------------------------------------------------------\u001b[0m",
            "\u001b[0;31mTypeError\u001b[0m                                 Traceback (most recent call last)",
            "\u001b[0;32m<ipython-input-5-25b97d01a5bc>\u001b[0m in \u001b[0;36m<cell line: 2>\u001b[0;34m()\u001b[0m\n\u001b[1;32m      1\u001b[0m \u001b[0ma\u001b[0m\u001b[0;34m=\u001b[0m\u001b[0;34m{\u001b[0m\u001b[0;36m10\u001b[0m\u001b[0;34m,\u001b[0m\u001b[0;36m100\u001b[0m\u001b[0;34m,\u001b[0m\u001b[0;36m200\u001b[0m\u001b[0;34m,\u001b[0m\u001b[0;36m3\u001b[0m\u001b[0;34m,\u001b[0m\u001b[0;36m4\u001b[0m\u001b[0;34m,\u001b[0m\u001b[0;36m7\u001b[0m\u001b[0;34m,\u001b[0m\u001b[0;36m9\u001b[0m\u001b[0;34m}\u001b[0m\u001b[0;34m\u001b[0m\u001b[0;34m\u001b[0m\u001b[0m\n\u001b[0;32m----> 2\u001b[0;31m \u001b[0mprint\u001b[0m\u001b[0;34m(\u001b[0m\u001b[0ma\u001b[0m\u001b[0;34m[\u001b[0m\u001b[0;36m1\u001b[0m\u001b[0;34m]\u001b[0m\u001b[0;34m)\u001b[0m\u001b[0;34m\u001b[0m\u001b[0;34m\u001b[0m\u001b[0m\n\u001b[0m",
            "\u001b[0;31mTypeError\u001b[0m: 'set' object is not subscriptable"
          ]
        }
      ]
    },
    {
      "cell_type": "markdown",
      "source": [
        "- `3. Python sets won't allow duplicate values"
      ],
      "metadata": {
        "id": "uJYdFQQn-Xtl"
      }
    },
    {
      "cell_type": "code",
      "source": [
        "#duplicate values\n",
        "a={10,20,30,50,10,100,20,10}\n",
        "print(a)"
      ],
      "metadata": {
        "colab": {
          "base_uri": "https://localhost:8080/"
        },
        "id": "-jRS5Yi8-KMl",
        "outputId": "78171596-9ec4-43bb-fcef-6fac51e21f82"
      },
      "execution_count": null,
      "outputs": [
        {
          "output_type": "stream",
          "name": "stdout",
          "text": [
            "{50, 100, 20, 10, 30}\n"
          ]
        }
      ]
    },
    {
      "cell_type": "markdown",
      "source": [
        "- `4.Python sets are mutable -> but they won't allow mutable types inside it\n",
        "\n",
        "mutable-list,sets,dict"
      ],
      "metadata": {
        "id": "3ZMtAPBW-s_g"
      }
    },
    {
      "cell_type": "code",
      "source": [
        "a={10,55.55,'data',(1,2,3)}\n",
        "print(a) #here it executes bcz it has immutables in the set"
      ],
      "metadata": {
        "colab": {
          "base_uri": "https://localhost:8080/"
        },
        "id": "ca2w-nKV-rKR",
        "outputId": "81130240-6c7a-4b71-c9fe-356d9bf94f11"
      },
      "execution_count": null,
      "outputs": [
        {
          "output_type": "stream",
          "name": "stdout",
          "text": [
            "{10, (1, 2, 3), 'data', 55.55}\n"
          ]
        }
      ]
    },
    {
      "cell_type": "code",
      "source": [
        "a={10,55.55,'data',[1,2,3]}\n",
        "print(a)"
      ],
      "metadata": {
        "colab": {
          "base_uri": "https://localhost:8080/",
          "height": 158
        },
        "id": "c2Q8k6pB_PFN",
        "outputId": "4f66d314-3246-428c-8ff5-e11039f12798"
      },
      "execution_count": null,
      "outputs": [
        {
          "output_type": "error",
          "ename": "TypeError",
          "evalue": "unhashable type: 'list'",
          "traceback": [
            "\u001b[0;31m---------------------------------------------------------------------------\u001b[0m",
            "\u001b[0;31mTypeError\u001b[0m                                 Traceback (most recent call last)",
            "\u001b[0;32m<ipython-input-8-028c4044a7ae>\u001b[0m in \u001b[0;36m<cell line: 1>\u001b[0;34m()\u001b[0m\n\u001b[0;32m----> 1\u001b[0;31m \u001b[0ma\u001b[0m\u001b[0;34m=\u001b[0m\u001b[0;34m{\u001b[0m\u001b[0;36m10\u001b[0m\u001b[0;34m,\u001b[0m\u001b[0;36m55.55\u001b[0m\u001b[0;34m,\u001b[0m\u001b[0;34m'data'\u001b[0m\u001b[0;34m,\u001b[0m\u001b[0;34m[\u001b[0m\u001b[0;36m1\u001b[0m\u001b[0;34m,\u001b[0m\u001b[0;36m2\u001b[0m\u001b[0;34m,\u001b[0m\u001b[0;36m3\u001b[0m\u001b[0;34m]\u001b[0m\u001b[0;34m}\u001b[0m\u001b[0;34m\u001b[0m\u001b[0;34m\u001b[0m\u001b[0m\n\u001b[0m\u001b[1;32m      2\u001b[0m \u001b[0mprint\u001b[0m\u001b[0;34m(\u001b[0m\u001b[0ma\u001b[0m\u001b[0;34m)\u001b[0m\u001b[0;34m\u001b[0m\u001b[0;34m\u001b[0m\u001b[0m\n",
            "\u001b[0;31mTypeError\u001b[0m: unhashable type: 'list'"
          ]
        }
      ]
    },
    {
      "cell_type": "markdown",
      "source": [
        "##we can't manually prove that set is mutable but by using built_in_functions we can prove it"
      ],
      "metadata": {
        "id": "JUjS2zde_dco"
      }
    },
    {
      "cell_type": "markdown",
      "source": [
        "#Python _set_built_in_functions\n",
        "add\n",
        "\n",
        "update\n",
        "\n",
        "pop\n",
        "\n",
        "discard\n",
        "\n",
        "remove\n",
        "\n",
        "clear\n",
        "\n",
        "copy\n",
        "\n",
        "union\n",
        "\n",
        "intersection"
      ],
      "metadata": {
        "id": "pPHhnwp1_8P3"
      }
    },
    {
      "cell_type": "code",
      "source": [
        "#add\n",
        "a={10,5,6,20,98,45}\n",
        "print(a)"
      ],
      "metadata": {
        "colab": {
          "base_uri": "https://localhost:8080/"
        },
        "id": "-eibEjPk_aOt",
        "outputId": "54230f19-55d6-4e5f-f1b6-a4a61bdcb517"
      },
      "execution_count": null,
      "outputs": [
        {
          "output_type": "stream",
          "name": "stdout",
          "text": [
            "{98, 20, 5, 6, 10, 45}\n"
          ]
        }
      ]
    },
    {
      "cell_type": "code",
      "source": [
        "#add\n",
        "a={10,5,6,20,98,45}\n",
        "a.add(600)\n",
        "print(a)"
      ],
      "metadata": {
        "colab": {
          "base_uri": "https://localhost:8080/"
        },
        "id": "eZNFo4-iAkwT",
        "outputId": "3ab800f6-bb4c-4377-83a6-4df28f1288e0"
      },
      "execution_count": null,
      "outputs": [
        {
          "output_type": "stream",
          "name": "stdout",
          "text": [
            "{98, 20, 5, 6, 600, 10, 45}\n"
          ]
        }
      ]
    },
    {
      "cell_type": "code",
      "source": [
        "#add->will take only one input from the user and will add to the existing set randomly\n",
        "a={10,5,6,20,98,45}\n",
        "print(f'before adding:{a}')\n",
        "a.add(600)\n",
        "print(f'after adding:{a}')"
      ],
      "metadata": {
        "colab": {
          "base_uri": "https://localhost:8080/"
        },
        "id": "aSau_TWUArEU",
        "outputId": "895dbe12-fac6-4a04-c8ff-6743b6fa2d8b"
      },
      "execution_count": null,
      "outputs": [
        {
          "output_type": "stream",
          "name": "stdout",
          "text": [
            "before adding:{98, 20, 5, 6, 10, 45}\n",
            "after adding:{98, 20, 5, 6, 600, 10, 45}\n"
          ]
        }
      ]
    },
    {
      "cell_type": "code",
      "source": [
        "#update-> will take multiple values from the user and will add to the existing set randomly\n",
        "a={10,5,6,20,98,45}\n",
        "print(f'before adding:{a}')\n",
        "a.update([100,200])\n",
        "print(f'after adding:{a}')"
      ],
      "metadata": {
        "colab": {
          "base_uri": "https://localhost:8080/"
        },
        "id": "ZuPaHRrZA2x5",
        "outputId": "6df55fa0-0935-4b43-80c4-c7edcd0d0295"
      },
      "execution_count": null,
      "outputs": [
        {
          "output_type": "stream",
          "name": "stdout",
          "text": [
            "before adding:{98, 20, 5, 6, 10, 45}\n",
            "after adding:{98, 20, 5, 6, 100, 200, 10, 45}\n"
          ]
        }
      ]
    },
    {
      "cell_type": "code",
      "source": [
        "#pop->it will remove one value randomly\n",
        "a={10,5,6,20,98,45}\n",
        "print(f'before deleting:{a}')\n",
        "a.pop()\n",
        "print(f'after deleting:{a}')"
      ],
      "metadata": {
        "colab": {
          "base_uri": "https://localhost:8080/"
        },
        "id": "oKr7nBzsBJ3X",
        "outputId": "ac9bd0a3-4526-4287-f046-80954ad255a6"
      },
      "execution_count": null,
      "outputs": [
        {
          "output_type": "stream",
          "name": "stdout",
          "text": [
            "before deleting:{98, 20, 5, 6, 10, 45}\n",
            "after deleting:{20, 5, 6, 10, 45}\n"
          ]
        }
      ]
    },
    {
      "cell_type": "code",
      "source": [
        "a={10,5,6,20,98,45}\n",
        "print(f'before deleting:{a}')\n",
        "a.pop(2)# set does not have index\n",
        "print(f'after deleting:{a}')"
      ],
      "metadata": {
        "colab": {
          "base_uri": "https://localhost:8080/",
          "height": 211
        },
        "id": "CPqpQXCbCYbS",
        "outputId": "3762c45f-c198-4e7f-fe1c-c7f05dc74fac"
      },
      "execution_count": null,
      "outputs": [
        {
          "output_type": "stream",
          "name": "stdout",
          "text": [
            "before deleting:{98, 20, 5, 6, 10, 45}\n"
          ]
        },
        {
          "output_type": "error",
          "ename": "TypeError",
          "evalue": "set.pop() takes no arguments (1 given)",
          "traceback": [
            "\u001b[0;31m---------------------------------------------------------------------------\u001b[0m",
            "\u001b[0;31mTypeError\u001b[0m                                 Traceback (most recent call last)",
            "\u001b[0;32m<ipython-input-15-232189eaf9df>\u001b[0m in \u001b[0;36m<cell line: 3>\u001b[0;34m()\u001b[0m\n\u001b[1;32m      1\u001b[0m \u001b[0ma\u001b[0m\u001b[0;34m=\u001b[0m\u001b[0;34m{\u001b[0m\u001b[0;36m10\u001b[0m\u001b[0;34m,\u001b[0m\u001b[0;36m5\u001b[0m\u001b[0;34m,\u001b[0m\u001b[0;36m6\u001b[0m\u001b[0;34m,\u001b[0m\u001b[0;36m20\u001b[0m\u001b[0;34m,\u001b[0m\u001b[0;36m98\u001b[0m\u001b[0;34m,\u001b[0m\u001b[0;36m45\u001b[0m\u001b[0;34m}\u001b[0m\u001b[0;34m\u001b[0m\u001b[0;34m\u001b[0m\u001b[0m\n\u001b[1;32m      2\u001b[0m \u001b[0mprint\u001b[0m\u001b[0;34m(\u001b[0m\u001b[0;34mf'before deleting:{a}'\u001b[0m\u001b[0;34m)\u001b[0m\u001b[0;34m\u001b[0m\u001b[0;34m\u001b[0m\u001b[0m\n\u001b[0;32m----> 3\u001b[0;31m \u001b[0ma\u001b[0m\u001b[0;34m.\u001b[0m\u001b[0mpop\u001b[0m\u001b[0;34m(\u001b[0m\u001b[0;36m2\u001b[0m\u001b[0;34m)\u001b[0m\u001b[0;34m\u001b[0m\u001b[0;34m\u001b[0m\u001b[0m\n\u001b[0m\u001b[1;32m      4\u001b[0m \u001b[0mprint\u001b[0m\u001b[0;34m(\u001b[0m\u001b[0;34mf'after deleting:{a}'\u001b[0m\u001b[0;34m)\u001b[0m\u001b[0;34m\u001b[0m\u001b[0;34m\u001b[0m\u001b[0m\n",
            "\u001b[0;31mTypeError\u001b[0m: set.pop() takes no arguments (1 given)"
          ]
        }
      ]
    },
    {
      "cell_type": "code",
      "source": [
        "#discard->it will take only one input from the user and if the input is available it will remove or else it will be silent\n",
        "a={10,5,6,20,98,45}\n",
        "print(f'before deleting:{a}')\n",
        "a.discard(98)\n",
        "print(f'after deleting:{a}')"
      ],
      "metadata": {
        "colab": {
          "base_uri": "https://localhost:8080/"
        },
        "id": "MHTVnzYBBb02",
        "outputId": "bf086418-1d10-4dd1-f910-9305d6b4215a"
      },
      "execution_count": null,
      "outputs": [
        {
          "output_type": "stream",
          "name": "stdout",
          "text": [
            "before deleting:{98, 20, 5, 6, 10, 45}\n",
            "after deleting:{20, 5, 6, 10, 45}\n"
          ]
        }
      ]
    },
    {
      "cell_type": "code",
      "source": [
        "#discard->it will take only one input from the user and if the input is available it will remove or else it will be silent\n",
        "a={10,5,6,20,98,45}\n",
        "print(f'before deleting:{a}')\n",
        "a.discard(980) # it will be silent if there is no value\n",
        "print(f'after deleting:{a}')"
      ],
      "metadata": {
        "colab": {
          "base_uri": "https://localhost:8080/"
        },
        "id": "w8my_udpCWxB",
        "outputId": "5b26e146-719b-4d17-dbca-b1556e640e47"
      },
      "execution_count": null,
      "outputs": [
        {
          "output_type": "stream",
          "name": "stdout",
          "text": [
            "before deleting:{98, 20, 5, 6, 10, 45}\n",
            "after deleting:{98, 20, 5, 6, 10, 45}\n"
          ]
        }
      ]
    },
    {
      "cell_type": "code",
      "source": [
        "#remove->it will take only one input from the user and if the input is available it will remove or else it will throw an error\n",
        "a={10,5,6,20,98,45}\n",
        "print(f'before deleting:{a}')\n",
        "a.remove()\n",
        "print(f'after deleting:{a}')"
      ],
      "metadata": {
        "colab": {
          "base_uri": "https://localhost:8080/",
          "height": 211
        },
        "id": "2s2IaYKtCjGi",
        "outputId": "fa45a1d0-5f74-432b-a2ce-5dcbe079c325"
      },
      "execution_count": null,
      "outputs": [
        {
          "output_type": "stream",
          "name": "stdout",
          "text": [
            "before deleting:{98, 20, 5, 6, 10, 45}\n"
          ]
        },
        {
          "output_type": "error",
          "ename": "TypeError",
          "evalue": "set.remove() takes exactly one argument (0 given)",
          "traceback": [
            "\u001b[0;31m---------------------------------------------------------------------------\u001b[0m",
            "\u001b[0;31mTypeError\u001b[0m                                 Traceback (most recent call last)",
            "\u001b[0;32m<ipython-input-17-ab08d9ead242>\u001b[0m in \u001b[0;36m<cell line: 4>\u001b[0;34m()\u001b[0m\n\u001b[1;32m      2\u001b[0m \u001b[0ma\u001b[0m\u001b[0;34m=\u001b[0m\u001b[0;34m{\u001b[0m\u001b[0;36m10\u001b[0m\u001b[0;34m,\u001b[0m\u001b[0;36m5\u001b[0m\u001b[0;34m,\u001b[0m\u001b[0;36m6\u001b[0m\u001b[0;34m,\u001b[0m\u001b[0;36m20\u001b[0m\u001b[0;34m,\u001b[0m\u001b[0;36m98\u001b[0m\u001b[0;34m,\u001b[0m\u001b[0;36m45\u001b[0m\u001b[0;34m}\u001b[0m\u001b[0;34m\u001b[0m\u001b[0;34m\u001b[0m\u001b[0m\n\u001b[1;32m      3\u001b[0m \u001b[0mprint\u001b[0m\u001b[0;34m(\u001b[0m\u001b[0;34mf'before deleting:{a}'\u001b[0m\u001b[0;34m)\u001b[0m\u001b[0;34m\u001b[0m\u001b[0;34m\u001b[0m\u001b[0m\n\u001b[0;32m----> 4\u001b[0;31m \u001b[0ma\u001b[0m\u001b[0;34m.\u001b[0m\u001b[0mremove\u001b[0m\u001b[0;34m(\u001b[0m\u001b[0;34m)\u001b[0m\u001b[0;34m\u001b[0m\u001b[0;34m\u001b[0m\u001b[0m\n\u001b[0m\u001b[1;32m      5\u001b[0m \u001b[0mprint\u001b[0m\u001b[0;34m(\u001b[0m\u001b[0;34mf'after deleting:{a}'\u001b[0m\u001b[0;34m)\u001b[0m\u001b[0;34m\u001b[0m\u001b[0;34m\u001b[0m\u001b[0m\n",
            "\u001b[0;31mTypeError\u001b[0m: set.remove() takes exactly one argument (0 given)"
          ]
        }
      ]
    },
    {
      "cell_type": "code",
      "source": [
        "#remove->it will take only one input from the user and if the input is available it will remove or else it will throw an error\n",
        "a={10,5,6,20,98,45}\n",
        "print(f'before deleting:{a}')\n",
        "a.remove(98)\n",
        "print(f'after deleting:{a}')"
      ],
      "metadata": {
        "colab": {
          "base_uri": "https://localhost:8080/"
        },
        "id": "wCTHZicfC2eM",
        "outputId": "71ca9a6f-5f2b-467e-9031-9cf2ac4a64f4"
      },
      "execution_count": null,
      "outputs": [
        {
          "output_type": "stream",
          "name": "stdout",
          "text": [
            "before deleting:{98, 20, 5, 6, 10, 45}\n",
            "after deleting:{20, 5, 6, 10, 45}\n"
          ]
        }
      ]
    },
    {
      "cell_type": "code",
      "source": [
        "#remove->it will take only one input from the user and if the input is available it will remove or else it will throw an error\n",
        "a={10,5,6,20,98,45}\n",
        "print(f'before deleting:{a}')\n",
        "a.remove(980)\n",
        "print(f'after deleting:{a}')"
      ],
      "metadata": {
        "colab": {
          "base_uri": "https://localhost:8080/",
          "height": 211
        },
        "id": "UdPWPeVDC7At",
        "outputId": "0a1902bf-c4d4-42a7-9595-01f4c7234eb4"
      },
      "execution_count": null,
      "outputs": [
        {
          "output_type": "stream",
          "name": "stdout",
          "text": [
            "before deleting:{98, 20, 5, 6, 10, 45}\n"
          ]
        },
        {
          "output_type": "error",
          "ename": "KeyError",
          "evalue": "980",
          "traceback": [
            "\u001b[0;31m---------------------------------------------------------------------------\u001b[0m",
            "\u001b[0;31mKeyError\u001b[0m                                  Traceback (most recent call last)",
            "\u001b[0;32m<ipython-input-19-f3870b58519d>\u001b[0m in \u001b[0;36m<cell line: 4>\u001b[0;34m()\u001b[0m\n\u001b[1;32m      2\u001b[0m \u001b[0ma\u001b[0m\u001b[0;34m=\u001b[0m\u001b[0;34m{\u001b[0m\u001b[0;36m10\u001b[0m\u001b[0;34m,\u001b[0m\u001b[0;36m5\u001b[0m\u001b[0;34m,\u001b[0m\u001b[0;36m6\u001b[0m\u001b[0;34m,\u001b[0m\u001b[0;36m20\u001b[0m\u001b[0;34m,\u001b[0m\u001b[0;36m98\u001b[0m\u001b[0;34m,\u001b[0m\u001b[0;36m45\u001b[0m\u001b[0;34m}\u001b[0m\u001b[0;34m\u001b[0m\u001b[0;34m\u001b[0m\u001b[0m\n\u001b[1;32m      3\u001b[0m \u001b[0mprint\u001b[0m\u001b[0;34m(\u001b[0m\u001b[0;34mf'before deleting:{a}'\u001b[0m\u001b[0;34m)\u001b[0m\u001b[0;34m\u001b[0m\u001b[0;34m\u001b[0m\u001b[0m\n\u001b[0;32m----> 4\u001b[0;31m \u001b[0ma\u001b[0m\u001b[0;34m.\u001b[0m\u001b[0mremove\u001b[0m\u001b[0;34m(\u001b[0m\u001b[0;36m980\u001b[0m\u001b[0;34m)\u001b[0m\u001b[0;34m\u001b[0m\u001b[0;34m\u001b[0m\u001b[0m\n\u001b[0m\u001b[1;32m      5\u001b[0m \u001b[0mprint\u001b[0m\u001b[0;34m(\u001b[0m\u001b[0;34mf'after deleting:{a}'\u001b[0m\u001b[0;34m)\u001b[0m\u001b[0;34m\u001b[0m\u001b[0;34m\u001b[0m\u001b[0m\n",
            "\u001b[0;31mKeyError\u001b[0m: 980"
          ]
        }
      ]
    },
    {
      "cell_type": "markdown",
      "source": [
        "From the above operations we can say that python sets are **mutable data types**\n",
        "\n",
        "set dont have index\n",
        "\n",
        "there is no count bcz no common values-it removes duplicates"
      ],
      "metadata": {
        "id": "SIP2edwhDF2z"
      }
    },
    {
      "cell_type": "code",
      "source": [
        "#copy\n",
        "#deep copy and shallow copy\n",
        "\n",
        "#deep copy\n",
        "a={10,20,39,45,5}\n",
        "b=a\n",
        "print(a)\n",
        "print(b)\n",
        "print(id(a))\n",
        "print(id(b))"
      ],
      "metadata": {
        "colab": {
          "base_uri": "https://localhost:8080/"
        },
        "id": "2YXrCi4qDB01",
        "outputId": "4673ca11-af00-40ba-9ead-3955eae59a59"
      },
      "execution_count": null,
      "outputs": [
        {
          "output_type": "stream",
          "name": "stdout",
          "text": [
            "{20, 5, 39, 10, 45}\n",
            "{20, 5, 39, 10, 45}\n",
            "133192238102144\n",
            "133192238102144\n"
          ]
        }
      ]
    },
    {
      "cell_type": "code",
      "source": [
        "#shallow copy\n",
        "a={10,20,39,45,5}\n",
        "b=a.copy()\n",
        "print(a)\n",
        "print(b)\n",
        "a.add(1000)\n",
        "print(id(a))\n",
        "print(id(b))\n",
        "print(a)\n",
        "print(b)\n"
      ],
      "metadata": {
        "colab": {
          "base_uri": "https://localhost:8080/"
        },
        "id": "q3k4sdtrDku9",
        "outputId": "2e90ade4-36c6-4247-944f-eac7c5c22114"
      },
      "execution_count": null,
      "outputs": [
        {
          "output_type": "stream",
          "name": "stdout",
          "text": [
            "{20, 5, 39, 10, 45}\n",
            "{20, 5, 39, 10, 45}\n",
            "133192238101696\n",
            "133192238103488\n",
            "{20, 5, 39, 1000, 10, 45}\n",
            "{20, 5, 39, 10, 45}\n"
          ]
        }
      ]
    },
    {
      "cell_type": "markdown",
      "source": [
        "union and intersection\n",
        "\n",
        "union -it takes all values single time from a and b\n",
        "\n",
        "intersection -it takes only common values from both a and b"
      ],
      "metadata": {
        "id": "yTn_1lfbEBQs"
      }
    },
    {
      "cell_type": "code",
      "source": [
        "#union\n",
        "a={1,2,3,4,5,6}\n",
        "b={5,6,7,8,9,10}\n",
        "print(a.union(b))"
      ],
      "metadata": {
        "colab": {
          "base_uri": "https://localhost:8080/"
        },
        "id": "kjaNBPlEDxic",
        "outputId": "0902c866-c1ec-485f-cc33-350a888ef578"
      },
      "execution_count": null,
      "outputs": [
        {
          "output_type": "stream",
          "name": "stdout",
          "text": [
            "{1, 2, 3, 4, 5, 6, 7, 8, 9, 10}\n"
          ]
        }
      ]
    },
    {
      "cell_type": "code",
      "source": [
        "#intersection\n",
        "a={1,2,3,4,5,6}\n",
        "b={5,6,7,8,9,10}\n",
        "print(a.intersection(b))"
      ],
      "metadata": {
        "colab": {
          "base_uri": "https://localhost:8080/"
        },
        "id": "ej8BuumYEfLa",
        "outputId": "78664e76-642e-47c3-aac5-6adfa3530f12"
      },
      "execution_count": null,
      "outputs": [
        {
          "output_type": "stream",
          "name": "stdout",
          "text": [
            "{5, 6}\n"
          ]
        }
      ]
    },
    {
      "cell_type": "markdown",
      "source": [
        "# here both need to be sets like a and b need to be set , it won't work if a is  list and b is set"
      ],
      "metadata": {
        "id": "zi7e4y0sEvK_"
      }
    },
    {
      "cell_type": "code",
      "source": [
        "#clear\n",
        "a=''\n",
        "print(type(a))"
      ],
      "metadata": {
        "colab": {
          "base_uri": "https://localhost:8080/"
        },
        "id": "0epgAF82EtC6",
        "outputId": "cb1e098f-e1f6-4140-bc5e-bd345fc9a32f"
      },
      "execution_count": null,
      "outputs": [
        {
          "output_type": "stream",
          "name": "stdout",
          "text": [
            "<class 'str'>\n"
          ]
        }
      ]
    },
    {
      "cell_type": "code",
      "source": [
        "a=[]\n",
        "print(type(a))"
      ],
      "metadata": {
        "colab": {
          "base_uri": "https://localhost:8080/"
        },
        "id": "QoNuvGsBGDF4",
        "outputId": "a9dfa728-2e71-42d3-a297-fe6c5610f30c"
      },
      "execution_count": null,
      "outputs": [
        {
          "output_type": "stream",
          "name": "stdout",
          "text": [
            "<class 'list'>\n"
          ]
        }
      ]
    },
    {
      "cell_type": "code",
      "source": [
        "a=()\n",
        "print(type(a))"
      ],
      "metadata": {
        "colab": {
          "base_uri": "https://localhost:8080/"
        },
        "id": "CSM8MumbGG7j",
        "outputId": "4bef1f84-b76d-4da7-d661-2e9b036a8bbd"
      },
      "execution_count": null,
      "outputs": [
        {
          "output_type": "stream",
          "name": "stdout",
          "text": [
            "<class 'tuple'>\n"
          ]
        }
      ]
    },
    {
      "cell_type": "code",
      "source": [
        "a={}\n",
        "print(type(a))"
      ],
      "metadata": {
        "colab": {
          "base_uri": "https://localhost:8080/"
        },
        "id": "5kGezyj2GItI",
        "outputId": "ff563f1e-5b6f-48d8-ce61-d86a4de15f9b"
      },
      "execution_count": null,
      "outputs": [
        {
          "output_type": "stream",
          "name": "stdout",
          "text": [
            "<class 'dict'>\n"
          ]
        }
      ]
    },
    {
      "cell_type": "markdown",
      "source": [
        "#Empty set representation ->set()\n",
        "\n",
        "#empty dictionary ->**{}**"
      ],
      "metadata": {
        "id": "j4W1g722GPck"
      }
    },
    {
      "cell_type": "code",
      "source": [
        "a={1,10,15,19,25}\n",
        "a.clear()\n",
        "print(a)"
      ],
      "metadata": {
        "colab": {
          "base_uri": "https://localhost:8080/"
        },
        "id": "hkyP1HroGKkl",
        "outputId": "518f57b7-63d1-4116-ddde-f3f92d575111"
      },
      "execution_count": null,
      "outputs": [
        {
          "output_type": "stream",
          "name": "stdout",
          "text": [
            "set()\n"
          ]
        }
      ]
    },
    {
      "cell_type": "code",
      "source": [],
      "metadata": {
        "id": "WE7hhXp9G2C-"
      },
      "execution_count": null,
      "outputs": []
    }
  ]
}