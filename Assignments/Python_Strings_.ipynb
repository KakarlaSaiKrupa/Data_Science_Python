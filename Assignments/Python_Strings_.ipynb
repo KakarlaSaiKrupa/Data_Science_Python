{
  "cells": [
    {
      "cell_type": "markdown",
      "id": "db689fc2",
      "metadata": {
        "id": "db689fc2"
      },
      "source": [
        "### Question 1: Write a Python program to count the number of characters in a string without using len function.\n",
        "\n",
        "- `sample input : `\n",
        "    - `var = 'python java'`\n",
        "- `sample output :`\n",
        "    - `result : 11`"
      ]
    },
    {
      "cell_type": "code",
      "execution_count": 1,
      "id": "c9ce9180",
      "metadata": {
        "colab": {
          "base_uri": "https://localhost:8080/"
        },
        "id": "c9ce9180",
        "outputId": "3a702a3a-9542-4f43-cd47-391279185dcc"
      },
      "outputs": [
        {
          "output_type": "stream",
          "name": "stdout",
          "text": [
            "11\n"
          ]
        }
      ],
      "source": [
        "# Please write The solution Here for above question 1:\n",
        "a='python java'\n",
        "c=0\n",
        "for i in a:\n",
        "  c=c+1\n",
        "print(c)"
      ]
    },
    {
      "cell_type": "markdown",
      "id": "46f069cc",
      "metadata": {
        "id": "46f069cc"
      },
      "source": [
        "### Question 2: Write a Python program to reverse a string without using [::-1]\n",
        "\n",
        "- `sample input : `\n",
        "    - `var = 'python'`\n",
        "- `sample output :`\n",
        "    - `result : nohtyp`"
      ]
    },
    {
      "cell_type": "code",
      "execution_count": 2,
      "id": "2cde3dcc",
      "metadata": {
        "colab": {
          "base_uri": "https://localhost:8080/"
        },
        "id": "2cde3dcc",
        "outputId": "001f9e9e-3a7c-4d0d-9035-a629b26b5214"
      },
      "outputs": [
        {
          "output_type": "stream",
          "name": "stdout",
          "text": [
            "nohtyp\n"
          ]
        }
      ],
      "source": [
        "# Please write The solution Here for above question 2:\n",
        "a='python'\n",
        "s=''\n",
        "for i in a:\n",
        "  s=i+s\n",
        "print(s)"
      ]
    },
    {
      "cell_type": "markdown",
      "id": "0f3a2ef5",
      "metadata": {
        "id": "0f3a2ef5"
      },
      "source": [
        "### Question 3: Write a Python program to check if a string is a palindrome don't use [::-1].\n",
        "\n",
        "- `sample input : `\n",
        "    - `var = 'NUN'`\n",
        "- `sample output :`\n",
        "    - `result : It is a Palindrome`\n",
        "    \n",
        "- `palindrome concept = https://www.dictionary.com/e/palindromic-word/#:~:text=A%20palindrome%20is%20a%20word,roots%20in%20the%20early%201600s.`"
      ]
    },
    {
      "cell_type": "code",
      "execution_count": 7,
      "id": "74b9f01a",
      "metadata": {
        "colab": {
          "base_uri": "https://localhost:8080/"
        },
        "id": "74b9f01a",
        "outputId": "53969c9d-2f61-42b0-dffe-2401aecd017c"
      },
      "outputs": [
        {
          "output_type": "stream",
          "name": "stdout",
          "text": [
            "It is a Palindrome\n"
          ]
        }
      ],
      "source": [
        "# Please write The solution Here for above question 3:\n",
        "n='NUN'\n",
        "s=''\n",
        "for i in n:\n",
        "  s=i+s\n",
        "if n==s:\n",
        "  print('It is a Palindrome')\n",
        "else:\n",
        "  print('It is not a Palindrome')"
      ]
    },
    {
      "cell_type": "markdown",
      "id": "98e0fc60",
      "metadata": {
        "id": "98e0fc60"
      },
      "source": [
        "### Question 4: Write a Python program to find the most common character in a string.\n",
        "\n",
        "- `sample input : `\n",
        "    - `var = 'Hello world '`\n",
        "- `sample output :`\n",
        "    - `result : l, because l is repeating 3 times `"
      ]
    },
    {
      "cell_type": "code",
      "execution_count": 9,
      "id": "d9aa4ca6",
      "metadata": {
        "colab": {
          "base_uri": "https://localhost:8080/"
        },
        "id": "d9aa4ca6",
        "outputId": "9c2edb33-bd13-4700-fc8e-0817506e6060"
      },
      "outputs": [
        {
          "output_type": "stream",
          "name": "stdout",
          "text": [
            "l, because l is repeating 3 times\n"
          ]
        }
      ],
      "source": [
        "# Please write The solution Here for above question 4:\n",
        "a='Hello world'\n",
        "b=[]\n",
        "c=''\n",
        "for i in a:\n",
        "  if i not in b:\n",
        "    b.append(i)\n",
        "max=0\n",
        "for i in b:\n",
        "  d=a.count(i)\n",
        "  if d>max:\n",
        "    max=d\n",
        "    c=i\n",
        "print(f'{c}, because {c} is repeating {max} times')"
      ]
    },
    {
      "cell_type": "markdown",
      "id": "17eb44eb",
      "metadata": {
        "id": "17eb44eb"
      },
      "source": [
        "### Question 5: Write a Python program to check if two strings are anagrams.\n",
        "\n",
        "- `sample input : `\n",
        "    - `var1 = 'listen'`\n",
        "    - `var2 = 'silent'`\n",
        "- `sample output :`\n",
        "    - `result : both are anagram because characters in var2 is in var1`"
      ]
    },
    {
      "cell_type": "code",
      "execution_count": 21,
      "id": "29f0e87e",
      "metadata": {
        "colab": {
          "base_uri": "https://localhost:8080/"
        },
        "id": "29f0e87e",
        "outputId": "980b332d-96a3-42f3-99df-66f21d0104ec"
      },
      "outputs": [
        {
          "output_type": "stream",
          "name": "stdout",
          "text": [
            "both are anagram because characters in silent is in listen\n"
          ]
        }
      ],
      "source": [
        "# Please write The solution Here for above question 5:\n",
        "a='listen'\n",
        "b='silent'\n",
        "c=list(a)\n",
        "d=list(b)\n",
        "c.sort()\n",
        "d.sort()\n",
        "if c==d:\n",
        "  print(f'both are anagram because characters in {b} is in {a}')\n",
        "else:\n",
        "  print(f'both are not anagram because characters in {b} are not in {a}')\n",
        "\n"
      ]
    },
    {
      "cell_type": "markdown",
      "id": "fac17884",
      "metadata": {
        "id": "fac17884"
      },
      "source": [
        "### Question 6: Write a Python program to remove all the vowels from a string.\n",
        "\n",
        "- `sample input : `\n",
        "    - `var = 'python'`\n",
        "- `sample output :`\n",
        "    - `result : pythn , because vowels are [AEIOUaeiou]`"
      ]
    },
    {
      "cell_type": "code",
      "execution_count": 11,
      "id": "f4b33095",
      "metadata": {
        "colab": {
          "base_uri": "https://localhost:8080/"
        },
        "id": "f4b33095",
        "outputId": "b0dc35c5-6e0c-40ba-8fff-d3674c3e5130"
      },
      "outputs": [
        {
          "output_type": "stream",
          "name": "stdout",
          "text": [
            "pythn , because vowels are [AEIOUaeiou]\n"
          ]
        }
      ],
      "source": [
        "# Please write The solution Here for above question 6:\n",
        "a='python'\n",
        "b=''\n",
        "for i in a:\n",
        "  if i not in 'AEIOUaeiou':\n",
        "    b=b+i\n",
        "print(f'{b} , because vowels are [AEIOUaeiou]')"
      ]
    },
    {
      "cell_type": "markdown",
      "id": "2170d6f4",
      "metadata": {
        "id": "2170d6f4"
      },
      "source": [
        "### Question 7: Write a Python program to find the longest word in a string.\n",
        "\n",
        "- `sample input : `\n",
        "    - `var = 'python is Easy Language'`\n",
        "- `sample output :`\n",
        "    - `result : Language`"
      ]
    },
    {
      "cell_type": "code",
      "execution_count": 15,
      "id": "f35de8b3",
      "metadata": {
        "colab": {
          "base_uri": "https://localhost:8080/"
        },
        "id": "f35de8b3",
        "outputId": "9bd75bb5-c46f-4ce3-e22b-5db90bdff5bb"
      },
      "outputs": [
        {
          "output_type": "stream",
          "name": "stdout",
          "text": [
            "Language\n"
          ]
        }
      ],
      "source": [
        "# Please write The solution Here for above question 7:\n",
        "a='python is Easy Language'\n",
        "b=a.split()\n",
        "c=[]\n",
        "for i in b:\n",
        "  if len(i)>len(c):\n",
        "    c=i\n",
        "print(c)"
      ]
    },
    {
      "cell_type": "markdown",
      "id": "f349bdb7",
      "metadata": {
        "id": "f349bdb7"
      },
      "source": [
        "### Question 8: Write a Python program to capitalize the first letter of each word in a string [dont use built-in-function title].\n",
        "\n",
        "- `sample input : `\n",
        "    - `var = 'python is easy'`\n",
        "- `sample output :`\n",
        "    - `result : Python Is Easy`"
      ]
    },
    {
      "cell_type": "code",
      "execution_count": 18,
      "id": "a1b4c4e6",
      "metadata": {
        "colab": {
          "base_uri": "https://localhost:8080/"
        },
        "id": "a1b4c4e6",
        "outputId": "a695cce0-1411-48b3-8416-335bfe6f0df5"
      },
      "outputs": [
        {
          "output_type": "stream",
          "name": "stdout",
          "text": [
            "Python Is Easy\n"
          ]
        }
      ],
      "source": [
        "# Please write The solution Here for above question 8:\n",
        "a='python is easy'\n",
        "b=a.split()\n",
        "\n",
        "c=[]\n",
        "for i in b:\n",
        "  d=i[0].upper()+i[1:]\n",
        "  c.append(d)\n",
        "\n",
        "f=' '.join(c)\n",
        "print(f)"
      ]
    },
    {
      "cell_type": "markdown",
      "id": "d2770696",
      "metadata": {
        "id": "d2770696"
      },
      "source": [
        "### Question 9: Write a Python program to find the frequency of each character in a string.\n",
        "\n",
        "- `sample input : `\n",
        "    - `var = 'sharuk khan'`\n",
        "- `sample output :`\n",
        "    - `result : {'s': 1, 'h': 2, 'a': 2, 'r': 1, 'u': 1, 'k': 2, ' ': 1, 'n': 1}`"
      ]
    },
    {
      "cell_type": "code",
      "execution_count": 19,
      "id": "7fdc2e9c",
      "metadata": {
        "colab": {
          "base_uri": "https://localhost:8080/"
        },
        "id": "7fdc2e9c",
        "outputId": "668a75cf-f4c1-4e17-ff17-b13767b6f5d9"
      },
      "outputs": [
        {
          "output_type": "stream",
          "name": "stdout",
          "text": [
            "{'s': 1, 'h': 2, 'a': 2, 'r': 1, 'u': 1, 'k': 2, ' ': 1, 'n': 1}\n"
          ]
        }
      ],
      "source": [
        "# Please write The solution Here for above question 9:\n",
        "a='sharuk khan'\n",
        "f={}\n",
        "for i in a:\n",
        "  if i not in f:\n",
        "    f[i]=1\n",
        "  else:\n",
        "    f[i]=f[i]+1\n",
        "print(f)"
      ]
    },
    {
      "cell_type": "markdown",
      "id": "5c9a3f09",
      "metadata": {
        "id": "5c9a3f09"
      },
      "source": [
        "### Question 10: write a python programme to find the sum of all the even characters based on Ascii values\n",
        "\n",
        "- `sample input : `\n",
        "    - `var = 'sharuk khan'`\n",
        "- `sample output :`\n",
        "    - `result : 464`\n"
      ]
    },
    {
      "cell_type": "code",
      "execution_count": 20,
      "id": "57c0c30e",
      "metadata": {
        "colab": {
          "base_uri": "https://localhost:8080/"
        },
        "id": "57c0c30e",
        "outputId": "2d885666-5ced-4c1f-d8b7-d11771a1fb04"
      },
      "outputs": [
        {
          "output_type": "stream",
          "name": "stdout",
          "text": [
            "464\n"
          ]
        }
      ],
      "source": [
        "# Please write The solution Here for above question 10:\n",
        "a='sharuk khan'\n",
        "s=0\n",
        "for i in a:\n",
        "  b=ord(i)\n",
        "  if b%2==0:\n",
        "    s=s+b\n",
        "print(s)\n",
        "# saikamal9797@gmail.com"
      ]
    }
  ],
  "metadata": {
    "kernelspec": {
      "display_name": "Python 3 (ipykernel)",
      "language": "python",
      "name": "python3"
    },
    "language_info": {
      "codemirror_mode": {
        "name": "ipython",
        "version": 3
      },
      "file_extension": ".py",
      "mimetype": "text/x-python",
      "name": "python",
      "nbconvert_exporter": "python",
      "pygments_lexer": "ipython3",
      "version": "3.11.5"
    },
    "colab": {
      "provenance": []
    }
  },
  "nbformat": 4,
  "nbformat_minor": 5
}