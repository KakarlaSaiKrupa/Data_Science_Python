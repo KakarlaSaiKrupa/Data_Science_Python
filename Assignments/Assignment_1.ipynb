{
  "cells": [
    {
      "cell_type": "markdown",
      "metadata": {
        "id": "c-h3B4xThUIz"
      },
      "source": [
        "## Question 1"
      ]
    },
    {
      "cell_type": "markdown",
      "metadata": {
        "id": "rPmlHJHQhUI2"
      },
      "source": [
        "- `Take two integer numbers and return their product. If the product is greater than 1000, then return their sum if product is less than 1000 return product value only.`\n",
        "\n"
      ]
    },
    {
      "cell_type": "code",
      "execution_count": 1,
      "metadata": {
        "id": "IgTcta43hUI4",
        "outputId": "eaa770b4-54c7-4780-9515-9044d3130033",
        "colab": {
          "base_uri": "https://localhost:8080/"
        }
      },
      "outputs": [
        {
          "output_type": "stream",
          "name": "stdout",
          "text": [
            "15\n"
          ]
        }
      ],
      "source": [
        "# Please write The solution Here for above question 1:\n",
        "a=5\n",
        "b=3\n",
        "if a*b>1000:\n",
        "  print(a+b)\n",
        "else:\n",
        "  print(a*b)"
      ]
    },
    {
      "cell_type": "markdown",
      "metadata": {
        "id": "DzXA41yzhUI6"
      },
      "source": [
        "## question 2"
      ]
    },
    {
      "cell_type": "markdown",
      "metadata": {
        "id": "NyXORP-hhUI6"
      },
      "source": [
        "- `Given a range of the first 10 numbers, Iterate from the start number to the end number, and In each iteration print the sum of the current number and previous number`\n",
        "\n",
        "Expected output:\n",
        "-----------------\n",
        "    Printing current and previous number sum in a range(10)\n",
        "    Current Number 0 Previous Number  0  Sum:  0\n",
        "    Current Number 1 Previous Number  0  Sum:  1\n",
        "    Current Number 2 Previous Number  1  Sum:  3\n",
        "    Current Number 3 Previous Number  2  Sum:  5\n",
        "    Current Number 4 Previous Number  3  Sum:  7\n",
        "    Current Number 5 Previous Number  4  Sum:  9\n",
        "    Current Number 6 Previous Number  5  Sum:  11\n",
        "    Current Number 7 Previous Number  6  Sum:  13\n",
        "    Current Number 8 Previous Number  7  Sum:  15\n",
        "    Current Number 9 Previous Number  8  Sum:  17"
      ]
    },
    {
      "cell_type": "code",
      "execution_count": 6,
      "metadata": {
        "id": "0aSQv3U3hUI7",
        "outputId": "2f5f3493-cb92-49d2-cda1-1cf5a17d31ad",
        "colab": {
          "base_uri": "https://localhost:8080/"
        }
      },
      "outputs": [
        {
          "output_type": "stream",
          "name": "stdout",
          "text": [
            "Printing current and previous number sum in range(10)\n",
            "Current Number 0 Previous Number 0 Sum :0\n",
            "Current Number 1 Previous Number 0 Sum :1\n",
            "Current Number 2 Previous Number 1 Sum :3\n",
            "Current Number 3 Previous Number 2 Sum :5\n",
            "Current Number 4 Previous Number 3 Sum :7\n",
            "Current Number 5 Previous Number 4 Sum :9\n",
            "Current Number 6 Previous Number 5 Sum :11\n",
            "Current Number 7 Previous Number 6 Sum :13\n",
            "Current Number 8 Previous Number 7 Sum :15\n",
            "Current Number 9 Previous Number 8 Sum :17\n"
          ]
        }
      ],
      "source": [
        "# Please write The solution Here for above question 2:\n",
        "print('Printing current and previous number sum in range(10)')\n",
        "for i in range(0,10):\n",
        "  s=0\n",
        "  cn=i\n",
        "  if(cn==0):\n",
        "    pn=0\n",
        "  else:\n",
        "    pn=cn-1\n",
        "  s=cn+pn\n",
        "  print(f'Current Number {cn} Previous Number {pn} Sum :{s}')"
      ]
    },
    {
      "cell_type": "markdown",
      "metadata": {
        "id": "__HK9hThhUI8"
      },
      "source": [
        "## question 3"
      ]
    },
    {
      "cell_type": "markdown",
      "metadata": {
        "id": "FIBe-77LhUI9"
      },
      "source": [
        "Given a string and an integer number n, remove characters from a string starting from zero up to n and return a new string\n",
        "\n",
        "- Example :\n",
        "     `(\"pynative\", 4) so output must be tive.`\n",
        "     \n",
        "     `Note: n must be less than the length of the string.`"
      ]
    },
    {
      "cell_type": "code",
      "execution_count": 7,
      "metadata": {
        "id": "jozwtFSphUI-",
        "outputId": "40bfed9d-51fd-4ca2-e212-bfcd7e7e118e",
        "colab": {
          "base_uri": "https://localhost:8080/"
        }
      },
      "outputs": [
        {
          "output_type": "stream",
          "name": "stdout",
          "text": [
            "tive\n"
          ]
        }
      ],
      "source": [
        "# Please write The solution Here for above question 3:\n",
        "s='pynative'\n",
        "n=4\n",
        "print(s[n:])"
      ]
    },
    {
      "cell_type": "markdown",
      "metadata": {
        "id": "1LllootThUI-"
      },
      "source": [
        "## question 4"
      ]
    },
    {
      "cell_type": "markdown",
      "metadata": {
        "id": "JohKc4k3hUI_"
      },
      "source": [
        "### `Given a list of numbers, return True if first and last number of a list is same`\n",
        "\n",
        "    Expected Output:\n",
        "    -------------------------------------\n",
        "\n",
        "    Given list is\n",
        "    a =  [10, 20, 30, 40, 10]\n",
        "    b = [10 , 20 , 30 , 40, 10 ]\n",
        "    result is True\n",
        "\n",
        "    Given list is  \n",
        "    a = [10, 20, 30, 40, 50]\n",
        "    b = [11 , 21 , 31 , 41 , 51 ]\n",
        "    result is False"
      ]
    },
    {
      "cell_type": "code",
      "execution_count": 10,
      "metadata": {
        "id": "VKQHTgAjhUI_",
        "outputId": "f5f7acba-23ca-4352-c00c-b7bb8a9ac17e",
        "colab": {
          "base_uri": "https://localhost:8080/"
        }
      },
      "outputs": [
        {
          "output_type": "stream",
          "name": "stdout",
          "text": [
            "True\n"
          ]
        }
      ],
      "source": [
        "# Please write The solution Here for above question 4:\n",
        "a=[10,20,30,40,10]\n",
        "b=[10,20,30,40,10]\n",
        "if a[0]==a[-1] and b[0]==b[-1]:\n",
        "  print('True')\n",
        "else:\n",
        "  print('False')"
      ]
    },
    {
      "cell_type": "markdown",
      "metadata": {
        "id": "5_2KuWychUJA"
      },
      "source": [
        "## question 5"
      ]
    },
    {
      "cell_type": "markdown",
      "metadata": {
        "id": "-xFrDo1LhUJA"
      },
      "source": [
        "### Given a two Python list. Iterate both lists simultaneously such that list1 should display item in original order and list2 in reverse order\n",
        "\n",
        "    list1 = [10, 20, 30, 40]\n",
        "    list2 = [100, 200, 300, 400]\n",
        "\n",
        "\n",
        "    Expected output:\n",
        "    -----------------------------\n",
        "    10 400\n",
        "    20 300\n",
        "    30 200\n",
        "    40 100"
      ]
    },
    {
      "cell_type": "code",
      "execution_count": 17,
      "metadata": {
        "id": "uELbIYknhUJA",
        "outputId": "f19a8a2f-4777-401a-b1dc-4a7410bfdfd3",
        "colab": {
          "base_uri": "https://localhost:8080/"
        }
      },
      "outputs": [
        {
          "output_type": "stream",
          "name": "stdout",
          "text": [
            "10 400\n",
            "20 300\n",
            "30 200\n",
            "40 100\n"
          ]
        }
      ],
      "source": [
        "# Please write The solution Here for above question 5:\n",
        "list1=[10,20,30,40]\n",
        "list2=[100,200,300,400]\n",
        "list3=list2[::-1]\n",
        "for i in range(len(list1)):\n",
        "  print(list1[i],list3[i])"
      ]
    },
    {
      "cell_type": "markdown",
      "metadata": {
        "id": "1_-kG60xhUJB"
      },
      "source": [
        "## question 6"
      ]
    },
    {
      "cell_type": "markdown",
      "metadata": {
        "id": "8l9ROirchUJB"
      },
      "source": [
        "### Remove empty strings from the list of strings\n",
        "\n",
        "\n",
        "    list1 = [\"Mike\", \"\", \"Emma\", \"Kelly\", \"\", \"Brad\"]\n",
        "\n",
        "    Expected output:\n",
        "    ----------------------\n",
        "\n",
        "    [\"Mike\", \"Emma\", \"Kelly\", \"Brad\"]\n"
      ]
    },
    {
      "cell_type": "code",
      "execution_count": 15,
      "metadata": {
        "id": "ZPalBbmlhUJB",
        "outputId": "2a732d2c-fdc6-47aa-d48a-4a6827e8b975",
        "colab": {
          "base_uri": "https://localhost:8080/"
        }
      },
      "outputs": [
        {
          "output_type": "stream",
          "name": "stdout",
          "text": [
            "['Mike', 'Emma', 'Kelly', 'Brad']\n"
          ]
        }
      ],
      "source": [
        "# Please write The solution Here for above question 6:\n",
        "list1=[\"Mike\",\"\",\"Emma\",\"Kelly\",\"\",\"Brad\"]\n",
        "list2=[]\n",
        "for i in list1:\n",
        "  if i!=\"\":\n",
        "    list2.append(i)\n",
        "print(list2)"
      ]
    },
    {
      "cell_type": "code",
      "execution_count": null,
      "metadata": {
        "id": "orON3rTqhUJB"
      },
      "outputs": [],
      "source": []
    }
  ],
  "metadata": {
    "kernelspec": {
      "display_name": "Python 3 (ipykernel)",
      "language": "python",
      "name": "python3"
    },
    "language_info": {
      "codemirror_mode": {
        "name": "ipython",
        "version": 3
      },
      "file_extension": ".py",
      "mimetype": "text/x-python",
      "name": "python",
      "nbconvert_exporter": "python",
      "pygments_lexer": "ipython3",
      "version": "3.11.5"
    },
    "colab": {
      "provenance": []
    }
  },
  "nbformat": 4,
  "nbformat_minor": 0
}