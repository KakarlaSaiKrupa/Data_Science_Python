{
  "nbformat": 4,
  "nbformat_minor": 0,
  "metadata": {
    "colab": {
      "provenance": []
    },
    "kernelspec": {
      "name": "python3",
      "display_name": "Python 3"
    },
    "language_info": {
      "name": "python"
    }
  },
  "cells": [
    {
      "cell_type": "markdown",
      "source": [
        "1 . Print the input text without vowels using List comprehensions\n",
        "\n",
        "input = 'hai'\n",
        "Expected output = h\n"
      ],
      "metadata": {
        "id": "pKKhv6LxaI7a"
      }
    },
    {
      "cell_type": "code",
      "execution_count": null,
      "metadata": {
        "colab": {
          "base_uri": "https://localhost:8080/"
        },
        "id": "vI-Sb-ofaAMZ",
        "outputId": "8cb9b52a-181c-4b9f-d751-4e6880a8db14"
      },
      "outputs": [
        {
          "output_type": "stream",
          "name": "stdout",
          "text": [
            "h\n"
          ]
        }
      ],
      "source": [
        "#1\n",
        "print(''.join([i for i in 'hai' if i not in 'aeiouAEIOU']))"
      ]
    },
    {
      "cell_type": "markdown",
      "source": [
        "2 . Print only vowels from the text using List comprehensions\n",
        "input = data\n",
        "Expected output = dt\n"
      ],
      "metadata": {
        "id": "wrTMWJJsa3h-"
      }
    },
    {
      "cell_type": "code",
      "source": [
        "#2\n",
        "print(''.join([i for i in 'data' if i not in 'aeiouAEIOU']))"
      ],
      "metadata": {
        "colab": {
          "base_uri": "https://localhost:8080/"
        },
        "id": "fk0DlNjIamAv",
        "outputId": "42129baf-e245-46af-d056-4f8314decd64"
      },
      "execution_count": null,
      "outputs": [
        {
          "output_type": "stream",
          "name": "stdout",
          "text": [
            "dt\n"
          ]
        }
      ]
    },
    {
      "cell_type": "markdown",
      "source": [
        "3. print each valu from the list with its index\n",
        "\n",
        "input = [10,11,50,34]\n",
        "\n",
        "Expected output = [100 , 111 , 502 , 343]\n"
      ],
      "metadata": {
        "id": "FwDfvK-dd-DP"
      }
    },
    {
      "cell_type": "code",
      "source": [
        "#3\n",
        "a=[10,11,50,34]\n",
        "b=[]\n",
        "for i in range(0,len(a)):\n",
        "  b.append((int)((str(a[i])+str(i))))\n",
        "print(b)"
      ],
      "metadata": {
        "colab": {
          "base_uri": "https://localhost:8080/"
        },
        "id": "eItg7nyubiCp",
        "outputId": "3d232c2c-8d50-4ef7-bfb9-11c9263b48c8"
      },
      "execution_count": null,
      "outputs": [
        {
          "output_type": "stream",
          "name": "stdout",
          "text": [
            "[100, 111, 502, 343]\n"
          ]
        }
      ]
    },
    {
      "cell_type": "markdown",
      "source": [
        "4 . This is a Python Program to print all integers that aren’t divisible by either 2 or 3 and lies between 1 and 50."
      ],
      "metadata": {
        "id": "ujAfBuhGffRj"
      }
    },
    {
      "cell_type": "code",
      "source": [
        "#4\n",
        "for i in range(1,51):\n",
        "  if i%2!=0 and i%3!=0:\n",
        "    print(i)"
      ],
      "metadata": {
        "colab": {
          "base_uri": "https://localhost:8080/"
        },
        "id": "4mLAoMC-fWvX",
        "outputId": "fba10fbd-d6e8-4dea-b53c-f03aace2dac6"
      },
      "execution_count": null,
      "outputs": [
        {
          "output_type": "stream",
          "name": "stdout",
          "text": [
            "1\n",
            "5\n",
            "7\n",
            "11\n",
            "13\n",
            "17\n",
            "19\n",
            "23\n",
            "25\n",
            "29\n",
            "31\n",
            "35\n",
            "37\n",
            "41\n",
            "43\n",
            "47\n",
            "49\n"
          ]
        }
      ]
    },
    {
      "cell_type": "markdown",
      "source": [
        "5 . The program takes in an integer and prints the smallest divisor of the integer."
      ],
      "metadata": {
        "id": "jK_cRGMuf-E4"
      }
    },
    {
      "cell_type": "code",
      "source": [
        "#5\n",
        "n=10\n",
        "a=[]\n",
        "for i in range(2,n+1):\n",
        "    if(n%i==0):\n",
        "        a.append(i)\n",
        "a.sort()\n",
        "print(a[0])"
      ],
      "metadata": {
        "colab": {
          "base_uri": "https://localhost:8080/"
        },
        "id": "gfEWA-QofnJu",
        "outputId": "06487c7f-a3d9-4bac-b875-cd0b95373fb6"
      },
      "execution_count": null,
      "outputs": [
        {
          "output_type": "stream",
          "name": "stdout",
          "text": [
            "2\n"
          ]
        }
      ]
    },
    {
      "cell_type": "markdown",
      "source": [
        "6 . Write a Python program to check if it is a strong number or not ."
      ],
      "metadata": {
        "id": "nvpW5Yivg3BK"
      }
    },
    {
      "cell_type": "code",
      "source": [
        "#6\n",
        "n=145\n",
        "sum=0\n",
        "m=n\n",
        "while(m>0):\n",
        "    r=m%10\n",
        "    fact=1\n",
        "    for i in range(1,r+1):\n",
        "        fact*=i\n",
        "    sum+=fact\n",
        "    m//=10\n",
        "if n==sum:\n",
        "    print(\"strong number\")\n",
        "else:\n",
        "    print(\"Not a strong number\")"
      ],
      "metadata": {
        "id": "OZZWPo2ygdLh",
        "colab": {
          "base_uri": "https://localhost:8080/"
        },
        "outputId": "b3e99606-d3cf-4a03-f7e4-9d32761379ad"
      },
      "execution_count": null,
      "outputs": [
        {
          "output_type": "stream",
          "name": "stdout",
          "text": [
            "strong number\n"
          ]
        }
      ]
    },
    {
      "cell_type": "markdown",
      "source": [
        "7 . Write a Python program that takes input from the user and displays that input back in upper and lower cases."
      ],
      "metadata": {
        "id": "t_BIdlLtlqX0"
      }
    },
    {
      "cell_type": "code",
      "source": [
        "#7\n",
        "a='I love my india'\n",
        "upper=\"\"\n",
        "lower=\"\"\n",
        "for char in a:\n",
        "  if 'a' <= char <='z':\n",
        "    upper=upper+chr(ord(char)-32)\n",
        "    lower = lower+char\n",
        "  elif 'A' <= char <='Z':\n",
        "    lower=lower+chr(ord(char)+32)\n",
        "    upper = upper+char\n",
        "  else:\n",
        "    upper=upper+char\n",
        "    lower=lower+char\n",
        "print(\"Upper case:\",upper)\n",
        "print(\"Lower case:\",lower)"
      ],
      "metadata": {
        "colab": {
          "base_uri": "https://localhost:8080/"
        },
        "id": "zYYFpmjxluZl",
        "outputId": "7d65c77a-9a95-4d1c-8b6b-68692360122b"
      },
      "execution_count": null,
      "outputs": [
        {
          "output_type": "stream",
          "name": "stdout",
          "text": [
            "Upper case: I LOVE MY INDIA\n",
            "Lower case: i love my india\n"
          ]
        }
      ]
    },
    {
      "cell_type": "markdown",
      "source": [
        "8 . Write a Python program to remove spaces from a given string\n",
        "\n",
        "input = united states\n",
        "\n",
        "output = unitedstates\n"
      ],
      "metadata": {
        "id": "ZUjO1RPilu6s"
      }
    },
    {
      "cell_type": "code",
      "source": [
        "#8\n",
        "a='united states'\n",
        "b = \"\"\n",
        "for char in a:\n",
        "  if char!=\" \":\n",
        "    b=b+char\n",
        "print(b)"
      ],
      "metadata": {
        "colab": {
          "base_uri": "https://localhost:8080/"
        },
        "id": "mHjrKi-Ghrfk",
        "outputId": "78947acc-9326-4f53-867b-b897062e2bb6"
      },
      "execution_count": null,
      "outputs": [
        {
          "output_type": "stream",
          "name": "stdout",
          "text": [
            "unitedstates\n"
          ]
        }
      ]
    },
    {
      "cell_type": "markdown",
      "source": [
        "9 . Write a Python program to capitalize first and last letters of each word of a given string."
      ],
      "metadata": {
        "id": "q66QC779loBt"
      }
    },
    {
      "cell_type": "code",
      "source": [
        "#9\n",
        "s = \"sai krupa\"\n",
        "a = s.split()\n",
        "r = []\n",
        "for i in a:\n",
        "    x = i[0].upper()+i[1:-1]+i[-1].upper()\n",
        "    r.append(x)\n",
        "r = \" \".join(r)\n",
        "print(r)"
      ],
      "metadata": {
        "colab": {
          "base_uri": "https://localhost:8080/"
        },
        "id": "Kvk_lUG7lo5B",
        "outputId": "c563b5ea-a1ab-44be-bcee-5fec7b9bcc5d"
      },
      "execution_count": null,
      "outputs": [
        {
          "output_type": "stream",
          "name": "stdout",
          "text": [
            "SaI KrupA\n"
          ]
        }
      ]
    },
    {
      "cell_type": "markdown",
      "source": [
        "10 . write a python program to find length of a string but should not use        len keyword\n"
      ],
      "metadata": {
        "id": "UqfTezlViPAS"
      }
    },
    {
      "cell_type": "code",
      "source": [
        "a='saikrupa'\n",
        "r=0\n",
        "for i in a:\n",
        "  r=r+1\n",
        "print(r)"
      ],
      "metadata": {
        "colab": {
          "base_uri": "https://localhost:8080/"
        },
        "id": "_J_XPB6PiQPh",
        "outputId": "d0c06a96-0db5-40b1-8c53-11cac916f6e9"
      },
      "execution_count": null,
      "outputs": [
        {
          "output_type": "stream",
          "name": "stdout",
          "text": [
            "8\n"
          ]
        }
      ]
    },
    {
      "cell_type": "code",
      "source": [],
      "metadata": {
        "id": "A7FnSYSGmnWJ"
      },
      "execution_count": null,
      "outputs": []
    }
  ]
}