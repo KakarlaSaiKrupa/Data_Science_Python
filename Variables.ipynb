{
  "nbformat": 4,
  "nbformat_minor": 0,
  "metadata": {
    "colab": {
      "provenance": []
    },
    "kernelspec": {
      "name": "python3",
      "display_name": "Python 3"
    },
    "language_info": {
      "name": "python"
    }
  },
  "cells": [
    {
      "cell_type": "code",
      "execution_count": null,
      "metadata": {
        "colab": {
          "base_uri": "https://localhost:8080/"
        },
        "id": "SEOuGREHrR-p",
        "outputId": "65b56192-9906-4c78-dd2c-7ef637e218b8"
      },
      "outputs": [
        {
          "output_type": "execute_result",
          "data": {
            "text/plain": [
              "195"
            ]
          },
          "metadata": {},
          "execution_count": 1
        }
      ],
      "source": [
        "a=95\n",
        "a+100"
      ]
    },
    {
      "cell_type": "code",
      "source": [
        "a=98\n",
        "a+100\n",
        "a+200"
      ],
      "metadata": {
        "colab": {
          "base_uri": "https://localhost:8080/"
        },
        "id": "irZvir1krcvd",
        "outputId": "5b817085-5c01-40e0-bd55-67d39812c831"
      },
      "execution_count": null,
      "outputs": [
        {
          "output_type": "execute_result",
          "data": {
            "text/plain": [
              "298"
            ]
          },
          "metadata": {},
          "execution_count": 2
        }
      ]
    },
    {
      "cell_type": "code",
      "source": [
        "a=98\n",
        "print(a+100)\n",
        "print(a+200)"
      ],
      "metadata": {
        "colab": {
          "base_uri": "https://localhost:8080/"
        },
        "id": "Q45T4lXYtd31",
        "outputId": "c174dce9-1966-46cb-9a08-1f10e9de331f"
      },
      "execution_count": null,
      "outputs": [
        {
          "output_type": "stream",
          "name": "stdout",
          "text": [
            "198\n",
            "298\n"
          ]
        }
      ]
    },
    {
      "cell_type": "code",
      "source": [
        "a=200\n",
        "print(a)"
      ],
      "metadata": {
        "colab": {
          "base_uri": "https://localhost:8080/"
        },
        "id": "CoR15Z9ItxTQ",
        "outputId": "8168d583-8ab9-462e-c810-7f3c8aea3f29"
      },
      "execution_count": null,
      "outputs": [
        {
          "output_type": "stream",
          "name": "stdout",
          "text": [
            "200\n"
          ]
        }
      ]
    },
    {
      "cell_type": "code",
      "source": [
        "# float\n",
        "a=55.55\n",
        "print(a)"
      ],
      "metadata": {
        "colab": {
          "base_uri": "https://localhost:8080/"
        },
        "id": "kqRy3G9IzQ1l",
        "outputId": "92eaea41-f955-48b6-a0be-52b40ba60b36"
      },
      "execution_count": null,
      "outputs": [
        {
          "output_type": "stream",
          "name": "stdout",
          "text": [
            "55.55\n"
          ]
        }
      ]
    },
    {
      "cell_type": "code",
      "source": [
        "# float\n",
        "a=55.55\n",
        "print(a+10)"
      ],
      "metadata": {
        "colab": {
          "base_uri": "https://localhost:8080/"
        },
        "id": "rwSV7B14zX0K",
        "outputId": "b5cae4d2-a688-46d0-8314-8ce95f96b8ae"
      },
      "execution_count": null,
      "outputs": [
        {
          "output_type": "stream",
          "name": "stdout",
          "text": [
            "65.55\n"
          ]
        }
      ]
    },
    {
      "cell_type": "code",
      "source": [
        "# string\n",
        "a='data'\n",
        "print(a)"
      ],
      "metadata": {
        "colab": {
          "base_uri": "https://localhost:8080/"
        },
        "id": "kfFJbgA2zf1z",
        "outputId": "decfd6fc-6288-46fc-bfda-11cdac6c376b"
      },
      "execution_count": null,
      "outputs": [
        {
          "output_type": "stream",
          "name": "stdout",
          "text": [
            "data\n"
          ]
        }
      ]
    },
    {
      "cell_type": "code",
      "source": [
        "# int\n",
        "# float\n",
        "# string\n",
        "a=100\n",
        "b=45.55\n",
        "c='python'\n",
        "print(a)\n",
        "print(b)\n",
        "print(c)"
      ],
      "metadata": {
        "colab": {
          "base_uri": "https://localhost:8080/"
        },
        "id": "ZS1pswAGzk5Y",
        "outputId": "333be727-27be-4213-96b8-10c4a36179f2"
      },
      "execution_count": null,
      "outputs": [
        {
          "output_type": "stream",
          "name": "stdout",
          "text": [
            "100\n",
            "45.55\n",
            "python\n"
          ]
        }
      ]
    },
    {
      "cell_type": "code",
      "source": [
        "# int\n",
        "# float\n",
        "# string\n",
        "a=100\n",
        "b=55.55\n",
        "c='python123'\n",
        "print(id(a))\n",
        "print(id(b))\n",
        "print(id(c))"
      ],
      "metadata": {
        "colab": {
          "base_uri": "https://localhost:8080/"
        },
        "id": "BeNBQG4Szx0d",
        "outputId": "bdfdd565-0825-4b22-aef7-1618bc337578"
      },
      "execution_count": null,
      "outputs": [
        {
          "output_type": "stream",
          "name": "stdout",
          "text": [
            "133675231235408\n",
            "133673951295120\n",
            "133673949311280\n"
          ]
        }
      ]
    },
    {
      "cell_type": "code",
      "source": [
        "a='800'\n",
        "print(a)"
      ],
      "metadata": {
        "colab": {
          "base_uri": "https://localhost:8080/"
        },
        "id": "SRePGQr-0Te3",
        "outputId": "b2db90c6-dcc0-4f13-8e08-843fae6d3d82"
      },
      "execution_count": null,
      "outputs": [
        {
          "output_type": "stream",
          "name": "stdout",
          "text": [
            "800\n"
          ]
        }
      ]
    },
    {
      "cell_type": "markdown",
      "source": [
        "**Rule_to_create_variables**\n",
        "\n",
        "**There are 4 rules**"
      ],
      "metadata": {
        "id": "WxYodjeQ0vLq"
      }
    },
    {
      "cell_type": "markdown",
      "source": [
        "- `Rule_no_1:Variable should not start with number, if you want to start with number you need to start with underscore."
      ],
      "metadata": {
        "id": "K8CNQc3r1Aym"
      }
    },
    {
      "cell_type": "code",
      "source": [
        "_9a=100\n",
        "print(_9a)"
      ],
      "metadata": {
        "colab": {
          "base_uri": "https://localhost:8080/"
        },
        "id": "hA3-dDfU1gZT",
        "outputId": "dcc16285-46bd-4665-c98d-427c42b32f54"
      },
      "execution_count": null,
      "outputs": [
        {
          "output_type": "stream",
          "name": "stdout",
          "text": [
            "100\n"
          ]
        }
      ]
    },
    {
      "cell_type": "code",
      "source": [
        "9a=100\n",
        "print(9a)"
      ],
      "metadata": {
        "colab": {
          "base_uri": "https://localhost:8080/",
          "height": 106
        },
        "id": "lW3eF2aL1swe",
        "outputId": "1cda746d-1a82-4021-a54e-a9a47ce02069"
      },
      "execution_count": null,
      "outputs": [
        {
          "output_type": "error",
          "ename": "SyntaxError",
          "evalue": "invalid decimal literal (<ipython-input-12-0b1a4db0701e>, line 1)",
          "traceback": [
            "\u001b[0;36m  File \u001b[0;32m\"<ipython-input-12-0b1a4db0701e>\"\u001b[0;36m, line \u001b[0;32m1\u001b[0m\n\u001b[0;31m    9a=100\u001b[0m\n\u001b[0m    ^\u001b[0m\n\u001b[0;31mSyntaxError\u001b[0m\u001b[0;31m:\u001b[0m invalid decimal literal\n"
          ]
        }
      ]
    },
    {
      "cell_type": "markdown",
      "source": [
        "- `Rule_no_2: Variable should be single word or single character, it should not be multiple words, if want you need to write with underscore.\n"
      ],
      "metadata": {
        "id": "9lkYgvpI1xL9"
      }
    },
    {
      "cell_type": "code",
      "source": [
        "sai krupa=100\n",
        "print(sai krupa)"
      ],
      "metadata": {
        "colab": {
          "base_uri": "https://localhost:8080/",
          "height": 106
        },
        "id": "wyjA3pq32IxE",
        "outputId": "83e5eee7-9ca2-4de7-ffc4-588c76f4add3"
      },
      "execution_count": null,
      "outputs": [
        {
          "output_type": "error",
          "ename": "SyntaxError",
          "evalue": "invalid syntax (<ipython-input-13-d83a7b70aff0>, line 1)",
          "traceback": [
            "\u001b[0;36m  File \u001b[0;32m\"<ipython-input-13-d83a7b70aff0>\"\u001b[0;36m, line \u001b[0;32m1\u001b[0m\n\u001b[0;31m    sai krupa=100\u001b[0m\n\u001b[0m        ^\u001b[0m\n\u001b[0;31mSyntaxError\u001b[0m\u001b[0;31m:\u001b[0m invalid syntax\n"
          ]
        }
      ]
    },
    {
      "cell_type": "code",
      "source": [
        "sai_krupa=100\n",
        "print(sai_krupa)"
      ],
      "metadata": {
        "colab": {
          "base_uri": "https://localhost:8080/"
        },
        "id": "wtj3wVD12NdU",
        "outputId": "2d10fafa-e1f1-4d40-bbb3-8fe6978f3404"
      },
      "execution_count": null,
      "outputs": [
        {
          "output_type": "stream",
          "name": "stdout",
          "text": [
            "100\n"
          ]
        }
      ]
    },
    {
      "cell_type": "markdown",
      "source": [
        "- `Rule_no_3:Python Variables are completely case sensitive..\n",
        "case sensitive -> capital letters and small letters."
      ],
      "metadata": {
        "id": "CLKjJx9H2V_b"
      }
    },
    {
      "cell_type": "code",
      "source": [
        "name='sai'\n",
        "print(NAME)"
      ],
      "metadata": {
        "colab": {
          "base_uri": "https://localhost:8080/",
          "height": 158
        },
        "id": "_PqLuWWk3Fjc",
        "outputId": "ef9c17dc-2b2b-4ac5-f51c-9c9c04c54f60"
      },
      "execution_count": null,
      "outputs": [
        {
          "output_type": "error",
          "ename": "NameError",
          "evalue": "name 'NAME' is not defined",
          "traceback": [
            "\u001b[0;31m---------------------------------------------------------------------------\u001b[0m",
            "\u001b[0;31mNameError\u001b[0m                                 Traceback (most recent call last)",
            "\u001b[0;32m<ipython-input-15-f7fa676e46ac>\u001b[0m in \u001b[0;36m<cell line: 2>\u001b[0;34m()\u001b[0m\n\u001b[1;32m      1\u001b[0m \u001b[0mname\u001b[0m\u001b[0;34m=\u001b[0m\u001b[0;34m'sai'\u001b[0m\u001b[0;34m\u001b[0m\u001b[0;34m\u001b[0m\u001b[0m\n\u001b[0;32m----> 2\u001b[0;31m \u001b[0mprint\u001b[0m\u001b[0;34m(\u001b[0m\u001b[0mNAME\u001b[0m\u001b[0;34m)\u001b[0m\u001b[0;34m\u001b[0m\u001b[0;34m\u001b[0m\u001b[0m\n\u001b[0m",
            "\u001b[0;31mNameError\u001b[0m: name 'NAME' is not defined"
          ]
        }
      ]
    },
    {
      "cell_type": "code",
      "source": [
        "name='sai'\n",
        "print(name)"
      ],
      "metadata": {
        "colab": {
          "base_uri": "https://localhost:8080/"
        },
        "id": "tlVW8eg73R9j",
        "outputId": "9cb13d80-822f-4e7e-8cee-d155ef5a36e7"
      },
      "execution_count": null,
      "outputs": [
        {
          "output_type": "stream",
          "name": "stdout",
          "text": [
            "sai\n"
          ]
        }
      ]
    },
    {
      "cell_type": "markdown",
      "source": [
        "- `Rule_no_4: We should **not** use below punctuations as a variable.\n",
        "\n",
        "**!@#$%^&*()_+-/:;,.'<=>?\"{}[]|~**"
      ],
      "metadata": {
        "id": "-oVKvbLc3YQZ"
      }
    },
    {
      "cell_type": "code",
      "source": [
        "$=100\n",
        "print($)"
      ],
      "metadata": {
        "colab": {
          "base_uri": "https://localhost:8080/",
          "height": 106
        },
        "id": "2LEcz7Gv4QiK",
        "outputId": "df5520da-e562-42bc-f657-23cdafcb441c"
      },
      "execution_count": null,
      "outputs": [
        {
          "output_type": "error",
          "ename": "SyntaxError",
          "evalue": "invalid syntax (<ipython-input-17-3f2f11bdfa5a>, line 1)",
          "traceback": [
            "\u001b[0;36m  File \u001b[0;32m\"<ipython-input-17-3f2f11bdfa5a>\"\u001b[0;36m, line \u001b[0;32m1\u001b[0m\n\u001b[0;31m    $=100\u001b[0m\n\u001b[0m    ^\u001b[0m\n\u001b[0;31mSyntaxError\u001b[0m\u001b[0;31m:\u001b[0m invalid syntax\n"
          ]
        }
      ]
    },
    {
      "cell_type": "markdown",
      "source": [
        "**The example for variable is**"
      ],
      "metadata": {
        "id": "0aELMzLX4YLa"
      }
    },
    {
      "cell_type": "code",
      "source": [
        "a=100\n",
        "b=55.65\n",
        "c='sai'\n",
        "print(a)"
      ],
      "metadata": {
        "colab": {
          "base_uri": "https://localhost:8080/"
        },
        "id": "-n1AItqx4cR7",
        "outputId": "15e6e531-1646-4095-b056-887c49a7c20d"
      },
      "execution_count": null,
      "outputs": [
        {
          "output_type": "stream",
          "name": "stdout",
          "text": [
            "100\n"
          ]
        }
      ]
    },
    {
      "cell_type": "code",
      "source": [
        "a=100\n",
        "b=a\n",
        "a=a+100\n",
        "print(a)\n",
        "print(b)"
      ],
      "metadata": {
        "colab": {
          "base_uri": "https://localhost:8080/"
        },
        "id": "iLNrW7fdScGl",
        "outputId": "3633320e-6d89-49ab-e66f-4d6447510476"
      },
      "execution_count": null,
      "outputs": [
        {
          "output_type": "stream",
          "name": "stdout",
          "text": [
            "200\n",
            "100\n"
          ]
        }
      ]
    },
    {
      "cell_type": "code",
      "source": [
        "a=10\n",
        "b=a\n",
        "a=a+100\n",
        "print(a)\n",
        "print(b)\n",
        "print(id(a))\n",
        "print(id(b))"
      ],
      "metadata": {
        "colab": {
          "base_uri": "https://localhost:8080/"
        },
        "id": "dqCBJ27USXo_",
        "outputId": "e3cd28b5-f805-4773-f2b5-f4b1c1387af5"
      },
      "execution_count": null,
      "outputs": [
        {
          "output_type": "stream",
          "name": "stdout",
          "text": [
            "110\n",
            "10\n",
            "133260079058576\n",
            "133260079055376\n"
          ]
        }
      ]
    },
    {
      "cell_type": "code",
      "source": [
        "a=10\n",
        "b=a\n",
        "\n",
        "print(a)\n",
        "print(b)\n",
        "print(id(a))\n",
        "print(id(b))"
      ],
      "metadata": {
        "colab": {
          "base_uri": "https://localhost:8080/"
        },
        "id": "rF0wbLD4SwEv",
        "outputId": "57acfe2f-6a53-4c01-92d9-2aa3d6d571cd"
      },
      "execution_count": null,
      "outputs": [
        {
          "output_type": "stream",
          "name": "stdout",
          "text": [
            "10\n",
            "10\n",
            "133260079055376\n",
            "133260079055376\n"
          ]
        }
      ]
    },
    {
      "cell_type": "code",
      "source": [],
      "metadata": {
        "id": "JPcJZ98fS04z"
      },
      "execution_count": null,
      "outputs": []
    }
  ]
}